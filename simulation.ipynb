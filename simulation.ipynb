{
 "cells": [
  {
   "cell_type": "code",
   "execution_count": 1,
   "metadata": {},
   "outputs": [],
   "source": [
    "import sys\n",
    "import torch\n",
    "import numpy as np\n",
    "import matplotlib.pyplot as plt"
   ]
  },
  {
   "cell_type": "code",
   "execution_count": 2,
   "metadata": {},
   "outputs": [],
   "source": [
    "sys.path.append('/envs')\n",
    "sys.path.append('/models')\n",
    "import envs.viper as vpr\n",
    "import models.models as models\n",
    "import models.dqn as dqn"
   ]
  },
  {
   "cell_type": "code",
   "execution_count": 3,
   "metadata": {},
   "outputs": [
    {
     "data": {
      "text/plain": [
       "<module 'models.dqn' from 'h:\\\\Coding Projects\\\\Python Projects\\\\Deep-XIV-Rotation\\\\models\\\\dqn.py'>"
      ]
     },
     "execution_count": 3,
     "metadata": {},
     "output_type": "execute_result"
    }
   ],
   "source": [
    "import importlib\n",
    "importlib.reload(vpr); importlib.reload(models); importlib.reload(dqn)"
   ]
  },
  {
   "cell_type": "code",
   "execution_count": 4,
   "metadata": {},
   "outputs": [
    {
     "name": "stdout",
     "output_type": "stream",
     "text": [
      "b123\n"
     ]
    }
   ],
   "source": [
    "viper_env = vpr.Viper(_sks = 798)"
   ]
  },
  {
   "cell_type": "code",
   "execution_count": 5,
   "metadata": {},
   "outputs": [],
   "source": [
    "torch.cuda.empty_cache()"
   ]
  },
  {
   "cell_type": "code",
   "execution_count": 6,
   "metadata": {},
   "outputs": [
    {
     "name": "stdout",
     "output_type": "stream",
     "text": [
      "Created model dense_v1 with 15 features and 9 actions.\n",
      "Model loaded onto cuda:0.\n",
      "==========================================================================================\n",
      "Layer (type:depth-idx)                   Output Shape              Param #\n",
      "==========================================================================================\n",
      "DenseNetV2                               [196, 9]                  --\n",
      "├─Sequential: 1-1                        [196, 9]                  --\n",
      "│    └─Linear: 2-1                       [196, 4096]               65,536\n",
      "│    └─ReLU: 2-2                         [196, 4096]               --\n",
      "│    └─Linear: 2-3                       [196, 4096]               16,781,312\n",
      "│    └─ReLU: 2-4                         [196, 4096]               --\n",
      "│    └─Linear: 2-5                       [196, 2048]               8,390,656\n",
      "│    └─BatchNorm1d: 2-6                  [196, 2048]               4,096\n",
      "│    └─ReLU: 2-7                         [196, 2048]               --\n",
      "│    └─Dropout: 2-8                      [196, 2048]               --\n",
      "│    └─Linear: 2-9                       [196, 1024]               2,098,176\n",
      "│    └─ReLU: 2-10                        [196, 1024]               --\n",
      "│    └─Dropout: 2-11                     [196, 1024]               --\n",
      "│    └─Linear: 2-12                      [196, 1024]               1,049,600\n",
      "│    └─ReLU: 2-13                        [196, 1024]               --\n",
      "│    └─Linear: 2-14                      [196, 1024]               1,049,600\n",
      "│    └─BatchNorm1d: 2-15                 [196, 1024]               2,048\n",
      "│    └─ReLU: 2-16                        [196, 1024]               --\n",
      "│    └─Linear: 2-17                      [196, 1024]               1,049,600\n",
      "│    └─ReLU: 2-18                        [196, 1024]               --\n",
      "│    └─Linear: 2-19                      [196, 1024]               1,049,600\n",
      "│    └─ReLU: 2-20                        [196, 1024]               --\n",
      "│    └─Linear: 2-21                      [196, 512]                524,800\n",
      "│    └─ReLU: 2-22                        [196, 512]                --\n",
      "│    └─Linear: 2-23                      [196, 9]                  4,617\n",
      "==========================================================================================\n",
      "Total params: 32,069,641\n",
      "Trainable params: 32,069,641\n",
      "Non-trainable params: 0\n",
      "Total mult-adds (Units.GIGABYTES): 6.29\n",
      "==========================================================================================\n",
      "Input size (MB): 0.01\n",
      "Forward/backward pass size (MB): 29.72\n",
      "Params size (MB): 128.28\n",
      "Estimated Total Size (MB): 158.01\n",
      "==========================================================================================\n"
     ]
    }
   ],
   "source": [
    "agent = dqn.DQN(viper_env, _max_history=2048)"
   ]
  },
  {
   "cell_type": "code",
   "execution_count": null,
   "metadata": {},
   "outputs": [],
   "source": [
    "action_sequence=[1, 3, 6, 8, 0, 2, 5, 0, 0]\n",
    "agent.env.reset_env()\n",
    "_sum = 0\n",
    "for a in action_sequence:\n",
    "    res = agent.env.step(a, True)\n",
    "    _sum+=res[0]\n",
    "    print(f'({res[0]:.2f}, {res[1]:.0f}, {res[2]:.2f})')\n",
    "print(_sum)"
   ]
  },
  {
   "cell_type": "code",
   "execution_count": null,
   "metadata": {},
   "outputs": [],
   "source": [
    "agent.env.reset_env()\n",
    "print(agent.env.state())\n",
    "print(agent.env.valid_actions())\n",
    "print([np.random.choice(agent.env.valid_actions()[1])])\n",
    "print(agent.env.gcd)"
   ]
  },
  {
   "cell_type": "code",
   "execution_count": null,
   "metadata": {},
   "outputs": [],
   "source": [
    "agent.get_action(agent.env.state(), e=1)[0]"
   ]
  },
  {
   "cell_type": "code",
   "execution_count": 10,
   "metadata": {},
   "outputs": [
    {
     "name": "stdout",
     "output_type": "stream",
     "text": [
      "Epoch 0 Loss: 9.69e-05 E_0: 0.12 E_1: 0.25 G: 0.80 Rewards: 1.4 Eval Rewards: 31.96, LR: 5.0e-05 SKS: 528\n",
      "Epoch 1 Loss: 9.36e-05 E_0: 0.12 E_1: 0.25 G: 0.80 Rewards: 4.8 Eval Rewards: 31.96, LR: 5.0e-05 SKS: 528\n",
      "Epoch 2 Loss: 9.60e-05 E_0: 0.12 E_1: 0.25 G: 0.80 Rewards: -1.7 Eval Rewards: 31.96, LR: 5.0e-05 SKS: 528\n",
      "Epoch 3 Loss: 9.22e-05 E_0: 0.12 E_1: 0.25 G: 0.80 Rewards: 1.2 Eval Rewards: 31.94, LR: 5.0e-05 SKS: 420\n",
      "Epoch 4 Loss: 9.33e-05 E_0: 0.13 E_1: 0.25 G: 0.80 Rewards: 2.6 Eval Rewards: 31.97, LR: 5.0e-05 SKS: 582\n",
      "Epoch 5 Loss: 9.45e-05 E_0: 0.13 E_1: 0.25 G: 0.80 Rewards: 4.8 Eval Rewards: 31.97, LR: 5.0e-05 SKS: 582\n",
      "Epoch 6 Loss: 9.08e-05 E_0: 0.13 E_1: 0.25 G: 0.80 Rewards: 8.8 Eval Rewards: 33.57, LR: 5.0e-05 SKS: 420\n",
      "Epoch 7 Loss: 9.66e-05 E_0: 0.13 E_1: 0.25 G: 0.80 Rewards: 6.7 Eval Rewards: 31.99, LR: 5.0e-05 SKS: 822\n",
      "Epoch 8 Loss: 9.95e-05 E_0: 0.13 E_1: 0.25 G: 0.80 Rewards: 1.6 Eval Rewards: 31.97, LR: 5.0e-05 SKS: 582\n",
      "Epoch 9 Loss: 9.99e-05 E_0: 0.14 E_1: 0.25 G: 0.80 Rewards: 3.9 Eval Rewards: 31.96, LR: 5.0e-05 SKS: 528\n",
      "Epoch 10 Loss: 1.07e-04 E_0: 0.14 E_1: 0.25 G: 0.80 Rewards: 8.3 Eval Rewards: 31.96, LR: 5.0e-05 SKS: 528\n",
      "Epoch 11 Loss: 1.02e-04 E_0: 0.14 E_1: 0.24 G: 0.80 Rewards: -0.8 Eval Rewards: 33.57, LR: 5.0e-05 SKS: 420\n",
      "Epoch 12 Loss: 1.03e-04 E_0: 0.14 E_1: 0.24 G: 0.80 Rewards: 8.4 Eval Rewards: 31.98, LR: 5.0e-05 SKS: 768\n",
      "Epoch 13 Loss: 1.01e-04 E_0: 0.14 E_1: 0.24 G: 0.80 Rewards: -5.9 Eval Rewards: 33.60, LR: 5.0e-05 SKS: 528\n"
     ]
    },
    {
     "name": "stderr",
     "output_type": "stream",
     "text": [
      "c:\\Users\\nickb\\anaconda3\\envs\\deepxiv\\Lib\\site-packages\\torch\\optim\\lr_scheduler.py:232: UserWarning: The epoch parameter in `scheduler.step()` was not necessary and is being deprecated where possible. Please use `scheduler.step()` to step the scheduler. During the deprecation, if epoch is different from None, the closed form is used instead of the new chainable form, where available. Please open an issue if you are unable to replicate your use case: https://github.com/pytorch/pytorch/issues/new/choose.\n",
      "  warnings.warn(EPOCH_DEPRECATION_WARNING, UserWarning)\n"
     ]
    },
    {
     "name": "stdout",
     "output_type": "stream",
     "text": [
      "Epoch 14 Loss: 1.03e-04 E_0: 0.15 E_1: 0.24 G: 0.80 Rewards: -1.7 Eval Rewards: 31.94, LR: 5.0e-05 SKS: 420\n",
      "Epoch 15 Loss: 9.95e-05 E_0: 0.15 E_1: 0.24 G: 0.80 Rewards: -0.4 Eval Rewards: 33.60, LR: 5.0e-05 SKS: 582\n",
      "Epoch 16 Loss: 9.65e-05 E_0: 0.15 E_1: 0.24 G: 0.80 Rewards: -4.0 Eval Rewards: 33.60, LR: 5.0e-05 SKS: 528\n",
      "Epoch 17 Loss: 9.69e-05 E_0: 0.15 E_1: 0.24 G: 0.80 Rewards: -3.1 Eval Rewards: 31.97, LR: 5.0e-05 SKS: 582\n",
      "Epoch 18 Loss: 9.70e-05 E_0: 0.16 E_1: 0.24 G: 0.80 Rewards: 4.6 Eval Rewards: 31.99, LR: 5.0e-05 SKS: 822\n",
      "Epoch 19 Loss: 1.02e-04 E_0: 0.16 E_1: 0.24 G: 0.80 Rewards: -6.0 Eval Rewards: 31.94, LR: 5.0e-05 SKS: 420\n",
      "Epoch 20 Loss: 9.82e-05 E_0: 0.16 E_1: 0.24 G: 0.80 Rewards: -2.9 Eval Rewards: 31.97, LR: 5.0e-05 SKS: 582\n",
      "Epoch 21 Loss: 9.91e-05 E_0: 0.16 E_1: 0.24 G: 0.80 Rewards: 2.1 Eval Rewards: 31.94, LR: 5.0e-05 SKS: 420\n",
      "Epoch 22 Loss: 9.74e-05 E_0: 0.16 E_1: 0.24 G: 0.80 Rewards: -0.6 Eval Rewards: 31.98, LR: 4.9e-05 SKS: 768\n",
      "Epoch 23 Loss: 9.96e-05 E_0: 0.17 E_1: 0.23 G: 0.80 Rewards: 3.4 Eval Rewards: 31.98, LR: 4.9e-05 SKS: 768\n",
      "Epoch 24 Loss: 9.41e-05 E_0: 0.17 E_1: 0.23 G: 0.80 Rewards: 1.4 Eval Rewards: 31.97, LR: 4.9e-05 SKS: 582\n",
      "Done\n"
     ]
    }
   ],
   "source": [
    "agent.train(gamma=0.80, num_epochs=25, session_limit=100)"
   ]
  },
  {
   "cell_type": "code",
   "execution_count": 12,
   "metadata": {},
   "outputs": [
    {
     "data": {
      "image/png": "[encoded data removed]",
      "text/plain": [
       "<Figure size 640x480 with 1 Axes>"
      ]
     },
     "metadata": {},
     "output_type": "display_data"
    }
   ],
   "source": [
    "history_x = agent.training_history_x\n",
    "history_y = agent.training_history_y\n",
    "fig, ax = plt.subplots()\n",
    "fig.suptitle(f'Rewards {agent.model_name} LR: {agent.lr:.1e}')\n",
    "ax.plot(history_x, history_y)\n",
    "ax.legend(['Train Rewards', 'Eval Rewards'])\n",
    "ax.set_xlabel('Epoch')\n",
    "ax.set_ylabel('Rewards')\n",
    "plt.savefig('rewards_graph.png', bbox_inches='tight')\n",
    "plt.show()"
   ]
  },
  {
   "cell_type": "code",
   "execution_count": 7,
   "metadata": {},
   "outputs": [
    {
     "name": "stderr",
     "output_type": "stream",
     "text": [
      "h:\\Coding Projects\\Python Projects\\Deep-XIV-Rotation\\models\\dqn.py:292: FutureWarning: You are using `torch.load` with `weights_only=False` (the current default value), which uses the default pickle module implicitly. It is possible to construct malicious pickle data which will execute arbitrary code during unpickling (See https://github.com/pytorch/pytorch/blob/main/SECURITY.md#untrusted-models for more details). In a future release, the default value for `weights_only` will be flipped to `True`. This limits the functions that could be executed during unpickling. Arbitrary objects will no longer be allowed to be loaded via this mode unless they are explicitly allowlisted by the user via `torch.serialization.add_safe_globals`. We recommend you start setting `weights_only=True` for any use case where you don't have full control of the loaded file. Please open an issue on GitHub for any issues related to this experimental feature.\n",
      "  checkpoint = torch.load(path)\n"
     ]
    }
   ],
   "source": [
    "agent.load_checkpoint(f'./checkpoints/_{agent.model_name}_last.pth')"
   ]
  },
  {
   "cell_type": "code",
   "execution_count": null,
   "metadata": {},
   "outputs": [],
   "source": [
    "viper_env.compute_gcd(2.5, 798, 15)"
   ]
  },
  {
   "cell_type": "code",
   "execution_count": null,
   "metadata": {},
   "outputs": [],
   "source": [
    "# 2.12, 2.11, 2.10, 2.09, 2.08\n",
    "#[420, 528, 582, 768, 822]\n",
    "agent.test(num_steps=50, _sks=420)"
   ]
  },
  {
   "cell_type": "code",
   "execution_count": null,
   "metadata": {},
   "outputs": [],
   "source": [
    "pred = agent.predict(agent.env.state())\n",
    "pred"
   ]
  },
  {
   "cell_type": "code",
   "execution_count": null,
   "metadata": {},
   "outputs": [],
   "source": [
    "agent.env.reset_env()\n",
    "pred = agent.predict(agent.env.state())\n",
    "pred"
   ]
  },
  {
   "cell_type": "code",
   "execution_count": null,
   "metadata": {},
   "outputs": [],
   "source": [
    "agent.env.state()"
   ]
  },
  {
   "cell_type": "markdown",
   "metadata": {},
   "source": [
    "terraform aws\n",
    "kubernites\n",
    "helm?\n",
    "look into"
   ]
  },
  {
   "cell_type": "markdown",
   "metadata": {},
   "source": []
  }
 ],
 "metadata": {
  "kernelspec": {
   "display_name": "deepxiv",
   "language": "python",
   "name": "python3"
  },
  "language_info": {
   "codemirror_mode": {
    "name": "ipython",
    "version": 3
   },
   "file_extension": ".py",
   "mimetype": "text/x-python",
   "name": "python",
   "nbconvert_exporter": "python",
   "pygments_lexer": "ipython3",
   "version": "3.12.4"
  }
 },
 "nbformat": 4,
 "nbformat_minor": 2
}
