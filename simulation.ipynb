{
 "cells": [
  {
   "cell_type": "code",
   "execution_count": 207,
   "metadata": {},
   "outputs": [],
   "source": [
    "import sys\n",
    "import torch"
   ]
  },
  {
   "cell_type": "code",
   "execution_count": 208,
   "metadata": {},
   "outputs": [],
   "source": [
    "sys.path.append('/envs')\n",
    "sys.path.append('/models')\n",
    "import envs.viper as vpr\n",
    "import models.models as models\n",
    "import models.dqn as dqn"
   ]
  },
  {
   "cell_type": "code",
   "execution_count": 209,
   "metadata": {},
   "outputs": [
    {
     "data": {
      "text/plain": [
       "<module 'models.dqn' from 'h:\\\\Coding Projects\\\\Python Projects\\\\Deep-XIV-Rotation\\\\models\\\\dqn.py'>"
      ]
     },
     "execution_count": 209,
     "metadata": {},
     "output_type": "execute_result"
    }
   ],
   "source": [
    "import importlib\n",
    "importlib.reload(vpr); importlib.reload(models); importlib.reload(dqn)"
   ]
  },
  {
   "cell_type": "code",
   "execution_count": 210,
   "metadata": {},
   "outputs": [
    {
     "name": "stdout",
     "output_type": "stream",
     "text": [
      "b123\n"
     ]
    }
   ],
   "source": [
    "viper_env = vpr.Viper()"
   ]
  },
  {
   "cell_type": "code",
   "execution_count": 211,
   "metadata": {},
   "outputs": [
    {
     "data": {
      "text/plain": [
       "11"
      ]
     },
     "execution_count": 211,
     "metadata": {},
     "output_type": "execute_result"
    }
   ],
   "source": [
    "viper_env.get_max_actions()"
   ]
  },
  {
   "cell_type": "code",
   "execution_count": 212,
   "metadata": {},
   "outputs": [
    {
     "data": {
      "text/plain": [
       "torch.Size([7])"
      ]
     },
     "execution_count": 212,
     "metadata": {},
     "output_type": "execute_result"
    }
   ],
   "source": [
    "viper_env.get_state_shape()"
   ]
  },
  {
   "cell_type": "code",
   "execution_count": 213,
   "metadata": {},
   "outputs": [
    {
     "data": {
      "text/plain": [
       "tensor([[ 0.0000,  2.5000, 10.0000,  0.0000,  0.0000,  0.0000,  0.0000]])"
      ]
     },
     "execution_count": 213,
     "metadata": {},
     "output_type": "execute_result"
    }
   ],
   "source": [
    "state = viper_env.state()\n",
    "state[None, :]"
   ]
  },
  {
   "cell_type": "code",
   "execution_count": 214,
   "metadata": {},
   "outputs": [
    {
     "data": {
      "text/plain": [
       "tensor([[ 0.0000,  2.5000, 10.0000,  0.0000,  0.0000,  0.0000,  0.0000]])"
      ]
     },
     "execution_count": 214,
     "metadata": {},
     "output_type": "execute_result"
    }
   ],
   "source": [
    "state.unsqueeze(0)"
   ]
  },
  {
   "cell_type": "code",
   "execution_count": 215,
   "metadata": {},
   "outputs": [
    {
     "name": "stdout",
     "output_type": "stream",
     "text": [
      "==========================================================================================\n",
      "Layer (type:depth-idx)                   Output Shape              Param #\n",
      "==========================================================================================\n",
      "DenseNet                                 [8, 11]                   --\n",
      "├─Linear: 1-1                            [8, 2048]                 16,384\n",
      "├─Linear: 1-2                            [8, 11]                   22,539\n",
      "==========================================================================================\n",
      "Total params: 38,923\n",
      "Trainable params: 38,923\n",
      "Non-trainable params: 0\n",
      "Total mult-adds (Units.MEGABYTES): 0.31\n",
      "==========================================================================================\n",
      "Input size (MB): 0.00\n",
      "Forward/backward pass size (MB): 0.13\n",
      "Params size (MB): 0.16\n",
      "Estimated Total Size (MB): 0.29\n",
      "==========================================================================================\n"
     ]
    }
   ],
   "source": [
    "agent = dqn.DQN(viper_env)"
   ]
  },
  {
   "cell_type": "code",
   "execution_count": 216,
   "metadata": {},
   "outputs": [
    {
     "data": {
      "text/plain": [
       "device(type='cpu')"
      ]
     },
     "execution_count": 216,
     "metadata": {},
     "output_type": "execute_result"
    }
   ],
   "source": [
    "torch.device('cpu')"
   ]
  },
  {
   "cell_type": "code",
   "execution_count": 217,
   "metadata": {},
   "outputs": [
    {
     "name": "stdout",
     "output_type": "stream",
     "text": [
      "tensor([[3.7735e-01, 6.3062e-01, 4.3049e-01, 2.0442e-01, 8.3105e-01, 3.8757e-01,\n",
      "         8.7209e-02],\n",
      "        [1.2344e-01, 3.3836e-01, 4.6843e-04, 8.4835e-01, 1.8654e-01, 8.6744e-01,\n",
      "         3.1502e-01],\n",
      "        [7.0367e-01, 8.8972e-01, 9.9454e-01, 6.9192e-02, 7.5608e-02, 4.9730e-01,\n",
      "         2.9389e-02],\n",
      "        [2.7790e-01, 1.7241e-01, 6.9930e-01, 9.4985e-01, 7.4527e-02, 5.7145e-01,\n",
      "         7.4276e-01],\n",
      "        [6.7581e-02, 1.5096e-01, 8.9939e-01, 4.3687e-01, 2.2044e-01, 4.0554e-01,\n",
      "         2.9278e-01]])\n",
      "tensor([3, 1, 9, 5, 5], dtype=torch.int32)\n"
     ]
    }
   ],
   "source": [
    "inputs = torch.rand(5, viper_env.get_state_shape()[0])\n",
    "print(inputs)\n",
    "preds = agent.get_action(inputs)\n",
    "print(preds)"
   ]
  },
  {
   "cell_type": "code",
   "execution_count": 218,
   "metadata": {},
   "outputs": [
    {
     "name": "stdout",
     "output_type": "stream",
     "text": [
      "Taking action steel_fangs\n",
      "193.0\n"
     ]
    },
    {
     "data": {
      "text/plain": [
       "tensor([ 0.7000,  2.5000,  0.7000,  1.0000, 59.3000,  0.0000,  0.0000])"
      ]
     },
     "execution_count": 218,
     "metadata": {},
     "output_type": "execute_result"
    }
   ],
   "source": [
    "print(viper_env.step(1))\n",
    "viper_env.state()"
   ]
  },
  {
   "cell_type": "code",
   "execution_count": 219,
   "metadata": {},
   "outputs": [
    {
     "name": "stdout",
     "output_type": "stream",
     "text": [
      "Taking action nothing\n",
      "-1.0\n"
     ]
    },
    {
     "data": {
      "text/plain": [
       "tensor([ 0.8000,  2.5000,  0.8000,  1.0000, 59.2000,  0.0000,  0.0000])"
      ]
     },
     "execution_count": 219,
     "metadata": {},
     "output_type": "execute_result"
    }
   ],
   "source": [
    "print(viper_env.step(0))\n",
    "viper_env.state()"
   ]
  },
  {
   "cell_type": "code",
   "execution_count": 220,
   "metadata": {},
   "outputs": [
    {
     "name": "stdout",
     "output_type": "stream",
     "text": [
      "Taking action hunters_sting\n",
      "306.0\n"
     ]
    },
    {
     "data": {
      "text/plain": [
       "tensor([ 3.2000,  2.5000,  0.7000,  2.0000, 56.8000,  0.0000, 40.0000])"
      ]
     },
     "execution_count": 220,
     "metadata": {},
     "output_type": "execute_result"
    }
   ],
   "source": [
    "print(viper_env.step(3))\n",
    "viper_env.state()"
   ]
  },
  {
   "cell_type": "code",
   "execution_count": null,
   "metadata": {},
   "outputs": [],
   "source": []
  }
 ],
 "metadata": {
  "kernelspec": {
   "display_name": "deepxiv",
   "language": "python",
   "name": "python3"
  },
  "language_info": {
   "codemirror_mode": {
    "name": "ipython",
    "version": 3
   },
   "file_extension": ".py",
   "mimetype": "text/x-python",
   "name": "python",
   "nbconvert_exporter": "python",
   "pygments_lexer": "ipython3",
   "version": "3.12.4"
  }
 },
 "nbformat": 4,
 "nbformat_minor": 2
}
