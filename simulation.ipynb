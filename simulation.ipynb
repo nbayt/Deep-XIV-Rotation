{
 "cells": [
  {
   "cell_type": "code",
   "execution_count": 1,
   "metadata": {},
   "outputs": [],
   "source": [
    "import sys\n",
    "import torch\n",
    "import numpy as np\n",
    "import matplotlib.pyplot as plt"
   ]
  },
  {
   "cell_type": "code",
   "execution_count": 2,
   "metadata": {},
   "outputs": [],
   "source": [
    "sys.path.append('/envs')\n",
    "sys.path.append('/models')\n",
    "import envs.viper as vpr\n",
    "import models.models as models\n",
    "import models.dqn as dqn"
   ]
  },
  {
   "cell_type": "code",
   "execution_count": 3,
   "metadata": {},
   "outputs": [
    {
     "data": {
      "text/plain": [
       "<module 'models.dqn' from 'h:\\\\Coding Projects\\\\Python Projects\\\\Deep-XIV-Rotation\\\\models\\\\dqn.py'>"
      ]
     },
     "execution_count": 3,
     "metadata": {},
     "output_type": "execute_result"
    }
   ],
   "source": [
    "import importlib\n",
    "importlib.reload(vpr); importlib.reload(models); importlib.reload(dqn)"
   ]
  },
  {
   "cell_type": "code",
   "execution_count": 4,
   "metadata": {},
   "outputs": [],
   "source": [
    "torch.cuda.empty_cache()"
   ]
  },
  {
   "cell_type": "code",
   "execution_count": 5,
   "metadata": {},
   "outputs": [
    {
     "name": "stdout",
     "output_type": "stream",
     "text": [
      "b123\n"
     ]
    }
   ],
   "source": [
    "viper_env = vpr.Viper(_sks = 798)"
   ]
  },
  {
   "cell_type": "code",
   "execution_count": 6,
   "metadata": {},
   "outputs": [
    {
     "name": "stderr",
     "output_type": "stream",
     "text": [
      "h:\\Coding Projects\\Python Projects\\Deep-XIV-Rotation\\models\\models.py:266: UserWarning: To copy construct from a tensor, it is recommended to use sourceTensor.clone().detach() or sourceTensor.clone().detach().requires_grad_(True), rather than torch.tensor(sourceTensor).\n",
      "  self.pos_embed = nn.Parameter(torch.tensor(self.get_positional_embeddings(_his_len + 1, self.hidden_dim)))\n"
     ]
    },
    {
     "name": "stdout",
     "output_type": "stream",
     "text": [
      "Created model transnet_v1 with 15 features and 9 actions.\n",
      "Model loaded onto cuda:0.\n",
      "===============================================================================================\n",
      "Layer (type:depth-idx)                        Output Shape              Param #\n",
      "===============================================================================================\n",
      "TransformerNetv1                              [196, 9]                  4,929,920\n",
      "├─Sequential: 1-1                             [196, 8, 640]             --\n",
      "│    └─Linear: 2-1                            [196, 8, 512]             8,192\n",
      "│    └─SELU: 2-2                              [196, 8, 512]             --\n",
      "│    └─Linear: 2-3                            [196, 8, 256]             131,328\n",
      "│    └─ReLU: 2-4                              [196, 8, 256]             --\n",
      "│    └─Linear: 2-5                            [196, 8, 256]             65,792\n",
      "│    └─SELU: 2-6                              [196, 8, 256]             --\n",
      "│    └─Linear: 2-7                            [196, 8, 256]             65,792\n",
      "│    └─BatchNorm1d: 2-8                       [196, 8, 256]             16\n",
      "│    └─ReLU: 2-9                              [196, 8, 256]             --\n",
      "│    └─Linear: 2-10                           [196, 8, 2560]            657,920\n",
      "│    └─ReLU: 2-11                             [196, 8, 2560]            --\n",
      "│    └─Linear: 2-12                           [196, 8, 640]             1,639,040\n",
      "│    └─SELU: 2-13                             [196, 8, 640]             --\n",
      "│    └─Dropout: 2-14                          [196, 8, 640]             --\n",
      "├─TransformerEncoder: 1-2                     [196, 9, 640]             --\n",
      "│    └─ModuleList: 2-15                       --                        --\n",
      "│    │    └─TransformerEncoderLayer: 3-1      [196, 9, 640]             4,923,520\n",
      "│    │    └─TransformerEncoderLayer: 3-2      [196, 9, 640]             4,923,520\n",
      "│    │    └─TransformerEncoderLayer: 3-3      [196, 9, 640]             4,923,520\n",
      "│    │    └─TransformerEncoderLayer: 3-4      [196, 9, 640]             4,923,520\n",
      "│    │    └─TransformerEncoderLayer: 3-5      [196, 9, 640]             4,923,520\n",
      "│    │    └─TransformerEncoderLayer: 3-6      [196, 9, 640]             4,923,520\n",
      "├─Sequential: 1-3                             [196, 9]                  --\n",
      "│    └─Linear: 2-16                           [196, 2048]               1,312,768\n",
      "│    └─ReLU: 2-17                             [196, 2048]               --\n",
      "│    └─Linear: 2-18                           [196, 2048]               4,196,352\n",
      "│    └─BatchNorm1d: 2-19                      [196, 2048]               4,096\n",
      "│    └─ReLU: 2-20                             [196, 2048]               --\n",
      "│    └─Linear: 2-21                           [196, 2048]               4,196,352\n",
      "│    └─ReLU: 2-22                             [196, 2048]               --\n",
      "│    └─Linear: 2-23                           [196, 1024]               2,098,176\n",
      "│    └─SELU: 2-24                             [196, 1024]               --\n",
      "│    └─Linear: 2-25                           [196, 9]                  9,225\n",
      "===============================================================================================\n",
      "Total params: 48,856,089\n",
      "Trainable params: 48,850,329\n",
      "Non-trainable params: 5,760\n",
      "Total mult-adds (Units.GIGABYTES): 2.82\n",
      "===============================================================================================\n",
      "Input size (MB): 0.09\n",
      "Forward/backward pass size (MB): 73.87\n",
      "Params size (MB): 57.54\n",
      "Estimated Total Size (MB): 131.51\n",
      "===============================================================================================\n"
     ]
    },
    {
     "name": "stderr",
     "output_type": "stream",
     "text": [
      "c:\\Users\\nickb\\anaconda3\\envs\\deepxiv\\Lib\\site-packages\\torch\\nn\\modules\\transformer.py:720: UserWarning: 1Torch was not compiled with flash attention. (Triggered internally at C:\\cb\\pytorch_1000000000000\\work\\aten\\src\\ATen\\native\\transformers\\cuda\\sdp_utils.cpp:555.)\n",
      "  return torch._transformer_encoder_layer_fwd(\n"
     ]
    }
   ],
   "source": [
    "agent = dqn.DQN(viper_env, _max_history=8192)"
   ]
  },
  {
   "cell_type": "code",
   "execution_count": 7,
   "metadata": {},
   "outputs": [
    {
     "name": "stdout",
     "output_type": "stream",
     "text": [
      "Took action: 1-reaving_fangs @ 0.000\n",
      "(0.43, 200, 206.95)\n",
      "Took action: 3-swiftskins_sting @ 2.450\n",
      "(0.61, 300, 287.60)\n",
      "Took action: 6-hindsting_strike @ 4.900\n",
      "(0.83, 400, 382.94)\n",
      "Took action: 8-death_rattle @ 5.600\n",
      "(0.61, 280, 291.98)\n",
      "Took action: 0-steel_fangs @ 6.980\n",
      "(0.64, 300, 303.14)\n",
      "Took action: 2-hunters_sting @ 9.060\n",
      "(0.62, 300, 296.12)\n",
      "Took action: 5-flanksbane_fang @ 11.140\n",
      "(1.18, 550, 543.75)\n",
      "Took action: 0-steel_fangs @ 13.220\n",
      "(0.44, 220, 222.40)\n",
      "Took action: 0-steel_fangs @ 13.920\n",
      "(-0.23, 0, 0.00)\n",
      "5.126222222222222 0.5695802469135802\n"
     ]
    }
   ],
   "source": [
    "action_sequence=[1, 3, 6, 8, 0, 2, 5, 0, 0]\n",
    "agent.env.reset_env()\n",
    "_sum = 0\n",
    "for a in action_sequence:\n",
    "    res = agent.env.step(a, True)\n",
    "    _sum+=res[0]\n",
    "    print(f'({res[0]:.2f}, {res[1]:.0f}, {res[2]:.2f})')\n",
    "print(_sum, _sum / len(action_sequence))"
   ]
  },
  {
   "cell_type": "code",
   "execution_count": 8,
   "metadata": {},
   "outputs": [],
   "source": [
    "agent.reset_environment()"
   ]
  },
  {
   "cell_type": "code",
   "execution_count": null,
   "metadata": {},
   "outputs": [
    {
     "name": "stdout",
     "output_type": "stream",
     "text": [
      "Epoch 0 Loss: 7.12e-04 E_0: 0.00 E_1: 0.18 G: 0.80 Rewards: -3.7 Eval Rewards: -11.6[-0.23], LR: 1.0e-04 SKS: 822\n",
      "Epoch 1 Loss: 2.25e-04 E_0: 0.00 E_1: 0.18 G: 0.80 Rewards: -3.1 Eval Rewards: -11.6[-0.23], LR: 1.0e-04 SKS: 582\n",
      "Epoch 2 Loss: 1.75e-04 E_0: 0.00 E_1: 0.18 G: 0.80 Rewards: 0.4 Eval Rewards: -11.6[-0.23], LR: 1.0e-04 SKS: 420\n",
      "Epoch 3 Loss: 1.83e-04 E_0: 0.00 E_1: 0.19 G: 0.80 Rewards: 6.7 Eval Rewards: -11.6[-0.23], LR: 1.0e-04 SKS: 768\n",
      "Epoch 4 Loss: 1.83e-04 E_0: 0.00 E_1: 0.19 G: 0.80 Rewards: 2.2 Eval Rewards: -11.6[-0.23], LR: 1.0e-04 SKS: 420\n",
      "Epoch 5 Loss: 1.85e-04 E_0: 0.00 E_1: 0.19 G: 0.80 Rewards: 0.1 Eval Rewards: -11.6[-0.23], LR: 1.0e-04 SKS: 420\n",
      "Epoch 6 Loss: 1.83e-04 E_0: 0.00 E_1: 0.19 G: 0.80 Rewards: 2.6 Eval Rewards: -11.6[-0.23], LR: 1.0e-04 SKS: 528\n",
      "Epoch 7 Loss: 1.85e-04 E_0: 0.00 E_1: 0.19 G: 0.80 Rewards: -3.3 Eval Rewards: -11.6[-0.23], LR: 1.0e-04 SKS: 822\n",
      "Epoch 8 Loss: 1.81e-04 E_0: 0.00 E_1: 0.19 G: 0.80 Rewards: 3.1 Eval Rewards: -11.6[-0.23], LR: 1.0e-04 SKS: 768\n",
      "Epoch 9 Loss: 1.83e-04 E_0: 0.00 E_1: 0.20 G: 0.80 Rewards: 4.3 Eval Rewards: -11.6[-0.23], LR: 1.0e-04 SKS: 822\n",
      "Epoch 10 Loss: 1.79e-04 E_0: 0.00 E_1: 0.20 G: 0.80 Rewards: -4.7 Eval Rewards: -11.6[-0.23], LR: 1.0e-04 SKS: 420\n",
      "Epoch 11 Loss: 1.77e-04 E_0: 0.00 E_1: 0.20 G: 0.80 Rewards: -7.5 Eval Rewards: -11.6[-0.23], LR: 1.0e-04 SKS: 420\n",
      "Epoch 12 Loss: 1.74e-04 E_0: 0.00 E_1: 0.20 G: 0.80 Rewards: -4.3 Eval Rewards: -11.6[-0.23], LR: 1.0e-04 SKS: 528\n",
      "Epoch 13 Loss: 1.70e-04 E_0: 0.00 E_1: 0.20 G: 0.80 Rewards: 2.2 Eval Rewards: -11.6[-0.23], LR: 1.0e-04 SKS: 528\n",
      "Epoch 14 Loss: 1.69e-04 E_0: 0.00 E_1: 0.21 G: 0.80 Rewards: -3.7 Eval Rewards: -11.6[-0.23], LR: 1.0e-04 SKS: 420\n",
      "Epoch 15 Loss: 1.70e-04 E_0: 0.00 E_1: 0.21 G: 0.80 Rewards: -0.5 Eval Rewards: -11.6[-0.23], LR: 1.0e-04 SKS: 582\n",
      "Epoch 16 Loss: 1.74e-04 E_0: 0.00 E_1: 0.21 G: 0.80 Rewards: 2.7 Eval Rewards: -11.6[-0.23], LR: 1.0e-04 SKS: 420\n",
      "Epoch 17 Loss: 1.73e-04 E_0: 0.00 E_1: 0.21 G: 0.80 Rewards: 3.6 Eval Rewards: -11.6[-0.23], LR: 1.0e-04 SKS: 420\n",
      "Epoch 18 Loss: 1.72e-04 E_0: 0.00 E_1: 0.21 G: 0.80 Rewards: 1.8 Eval Rewards: -11.6[-0.23], LR: 1.0e-04 SKS: 582\n",
      "Epoch 19 Loss: 1.69e-04 E_0: 0.00 E_1: 0.21 G: 0.80 Rewards: -9.9 Eval Rewards: -11.6[-0.23], LR: 1.0e-04 SKS: 768\n",
      "Epoch 20 Loss: 1.75e-04 E_0: 0.00 E_1: 0.21 G: 0.80 Rewards: -2.4 Eval Rewards: -11.6[-0.23], LR: 1.0e-04 SKS: 582\n",
      "Epoch 21 Loss: 1.67e-04 E_0: 0.00 E_1: 0.22 G: 0.80 Rewards: -4.2 Eval Rewards: -11.6[-0.23], LR: 1.0e-04 SKS: 582\n",
      "Epoch 22 Loss: 1.66e-04 E_0: 0.00 E_1: 0.22 G: 0.80 Rewards: -2.4 Eval Rewards: -11.6[-0.23], LR: 1.0e-04 SKS: 582\n",
      "Epoch 23 Loss: 1.63e-04 E_0: 0.00 E_1: 0.22 G: 0.80 Rewards: 4.2 Eval Rewards: -11.6[-0.23], LR: 1.0e-04 SKS: 768\n",
      "Epoch 24 Loss: 1.64e-04 E_0: 0.00 E_1: 0.22 G: 0.80 Rewards: -6.5 Eval Rewards: -11.6[-0.23], LR: 1.0e-04 SKS: 768\n",
      "Epoch 25 Loss: 1.64e-04 E_0: 0.00 E_1: 0.22 G: 0.80 Rewards: -3.0 Eval Rewards: -11.6[-0.23], LR: 1.0e-04 SKS: 582\n",
      "Epoch 26 Loss: 1.65e-04 E_0: 0.00 E_1: 0.22 G: 0.80 Rewards: 2.3 Eval Rewards: -11.6[-0.23], LR: 1.0e-04 SKS: 420\n",
      "Epoch 27 Loss: 1.61e-04 E_0: 0.00 E_1: 0.22 G: 0.80 Rewards: -5.2 Eval Rewards: -11.6[-0.23], LR: 1.0e-04 SKS: 822\n",
      "Epoch 28 Loss: 1.61e-04 E_0: 0.00 E_1: 0.23 G: 0.80 Rewards: -7.5 Eval Rewards: -11.6[-0.23], LR: 1.0e-04 SKS: 768\n",
      "Epoch 29 Loss: 1.58e-04 E_0: 0.00 E_1: 0.23 G: 0.80 Rewards: 5.1 Eval Rewards: -11.6[-0.23], LR: 1.0e-04 SKS: 822\n",
      "Epoch 30 Loss: 1.59e-04 E_0: 0.00 E_1: 0.23 G: 0.80 Rewards: -0.5 Eval Rewards: -11.6[-0.23], LR: 1.0e-04 SKS: 420\n",
      "Epoch 31 Loss: 1.61e-04 E_0: 0.00 E_1: 0.23 G: 0.80 Rewards: -1.7 Eval Rewards: -11.6[-0.23], LR: 1.0e-04 SKS: 420\n",
      "Epoch 32 Loss: 1.60e-04 E_0: 0.00 E_1: 0.23 G: 0.80 Rewards: 4.4 Eval Rewards: -11.6[-0.23], LR: 1.0e-04 SKS: 768\n",
      "Epoch 33 Loss: 1.60e-04 E_0: 0.00 E_1: 0.23 G: 0.80 Rewards: -0.9 Eval Rewards: -11.6[-0.23], LR: 1.0e-04 SKS: 582\n",
      "Epoch 34 Loss: 1.61e-04 E_0: 0.00 E_1: 0.23 G: 0.80 Rewards: 0.6 Eval Rewards: -11.6[-0.23], LR: 1.0e-04 SKS: 420\n",
      "Epoch 35 Loss: 1.60e-04 E_0: 0.00 E_1: 0.23 G: 0.80 Rewards: 1.4 Eval Rewards: -11.6[-0.23], LR: 1.0e-04 SKS: 420\n",
      "Epoch 36 Loss: 1.59e-04 E_0: 0.00 E_1: 0.24 G: 0.80 Rewards: -10.1 Eval Rewards: -11.6[-0.23], LR: 1.0e-04 SKS: 582\n",
      "Epoch 37 Loss: 1.59e-04 E_0: 0.00 E_1: 0.24 G: 0.80 Rewards: 8.7 Eval Rewards: -11.6[-0.23], LR: 1.0e-04 SKS: 582\n",
      "Epoch 38 Loss: 1.60e-04 E_0: 0.05 E_1: 0.24 G: 0.80 Rewards: -2.8 Eval Rewards: -11.6[-0.23], LR: 1.0e-04 SKS: 420\n",
      "Epoch 39 Loss: 1.56e-04 E_0: 0.05 E_1: 0.24 G: 0.80 Rewards: -0.1 Eval Rewards: -11.6[-0.23], LR: 1.0e-04 SKS: 822\n",
      "Epoch 40 Loss: 1.59e-04 E_0: 0.06 E_1: 0.24 G: 0.80 Rewards: -6.3 Eval Rewards: -11.6[-0.23], LR: 1.0e-04 SKS: 822\n",
      "Epoch 41 Loss: 1.61e-04 E_0: 0.06 E_1: 0.24 G: 0.80 Rewards: -3.6 Eval Rewards: -11.6[-0.23], LR: 1.0e-04 SKS: 582\n",
      "Epoch 42 Loss: 1.57e-04 E_0: 0.06 E_1: 0.24 G: 0.80 Rewards: 8.5 Eval Rewards: -11.6[-0.23], LR: 1.0e-04 SKS: 528\n",
      "Epoch 43 Loss: 1.56e-04 E_0: 0.06 E_1: 0.24 G: 0.80 Rewards: 4.4 Eval Rewards: -11.6[-0.23], LR: 1.0e-04 SKS: 822\n",
      "Epoch 44 Loss: 1.54e-04 E_0: 0.06 E_1: 0.24 G: 0.80 Rewards: 5.2 Eval Rewards: -11.6[-0.23], LR: 1.0e-04 SKS: 768\n",
      "Epoch 45 Loss: 1.61e-04 E_0: 0.06 E_1: 0.24 G: 0.80 Rewards: 6.4 Eval Rewards: -11.6[-0.23], LR: 1.0e-04 SKS: 582\n",
      "Epoch 46 Loss: 1.58e-04 E_0: 0.07 E_1: 0.24 G: 0.80 Rewards: -6.2 Eval Rewards: -11.6[-0.23], LR: 1.0e-04 SKS: 768\n",
      "Epoch 47 Loss: 1.59e-04 E_0: 0.07 E_1: 0.24 G: 0.80 Rewards: -1.7 Eval Rewards: -11.6[-0.23], LR: 1.0e-04 SKS: 420\n",
      "Epoch 48 Loss: 1.52e-04 E_0: 0.07 E_1: 0.25 G: 0.80 Rewards: -11.2 Eval Rewards: -11.6[-0.23], LR: 1.0e-04 SKS: 420\n",
      "Epoch 49 Loss: 1.54e-04 E_0: 0.07 E_1: 0.25 G: 0.80 Rewards: 1.0 Eval Rewards: -11.6[-0.23], LR: 1.0e-04 SKS: 528\n",
      "Epoch 50 Loss: 1.52e-04 E_0: 0.07 E_1: 0.25 G: 0.80 Rewards: -1.7 Eval Rewards: -11.6[-0.23], LR: 1.0e-04 SKS: 822\n",
      "Epoch 51 Loss: 1.53e-04 E_0: 0.08 E_1: 0.25 G: 0.80 Rewards: 3.7 Eval Rewards: -11.6[-0.23], LR: 1.0e-04 SKS: 822\n",
      "Epoch 52 Loss: 1.56e-04 E_0: 0.08 E_1: 0.25 G: 0.80 Rewards: -7.1 Eval Rewards: -11.6[-0.23], LR: 1.0e-04 SKS: 768\n",
      "Epoch 53 Loss: 1.53e-04 E_0: 0.08 E_1: 0.25 G: 0.80 Rewards: 6.9 Eval Rewards: -11.6[-0.23], LR: 1.0e-04 SKS: 582\n",
      "Epoch 54 Loss: 1.48e-04 E_0: 0.08 E_1: 0.25 G: 0.80 Rewards: -10.1 Eval Rewards: -11.6[-0.23], LR: 1.0e-04 SKS: 528\n",
      "Epoch 55 Loss: 1.50e-04 E_0: 0.08 E_1: 0.25 G: 0.80 Rewards: 1.1 Eval Rewards: -11.6[-0.23], LR: 1.0e-04 SKS: 822\n",
      "Epoch 56 Loss: 1.54e-04 E_0: 0.09 E_1: 0.25 G: 0.80 Rewards: -1.5 Eval Rewards: -11.6[-0.23], LR: 1.0e-04 SKS: 528\n",
      "Epoch 57 Loss: 1.49e-04 E_0: 0.09 E_1: 0.25 G: 0.80 Rewards: 1.9 Eval Rewards: -11.6[-0.23], LR: 1.0e-04 SKS: 822\n",
      "Epoch 58 Loss: 1.56e-04 E_0: 0.09 E_1: 0.25 G: 0.80 Rewards: -1.1 Eval Rewards: -11.6[-0.23], LR: 1.0e-04 SKS: 768\n",
      "Epoch 59 Loss: 1.55e-04 E_0: 0.09 E_1: 0.25 G: 0.80 Rewards: -3.6 Eval Rewards: -11.6[-0.23], LR: 1.0e-04 SKS: 420\n",
      "Epoch 60 Loss: 1.53e-04 E_0: 0.09 E_1: 0.25 G: 0.80 Rewards: -4.2 Eval Rewards: -11.6[-0.23], LR: 1.0e-04 SKS: 528\n",
      "Epoch 61 Loss: 1.51e-04 E_0: 0.10 E_1: 0.25 G: 0.80 Rewards: 2.7 Eval Rewards: -11.6[-0.23], LR: 1.0e-04 SKS: 420\n",
      "Epoch 62 Loss: 1.54e-04 E_0: 0.10 E_1: 0.25 G: 0.80 Rewards: 2.5 Eval Rewards: -11.6[-0.23], LR: 1.0e-04 SKS: 528\n",
      "Epoch 63 Loss: 1.52e-04 E_0: 0.10 E_1: 0.25 G: 0.80 Rewards: -5.5 Eval Rewards: -11.6[-0.23], LR: 1.0e-04 SKS: 822\n",
      "Epoch 64 Loss: 1.48e-04 E_0: 0.10 E_1: 0.25 G: 0.80 Rewards: 7.0 Eval Rewards: -11.6[-0.23], LR: 1.0e-04 SKS: 822\n",
      "Epoch 65 Loss: 1.54e-04 E_0: 0.11 E_1: 0.25 G: 0.80 Rewards: -7.0 Eval Rewards: -11.6[-0.23], LR: 1.0e-04 SKS: 528\n",
      "Epoch 66 Loss: 1.54e-04 E_0: 0.11 E_1: 0.25 G: 0.80 Rewards: 4.5 Eval Rewards: -11.6[-0.23], LR: 1.0e-04 SKS: 528\n",
      "Epoch 67 Loss: 1.52e-04 E_0: 0.11 E_1: 0.25 G: 0.80 Rewards: -7.4 Eval Rewards: -11.6[-0.23], LR: 1.0e-04 SKS: 420\n",
      "Epoch 68 Loss: 1.50e-04 E_0: 0.11 E_1: 0.25 G: 0.80 Rewards: -1.9 Eval Rewards: -11.6[-0.23], LR: 1.0e-04 SKS: 582\n",
      "Epoch 69 Loss: 1.51e-04 E_0: 0.11 E_1: 0.25 G: 0.80 Rewards: 2.7 Eval Rewards: -11.6[-0.23], LR: 1.0e-04 SKS: 528\n",
      "Epoch 70 Loss: 1.50e-04 E_0: 0.12 E_1: 0.25 G: 0.80 Rewards: -4.5 Eval Rewards: -11.6[-0.23], LR: 1.0e-04 SKS: 528\n",
      "Epoch 71 Loss: 1.50e-04 E_0: 0.12 E_1: 0.25 G: 0.80 Rewards: -3.8 Eval Rewards: -11.6[-0.23], LR: 1.0e-04 SKS: 768\n",
      "Epoch 72 Loss: 1.55e-04 E_0: 0.12 E_1: 0.25 G: 0.80 Rewards: -0.2 Eval Rewards: -11.6[-0.23], LR: 1.0e-04 SKS: 582\n",
      "Epoch 73 Loss: 1.45e-04 E_0: 0.12 E_1: 0.25 G: 0.80 Rewards: -2.7 Eval Rewards: -11.6[-0.23], LR: 1.0e-04 SKS: 420\n",
      "Epoch 74 Loss: 1.48e-04 E_0: 0.12 E_1: 0.25 G: 0.80 Rewards: 4.8 Eval Rewards: -11.6[-0.23], LR: 1.0e-04 SKS: 822\n",
      "Epoch 75 Loss: 1.49e-04 E_0: 0.13 E_1: 0.25 G: 0.80 Rewards: 5.2 Eval Rewards: -11.6[-0.23], LR: 1.0e-04 SKS: 528\n",
      "Epoch 76 Loss: 1.49e-04 E_0: 0.13 E_1: 0.25 G: 0.80 Rewards: -10.4 Eval Rewards: -11.6[-0.23], LR: 1.0e-04 SKS: 822\n",
      "Epoch 77 Loss: 1.47e-04 E_0: 0.13 E_1: 0.25 G: 0.80 Rewards: -2.4 Eval Rewards: -11.6[-0.23], LR: 1.0e-04 SKS: 528\n",
      "Epoch 78 Loss: 1.46e-04 E_0: 0.13 E_1: 0.25 G: 0.80 Rewards: 0.7 Eval Rewards: -11.6[-0.23], LR: 1.0e-04 SKS: 582\n",
      "Epoch 79 Loss: 1.52e-04 E_0: 0.14 E_1: 0.25 G: 0.80 Rewards: 3.1 Eval Rewards: -11.6[-0.23], LR: 1.0e-04 SKS: 528\n",
      "Epoch 80 Loss: 1.47e-04 E_0: 0.14 E_1: 0.25 G: 0.80 Rewards: 1.6 Eval Rewards: -11.6[-0.23], LR: 1.0e-04 SKS: 768\n",
      "Epoch 81 Loss: 1.49e-04 E_0: 0.14 E_1: 0.24 G: 0.80 Rewards: -7.7 Eval Rewards: -11.6[-0.23], LR: 1.0e-04 SKS: 528\n",
      "Epoch 82 Loss: 1.47e-04 E_0: 0.14 E_1: 0.24 G: 0.80 Rewards: -1.2 Eval Rewards: -11.6[-0.23], LR: 1.0e-04 SKS: 768\n",
      "Epoch 83 Loss: 1.48e-04 E_0: 0.14 E_1: 0.24 G: 0.80 Rewards: 1.7 Eval Rewards: -11.6[-0.23], LR: 1.0e-04 SKS: 582\n",
      "Epoch 84 Loss: 1.45e-04 E_0: 0.15 E_1: 0.24 G: 0.80 Rewards: -5.0 Eval Rewards: -11.6[-0.23], LR: 1.0e-04 SKS: 768\n",
      "Epoch 85 Loss: 1.49e-04 E_0: 0.15 E_1: 0.24 G: 0.80 Rewards: -8.4 Eval Rewards: -11.6[-0.23], LR: 1.0e-04 SKS: 768\n",
      "Epoch 86 Loss: 1.47e-04 E_0: 0.15 E_1: 0.24 G: 0.80 Rewards: -1.8 Eval Rewards: -11.6[-0.23], LR: 1.0e-04 SKS: 420\n",
      "Epoch 87 Loss: 1.44e-04 E_0: 0.15 E_1: 0.24 G: 0.80 Rewards: -3.7 Eval Rewards: -11.6[-0.23], LR: 1.0e-04 SKS: 420\n",
      "Epoch 88 Loss: 1.47e-04 E_0: 0.16 E_1: 0.24 G: 0.80 Rewards: -1.1 Eval Rewards: -11.6[-0.23], LR: 1.0e-04 SKS: 768\n",
      "Epoch 89 Loss: 1.44e-04 E_0: 0.16 E_1: 0.24 G: 0.80 Rewards: -8.4 Eval Rewards: -11.6[-0.23], LR: 1.0e-04 SKS: 822\n",
      "Epoch 90 Loss: 1.47e-04 E_0: 0.16 E_1: 0.24 G: 0.80 Rewards: 3.2 Eval Rewards: -11.6[-0.23], LR: 1.0e-04 SKS: 582\n",
      "Epoch 91 Loss: 1.44e-04 E_0: 0.16 E_1: 0.24 G: 0.80 Rewards: 0.1 Eval Rewards: -11.6[-0.23], LR: 1.0e-04 SKS: 528\n",
      "Epoch 92 Loss: 1.42e-04 E_0: 0.16 E_1: 0.24 G: 0.80 Rewards: -10.6 Eval Rewards: -11.6[-0.23], LR: 1.0e-04 SKS: 582\n",
      "Epoch 93 Loss: 1.42e-04 E_0: 0.17 E_1: 0.23 G: 0.80 Rewards: 7.9 Eval Rewards: -11.6[-0.23], LR: 1.0e-04 SKS: 822\n",
      "Epoch 94 Loss: 1.42e-04 E_0: 0.17 E_1: 0.23 G: 0.80 Rewards: -2.2 Eval Rewards: -11.6[-0.23], LR: 1.0e-04 SKS: 822\n",
      "Epoch 95 Loss: 1.46e-04 E_0: 0.17 E_1: 0.23 G: 0.80 Rewards: -5.8 Eval Rewards: -11.6[-0.23], LR: 1.0e-04 SKS: 582\n",
      "Epoch 96 Loss: 1.43e-04 E_0: 0.17 E_1: 0.23 G: 0.80 Rewards: 2.5 Eval Rewards: -11.6[-0.23], LR: 1.0e-04 SKS: 420\n",
      "Epoch 97 Loss: 1.45e-04 E_0: 0.17 E_1: 0.23 G: 0.80 Rewards: -0.1 Eval Rewards: -11.6[-0.23], LR: 1.0e-04 SKS: 582\n",
      "Epoch 98 Loss: 1.46e-04 E_0: 0.18 E_1: 0.23 G: 0.80 Rewards: 1.3 Eval Rewards: -11.6[-0.23], LR: 1.0e-04 SKS: 528\n",
      "Epoch 99 Loss: 1.36e-04 E_0: 0.18 E_1: 0.23 G: 0.80 Rewards: -0.9 Eval Rewards: -11.6[-0.23], LR: 1.0e-04 SKS: 822\n",
      "Done\n"
     ]
    }
   ],
   "source": [
    "agent.train(gamma=0.80, num_epochs=200, session_limit=100)"
   ]
  },
  {
   "cell_type": "code",
   "execution_count": 10,
   "metadata": {},
   "outputs": [
    {
     "data": {
      "image/png": "[encoded data removed]",
      "text/plain": [
       "<Figure size 640x480 with 1 Axes>"
      ]
     },
     "metadata": {},
     "output_type": "display_data"
    }
   ],
   "source": [
    "history_x = agent.training_history_x\n",
    "history_y = agent.training_history_y\n",
    "fig, ax = plt.subplots()\n",
    "fig.suptitle(f'Rewards {agent.model_name} LR: {agent.lr:.1e}')\n",
    "ax.plot(history_x, history_y)\n",
    "ax.legend(['Train Rewards', 'Evaluation Rewards'])\n",
    "ax.set_xlabel('Epoch')\n",
    "ax.set_ylabel('Rewards')\n",
    "plt.savefig('rewards_graph.png', bbox_inches='tight')\n",
    "plt.show()"
   ]
  },
  {
   "cell_type": "code",
   "execution_count": 9,
   "metadata": {},
   "outputs": [
    {
     "name": "stderr",
     "output_type": "stream",
     "text": [
      "h:\\Coding Projects\\Python Projects\\Deep-XIV-Rotation\\models\\dqn.py:349: FutureWarning: You are using `torch.load` with `weights_only=False` (the current default value), which uses the default pickle module implicitly. It is possible to construct malicious pickle data which will execute arbitrary code during unpickling (See https://github.com/pytorch/pytorch/blob/main/SECURITY.md#untrusted-models for more details). In a future release, the default value for `weights_only` will be flipped to `True`. This limits the functions that could be executed during unpickling. Arbitrary objects will no longer be allowed to be loaded via this mode unless they are explicitly allowlisted by the user via `torch.serialization.add_safe_globals`. We recommend you start setting `weights_only=True` for any use case where you don't have full control of the loaded file. Please open an issue on GitHub for any issues related to this experimental feature.\n",
      "  checkpoint = torch.load(path)\n"
     ]
    },
    {
     "name": "stdout",
     "output_type": "stream",
     "text": [
      "Checkpoint loaded - Epoch: 296 sks: 822\n"
     ]
    }
   ],
   "source": [
    "agent.load_checkpoint(f'./checkpoints/_{agent.model_name}_last.pth')"
   ]
  },
  {
   "cell_type": "code",
   "execution_count": null,
   "metadata": {},
   "outputs": [],
   "source": [
    "viper_env.compute_gcd(2.5, 798, 15)"
   ]
  },
  {
   "cell_type": "code",
   "execution_count": null,
   "metadata": {},
   "outputs": [],
   "source": [
    "# 2.12, 2.11, 2.10, 2.09, 2.08\n",
    "#[420, 528, 582, 768, 822]\n",
    "agent.test(num_steps=50, _sks=822)"
   ]
  },
  {
   "cell_type": "markdown",
   "metadata": {},
   "source": [
    "terraform aws\n",
    "kubernites\n",
    "helm?\n",
    "look into"
   ]
  },
  {
   "cell_type": "code",
   "execution_count": 12,
   "metadata": {},
   "outputs": [
    {
     "name": "stdout",
     "output_type": "stream",
     "text": [
      "9999 100000101001100111100011010011001100001101101001000100100001101011001010100110000110111000010101101000000101011111000100110011010011110111110111000000000111001000000011010001000010000100110110100011110110011000000000101111100001110111101101111100011001000000110011100111010010110110001110100010010101111001010010101000000110101110100110101111010110101000011100011011100110101101011011110000100101101011001101110010001010101111110101110000001010001011001111011010011001010100001001011111000010001000000110011111011111000011010000001111101100101011101000010101101000011110111101110001110110111001011111001111100000100111110110011111101111110011100011111011000010010111110000001010101011011100011011111010001011100010100001101110100100000111111100000111101001100010001111010111110110011100011101001100101011110110110010001111010001000100011010000010000101010010011110111001010000001011100011111010000011101011101011010001110011110001001110110011001011110011011001101000100110100011111101001100110101101101001000000011101001000000011110010110000110010000011010101100000111011011000001111001100001010100010110011000100001101010010011111100010010011001110001101101111100110100100111010110011100101100101010111110000001001001110011111000011001010000010001111110001011010010010001011011111001110011110011000100011001111100100101100100110011101101100010010011111001110000110111001011100000111100010001010101000010011101101111101111010001110101111000110011101000001110111000111111101110101011010011000101011001111000110010100000101011001111100011011010010011100011111001011000000000101010101001010101010000101000100000100110001110010101110110011111000101111100010111110010011110011000010100111100000110011101110000010000110101010000110110101010011010100110000111101111100011010001110011100011010001010001110110111010101100000110100011101100000111011010001001000111000101010101100110010001111110111001011010000010001001001111110110101010100111101000100110001100101000101000110011001100111101001110111010111001100001000100010010001110011010111000110000010101010111010101100001100001010001101100011111000111101101111100000100011000110001000001001001110101001100001110111111111111000110110010100110011101100111111101111011111011111001000010101110110110000001001101111010011010001101010001110110001011000011110111110111111111000000010010010001010001111011100010000010101011011011101010010010100010001010111110110101100111000110111110011010011011101110011101110101111111010100000000110100111011100001111000001110110110000011111100001101000011010011110100101100000110010110110010100011101000001010001100111111101111010010100010100001111110110000100100010100111111100101110111000110010010100111101101011111000000111010111100010111000011010001111101111010110101000000010101101101010001001101010100001110100111001011110101101010000101111110011001001111011011010000111000010011001111000111001000111010101110011011000011011000001111111000001000110010110000000001000010001011000001010001001111001010101110001010010110101000101011100101011000000000100100111001000011010111100011011100101100001110011001000110000010001101110111010101000101100110100111100000101011010111110110001000110100110100001000110101001100110111101011111001110011111011110100100101110110111101010101000100100011010100100000011001000111000110011001010100111100000110001011110111101100011100011111010001001100010101101011111001010100001111011010101101000100110001101100110000010110010111100000010011011111010001111000001001101001100001101000010011110111110000100111110101010110101011100000111101011000101100010111010000010001101111010111111111000101010000111110101001001111011101010010001111101101000110100101101011111010010010010101101100011011011101111101010100000011111110011100110011000111001110010100001000011001000011000110010101010011101111111110111111111101111010001100010001110110111011010000010000010000101110010101000011011100011001110011100110110011000010111101101110011111100100010100000100011011011011000000001010100101011010100001011111000100010110110001101011000000001010011100111001101110110100101101011011011111111100001110101101001101000110001101010001111001111000101001001110011100100000001010101100101010101101000001110101000101110000101110110100010001100001001001100111011000011100010000010001011110011011001010011001110000110001010110010101110001110011011111000111001011110100101001001100001001011011011110100101011011010010011000101010001001100111001011001111101101010101010001000010001111101000110010101011110010101000011100110111110011111001111010111011010001111101111000111010110100000111000011101001011001111101010011101001001111000101111000011000101110101000010100110100010110011111010000000110011111100010110111001000100011011010010001000010100000100100110111010111101010100011110101010000011111100100100111110000001111101101001000001101000111011011111110010000011000010010000101011011001000101101101000111011100100001011000110011110101001010110001110100111101111111101101000010010010010100100000101000111000000010101001101000110101010000111101100111001101011000111101101110101000101100001101110000101011101111011110101111000101100100101011011000111001011010011100111101110000011001100110000100010011111011111100011011011110000111000111010001011001110010000011010100010011000101000101111110010110100001100011000010000001110010000101101011010000101001111111110010000110111001100111000111000001000011111001000101010001101100000111011001011011001110110010000110101011000011010110100110000100000101010111101011010110101001000101010000001000000110011010101111011110111011101001001011111011011101110000101110010001100011101010110111001001000001001101001111011101001111101110001000101000001110001101110110110011100010101001011010011011000111111111100001011101111101001101111010101011111100000111110010100010000110110000010011000101100100111101000110110100000100101100001010111110000001110000011101100000001111011100010011101011010101100001011000110111000001100011000100010011001101110111001101100110110101001111110101010110000101111000000010110101000010010010101100011011110001100111100001001100011100101110111000110101001111101010100101100011001010101111110101011110001011100101101011000010001001100101111011110100101001100101000010001011011100001111100001100111010111101100100010011001000010001101111000000111000000001110110101010011100100010000001110101100110110010011011011010011111010001010001001010101100111001110010101010000111111101000001010100101111100010101100001101110001100001001001001101000111011101001111100101010111100001011000101001010111111001010111100101010001100001101000111011010111100011111111001110110100001101010110111010101010010010101011110101000010011010001100100110010101001011011110111110010011110101011110011110000010101101100100010010000100101100110011110000000111101000101110000000111010101011111110111000110101000101011011101100001011101000010010010101110010101011111110010101010010111001110100010101011101111011001010111001011010011000110000101111010110010110001100110011101001100011000100111011011010101110011100101000110110100101101111101111110001101110101111110100101100100010100000101110100000001010011101110101110001000010001110011011111000010000101101001001101011001011011100110000010001101110011111000100100111100010110010010101100101010110101010010000101101011100010100011000000100000001000110110001011010011001100101100000101010110000001111101001000011110111101100011000111011100100011010011010110110100010110110011010101000111111010111110011000100010110011011101001011111000110110001111000001110000110000101011100110101011100101100100000001011000100101001000101001000101101001000000110010110011110000110111110011110000010110001010100011000110110101110011000000100000011110100001110100000011110000000010010010100111000000111100001101001111101000101101000000100000100100001100110111011100110111111101100010011000010100110010100100000010110000111101000111111011110001111000000001000100000010010100001011000110111000000110000000000110010100110000001110101011110011000000010011111010110000111100011111011110101011101111001001110001101001010100111110110000110000000100110000110011001011000110011100001011111101110011111100100000001001101000001101111001000011001001110010111100000001011100010111110001111111111001010000111101001001010101111011001010001101011111011010010101011101101111011001010100001011110100101111010110111111000001000010100100110110001001000100110101111111110001100100000100011100100010101110111010010101010110011100100001111110011001110001110011001101001000100011011111111010000001110101111110010000101100000001000100011100001110000110000100011101010110000011000001001001011010010111110101100101001100100001011100110101100001100110101100011101000100111111111101011010111110110001000100001000110100001000110110001110010101000001111111101010101001101011100100010110100110110111000110101010110100000100100101100001010101100001111111010000010001111100111100010100011100101010001110001000110010111000111011101000110101110101111110100110101100010110100111001001101101011010001011011110100010010101100101000000100011011001001011011001000101011011111111110000011110000111010001010101010101011100111010001101110000111100000111010111000011001011011010101111010100111100011010011001001001101100100010011110111111011111001111101101010111000110010101000011001011001100001001100011111110111011000101001010110110010111101100101011001101001111011111101010101000011111101011000001011110011001001001101011100100110110110110010000100010010000101001101110011001001001100010010010010110000001110000100111101101001011111110001110110011100001100000000100101010111001010010100111100000100010110011010000100110110001101110010010010011011000011101101110001000001100101001011100100110111100100000100001100001100010011000010011011100011011110110101101010111010110100100010110100101101000100100011110011000010000101010110111101010100000011110111110100110111000101000110011011101011001011000100000101111010110111001101110010011100001000001001001010100111100011110000101100001111000000011001001111110101101\n"
     ]
    }
   ],
   "source": [
    "unenc = \"\"\n",
    "for i in range(10000):\n",
    "    if np.random.random() > 0.5:\n",
    "        unenc += '1'\n",
    "    else:\n",
    "        unenc += '0'\n",
    "unenc = format(int(unenc, 2), 'b')\n",
    "print(len(unenc), unenc)"
   ]
  },
  {
   "cell_type": "code",
   "execution_count": 13,
   "metadata": {},
   "outputs": [
    {
     "name": "stdout",
     "output_type": "stream",
     "text": [
      "1668 b'x\\x9cm\\x94\\x8b\\x95\\x1c7\\x0c\\x04S\\x02\\xf2O\\xce\\x965]]\\xe0Zz:\\xed\\xcd\\x90@\\x7fw\\xe7\\xcf\\x9f\\xfd\\xf7\\xef\\xec\\x7f\\xff\\xfe\\xfc\\xfc\\xf3\\x91\\x07\\xf3\\xfd\\xfe\\xf7\\xd1\\x7f\\x87\\x87\\x87\\x7f\\xcf\\xf4\\xfewt3\\xf4\\xef\\xad\\xfe\\xf6\\x8dgvVn~N\\xfe\\xecf\\x0fx\\xbe\\xb5\\xc3\\x84<\\xfe{7\\x08\\xb2n\\x83\\xe3\\x9b?+\\x04\\x1d\\xfe\\xd1\\xfe\\xce\\xcd\\x07z\\x87\\x07\\xb3E\\x1f\\xa9fu}\\xb9\\xca\\xb1\\x0f\\x1b\\xfb\\xab\\x8b^f\\xe4t-\\xba\\x04\\xe0V\\xb8,\\xaac\\x9c\\xaf?\\x06\\xb7W\\x86y)\\xaf\\xdf\\x8a\\x10r\\x96\\xd9u\\x93\\xabp[\\x81\\xfef2z\\xf6\\x0c\\xd5\\xe2\\xad8y\\xfd\\xa2F\\x81\\xd1\\xb6\\x9c\\x8f\\xcf\\xe8\\x91C\\xb8\\xbb+\\x18ui\\x94\\x9b\\x8b\\xad\\xb6K\\x01\"\\xa1[\\x15\\x14\\xe9\\xaa\\x13\\x9c\\xd1D\\xa9,_\\x82\\xbe\\xfc\\xcc\\x8aV\\x11y\\x83\\x88\\x18Q\\xa1\\xd1\\xa75\\xcd\\xe6\\xac\\x92(\\xe85<Qr3\\x16\\xdd\\xdb\"\\xfd\\xd6\\xc6?aD\\x89+\\x05lT\\xb9`+\\xa7\\x12V1\\x15\\xeb\\x13\\x8c\\xe1\\x84b\\x8c\\xda\\x92\\x83z\\x85\\xf7]\\x8b\\xda\\x8a\\x06C\\x05\\x00H\\x11B\\xec\\xc2\\xe8\\x16Ab\\xb9\\xcem\\x85\\xd2L\\xaeH\\xe5h\\xa3L(1r\\x13v\\xecP\\x80\\x8e$kj\\'\\x1aNfm?\\r<\\x1f3\\x15\\xb1)O\\xbf8\\xbc\\xea\\xf7\\xd3\\x95\\xfd[P\\xd1L\\xf7F\\xaa:\\x83\\xab\\xffSQqT\\xa7\\xf4\\xa4j\\x1f\\x1d\\xe7^z\\xf2\\x8f\\xeb\\x03\\x1b\\xc9zRW%\\x15H\\xf7\\x01\\xfc!\\x9e\\x13\\xd7\\xb7`\\xf1\\xbf\\xf8\\xddo\\x0e\\xe98?0{\\x06>-\\x94\\x88\\xcb\\x89\\x86\\x1c!O[\\xd5\\x14\\x95\\xfe6X\\x86$\\xb17z=t\\xf2B\\x1d\\xec$\\xd0\\xdc@\\x04\\xab$\\x80\\xbf\\x16\\x96\\xe2\\x1d\\x0c\\x1b\\xb0;\\x1b\\xa8f\\xd1NbR\\x0b\\x15\\\\\\xe6\\x9e\\xd0\\x91v 7\\x96\\xd8\\xb8\\x0c\\x1eEQUPE\\xacC\\x99$p\\xdcLu\\xd5\\xac\\xa3\\xff${7k6\\xe2fQ\\x01V\\xd0F\\xb7F\\xf4\\xd2\\x0b\\xc1\\xa9Le\\x12b\"\\xda6\\x05\\xc6\\xd1Ff\\xa8:+\\x90\\x91n\\xfeg@\\xd4.\\xbe\\n\\xca\\xfd\\x16\\xb2-h\\xaf\\xdc\\xbcb\\xb6\\x1f\\xb7(\\rm\"\\xe5d\\x9aE\\xbci\\xfep\\xcd9C\\x03\\r]\\x81\\xac\\xd2D\\xf04\\x01\\xees\\x91*\\x91\\x82\\xa8@Y\\xfe\\x06\\xbe\\xf7\\x95B\\xb5\\x11\\xa9\\x1c\\x80\\xfc8Ys\\xcd\\xc1\\xb1\\x10\\xecDJ\\x82)\\xac\\x19\\xb6*\\xf9$\\xa1\\x90\\xf3s\\xbba\\x7f\\xe9\\x9d\\\\\\xe1\\xc4{\\x07\\xa1\\xa6\\xaa\\x15@\\x8b\\xafl\\xfbE\\xaeJ<\\xd0\\xfa\\x01\\x8a8#t\\x1d\\x9e\\xb4\\xe95\\x17Z\\xed\\\\\\xb9U\\xda\\xec\\xae\\xd6X-\\xa3O\\x08\\x88 \\xdd\\x8c*+\\xe6A\\xd4\\x964\\x8cmYT\\xa7,J\\xb5\\x1d\\xfe\\xce\\x96\\xd0\\xde\\x8f\\r8\\xc5m\\xbc\\xda\\xc5lz\\xdd>\\xa9\\x12\\xd4:\\xdd85\\xcc\\x11\\xec\\xd5\\x1eU\\xda!g\\xad\\xe3\\xc0{t|\\xee\\xbe\\x88\\xc2\\tS\\xc8\\x1b\\t\\xe2\\x051\\xd3p2\\xa9`<k\\x0er\\x9bP5;+\\xd1<z\\xb3\\x93\\xe1\\xb8\\xd2>V5\\x10\\xb1\\xad^\\xdc\\xae\\xaa\\x0c\\x92D\\xbf\\x13\\x87\\xd5\\xea\\xe4\\x15\\xadn~u\\xb0\\xb4\\x94\\x86|\\xcc\\xe9\\xf5\\xb1\\xd3\\x9a\\x1b\\xda7f\\x07\\xaf\\xfe{\\xb4k\\xaa\\xaf\\x97(7ep\\xbe-\\xfa\\\\\\xe6>\"\\x9e\\x0c6\\x1fgR\\x8a\\xdb\\x9cG*\"O\\xd4\\xfb\\xc0EPXa\\xd8\\xe8\\xed\\x88O\\x86V\\x12^h\\x81\\x92\\xec\\xc0\\xeb%\\x8b\\xed\\xec\\xa9W\\xaf\\xeb \\x96U\\xc4>\\x8e\\xa8-\\x18V\\x14\\xb4 \\xb2\\xe2V\\x9f`8\\x0bH\\x9e7\\xab\\xe7\\xb7_\\xa1\\xbfb\\xb7\\xc5U\\x97\\xe1,\\x05\\x94a\\xb5\\x9ci\\x1f\\nIX\\'\\xea~\\x8b\\xd3\\xfa\\xbe\\xd19F\\xa9C\"\\xb2\\x07K^\\xb3x<\\']\\xbbi\\xbd\\xbec\\xe6\\x1a\\x15\\xe3t\\xb4\\xf9\\x1bxG-Yq&\\x1f\\xed\\xd1\\xaf`\\xd5r\\x83}6\\x9a\\x9b\\xe6\\xca@\\xd7V\\xc1?\\x8e\\xc3\\xa3\\xd2\\x9fJ\\xb6y\\'\\xb3\\xc7\\xcb)0\\xdb\\xd8J\\xf1\\x8c\"\\x90\\xdf\\x84\\x93H(\\x84=D\\xc4{\\xac&\\xf4{\\xa2\\x1e4!\\xfd\\x06\\x90O=\\x85\\xf0Y)\\n\\xb5\\x8e\\x85\\xa5kw:D\\xcco\\x0e\\x95[{\\x80<\\xb5x\\x0f]\\x14Q\\xf7I\\xc0\\xe9d\\xa5\"\\xb7\\x1c:u\\x85\\x847\\x1eo&\\x01\\xae\\xe2[\\x14\\xdbQ\\x82Xz\\x0e!\\xfd\\x1aaV\\xc2\\xb0\\xb1]\\xe3\\xfe35w\\xadFe!lp\\xe2:o%u\\xe3w\\xb2L\\x8aE?\\xc3$\\t\\xb8\\x15%\\xd4S\\xd4\\x9bJr\\x80g\\x89\\xe1O\\xa1\\xa4\\xbbCU\\xa7uJ\\xe7G\\xeb\\x8e\\x1cY\\xceEU\\xe0\\xf6]!0\\x08\\x85\\xad\\x8bd*YhoU9P\\xd2\\x89\\x9c\\xae\\xbf\\xa7\\x8c\\xe7\\xb0\\x9b;\\xe7\\xe1\\x89\\xe7\\x1b\\xe9\\xc3\\xaa\\x1d\\xfam\\xcd\\x13s[\\x9c\\xd7\\xca\\x05\\xed\\xd9\\x92W\\x15Twi\\xf7\\x94\\xaa#\\xcf\\x97C\\\\YMmk\\x9a\\xd3\\x08\\xdd \\xc8=\\x12iyQ\\x9d\\xb0RJ]LU\\xfaM\\xd1,\\x0f\\x8c\\x1c\\xdd\\x15\\x9c\\xb0\\x1e\\xe1Q\\x15\\x88\\x83\\x90iDFg<\\xbbZ%\\x16\\x88\\x02]>\\xfaKow\\xb8_5\\xec8^\\xe6\\x07\\x8eNg\\xd6\\x19\\x18\\x8f\\x10Ww\\x1a\\x16|\\x9c\\xac-\\xf2, \\x92h\\x87\\xa7&\\x9c\\x90\\xd9A\\xb4\\xb5\\xd5G\\x8e\\xd0.\\x12\\xb6\\xf4\\xcb`\\xef<\\xa9M\\x1eep\\x87R\\xa7\\xe6J\\xb5U\\xcb\\xda[\\xef\\x97\\x1d\\x00\\xee\\xfc\\x9aT\\xfd\\x9c\\xca\\x15\\x7f$#O\\x9d\\x95}Y\\xd4\\xea\\xfc\\xc2\\x15\\x82P\\x93\\x0e\\x12\\x93;\\xab\\xbd\\x95\"\\xf39*\\xae\\xc2\\xc3C\\xdd\\xca\\xcdhFl4c\\x0f\\x8c\\np\\xb3\\xbf\\xd5}E\\x1b\\t\\xe6\\x0eH\\x08G/\\x8d\\x04\\xcd\\x18\\xd8\\xc1\\xe8\\x9a\\xbbGs\\xf0\\x83\\x9e\\x84m)\\xf9\\x140\\xfa\\xf5\\xc0\\xb2\\xb6h8G\\x82\\x89\\x81\\xfa\\x85\\xb3\\xdd\\xd7\\n6lj}\\x9d\\x10\\xaa\\xea\\t9\\x04\\xdf\\xdeG\\xcce,;U\\x92Zrr\\xe6\\x1c\\xd2\\x14\\xd9\\xbd\\xbd\\x9d\\x0b\\xe5\\x1e\\xeb\\x11\\x08\\xd4mF\\xbd;a\\xf4\\xaf\\xad\\xa4M\\xed\\x17\\x81\\x84\\x1d\\x81\\xba\\x9f%h\\xa3\\xd5Q@\\n\\x98\\x11\\xf6\\xd8JDxuy\\xc6*Uj}.\\xd9\\x8c\\xdb\\xf3\\x03jK$\\xa2E\\x00\\xbe.\\x12\\x86\\xe9xi\\x05f\\x87\\x0e\\xb8\\nr\\xa0\\xbb\\x00W/\\xec;1<\\xc5\\x1a\\xc8\\xc8\\xa5\\xf37ql\\xf2|\\xa9LF\\x9cQ9\\xe6\\xa0\\x98\\x83\\xb3s\\xc1\\xa5\\xa0\\xfd/\\x82\\xaf\\xb0<\\r\\xc6:\\xe2\\x1c\\xc53\\x06]%@\\x0bo\\t\\xf7\\x07\\x84\\x17)\\xfe\\xfd\\xeax\\xb8\\xbc\\xb6\\x95^\\xfd\\x02Lk\\xd3\\t\\x8dcW\\xa1.\\xe0\\x06\\x02\\xce\\xd7\\xd3l\\xb2-\\\\\\xadnK~\\xd8\\xdb\\x95\"|\\xecba\\xd3^[^\\x11\\x10`\\x84\\r\\xa6gew:\\xf4mK\\xf4\\xb3\\x04\\xd6\\xb5\\x8eHg7\\xa6%i\\xc4\\xce\\xf2\\xa4<\\x8f\\x9a\\x95\\xf2dX\\xfd+\\xe1\\xee\\xae\\x8b\\'\\xff9\\xf1\\xd4\\xa81P\\xce\\xf6\\x1fIwf\\xa7'\n",
      "3336\n",
      "5004\n"
     ]
    }
   ],
   "source": [
    "import zlib\n",
    "enc_ = zlib.compress(unenc.encode())\n",
    "print(len(enc_), enc_)\n",
    "print(len(enc_.hex()))\n",
    "print(len(enc_)+len(enc_.hex()))"
   ]
  },
  {
   "cell_type": "code",
   "execution_count": 9,
   "metadata": {},
   "outputs": [
    {
     "data": {
      "text/plain": [
       "b'11010001010001010000101010111101101101100111100100111011000011011111010101111101110000100001110001101011100001010111010110001000000000101011101110001111011010001100101011111101100101110001111011000000100101011100100000001010101011110000000100011000101111000111011010100101010000000001101111110011101111111110001110011100011001011011000011111000101000010100000010110001101001101100111010011011100010001110110111100100100101001100100010010000010010011000001010011001101100101101000100011001001101110100010010111110100110111100110110001011101000001011101011000011010111001000001111010000100101011110110111111100001001000100011001110101000110111010001111000001011111010001001100110110001001101111011000010110000100000001110110000101100011011101001100101011100010101010010000101000111110010001000010100110000101101000110100110011010001111000110010011011010100100011111111100100110001000100010011001010000101101110001010100100101010101001110100000001011001000101111010011111110000101110111100110111110110100000001110011011110011101001001110011110110110111010100010101001101110111110001001000111010010100000010000010100000111001101100011000100111100010000010111111101001001100001110011000001110011110011010001001110111001001011011110000110100010001011110000111110001100011100111010100100000111100100110101101010100000011000010101000011100001000000010000000010100010111111000110011101010001110001001011101011010101110011000001011111101101100000111101101010111011101000110000100010111011111101010010100100000100110011110110111000100001000001011111010110110100011111100110010101011101101111011101100110011101011000000001101001011110111100111100111101011011111000101010110101101111011000111101111011101001101100011101001100001100000111100000000100101100001101000011101111111100110000011110111101100111100000011000110101110111101010001111001001010110001110001111101110010111000101110011010100010000011010000000110111010101011101111111000100011000011010011010010100110010000010110011111011110011000000111010011111011001011111011100110101110000000001110100010101100001011110011110000101010101111001011001100100100110100011000001110110001110000110010000000010100100101101010011000110000111010111101110111010010000010000111011000101111001110001001101101000000111100011010101110001111010111001111011001101011001100100000111010000010101001010000001101010110100010001000101001100010110110100010111111011100010000000000111000101100001010011100101011101101001010010001110010110101110110100100100011000001111110010001001001100010101000001010111110100101101100011011000010101001011111101001101010100010111001010001000110110101100110110000110001011011111111111001000001100110001001100110000011010110100101111100010111111010000010110000001101011000000100100010011011111011011000110111000101100010010101110011011010110001110010010110010010110010010000001011001110011110001010111111111111000011111001111100011000101100111110011111010001110000001010100101000101110100100110000110010101110101000101110000100101000011010101111001111011111101001101001001001111100111001001010001011010000011110110011100111001101001011011000111000101110011101010010011010111011010100011100001110000101010101011101110011010101001110101000110111110001111001010011110010000110001001110011001010000001110101000111001110011101011110101101100100111111100001010100100010111010001100111011101010110111000100111010111101000110001101110001001000010001111000011000010111100000110001000110100101110010101000110000011011010111101000000100111100011111100100101110000000011000001111001011100100011001010001100100111100001000101110001001011110011011000110101101010110100010000110001010011111001010011011010010100111100010111011000010010110110101111110010010001110111010111000011101101000101110101010101101011001011100010001100101110111001001101111000001011101111000101100111111001000001110011011101100110011000011101010010000011010000011111110000101111101101110100111010011110000100111010111111100111101100011100110000000110001000011110010010001110110101000100100011001100101011010000011101001000000101101111010100001100011100011001111110111001100001000101010111111000101110111110001001001001000010101010011110101101110101110111000110010011101111011110100010111001010110111011000011001001010100011011101110101001100001011111000000111111001010110100000001100000110111000000110010110100101001000011110110110010110001100000000101011111010001100110000111010000000001101001011100000101110101011100010010111111111011100000000110000011001011011000100010000101101101111101000001111000110001010001000001101101100110011010011011000000101110101010111010100001101001111100111111100001010001111010111101011011011111001000111011100111011011100001100110101011110110111101100001000000001111001000001001000100000110011111011100110101111011110101100100110000110000101110000110011000111001010111011111000100111111010000111010001100011110010011001001111110100111111000111010000011011000110001000011010101001000001010111011010111001001001101111111110101101001000101101000111011011011110110100010000111011110110101001001111011000001011010001100001110111001001101111110010011111111110011001111110111110100011010000000101010001000101000110101101101101111100101100101010011111101100000100000111000111101011100000101001010110101110111000011000010110010101111010110011000100011000100000000011000110000001101001101000111100011001000010010110110000010011100000110110001010010001010011101101111010000001100111110101010000011001110100110110111001100001101011111110110011000110100001110111110100010101101011010100111011110001000000001011011000110000100000101100110110011111000101110101000000101000110000000011100011000011100111011000010011111000111000110001000000001111101100111001001100000001000101110010001110010110110001010001100000000101111110010010101011101100001001011110111110000111100111001100010101101100110110001001000110101001100000110000100010010000010110001010110110100001001001101010000001000111100010110111100000011010010001100101000010100000010100111010111001110100001010110000001001011110010000101011101100111100110110010011100000000101000101111001111011100001010111101100001001010101000010110010000000111101110101100101000110110000000101111110011111001000010001101101011110001100111000011101110110001000010000110111010011000011000110100110011101110011100100001110100110000000010010011101100110000101001001011111001101110001110100000010010111001110001101010000001100001001100101011110111101011100110010100110000110001001110101001010110001111111100110001001010110110111111011010111001101000001110110000001001010101000101011101001111110011010000000101011011000110111010000010110110100011101000001000011011010011110000111110001000000111110001001011111001110111001010101101010100111110011100001110110000011011010100011001010100110010000000100011010100111000101001111010000011101100010100010001000000011000001100101101000101011111000000111001010100000100011101111110100111111110101010100001000000001010111010001111010011011111000110010111101000110000000101111001101110010101111001100101011110101100010100110110110001101111000000111010001100101011101111000100011110000001110010001011010111111110000111111000010001001011011011101010101101110110110111010110010101000111101010100110000000100000011110000100110101110000010111100010001111111011010010001000010101001100000110001110011010101010000011100011011110101000001110110000000111000010011111100011101000101100111100010110001000010001011001111101101001101001001010011001100000000101001001100100010010001110010000000111100110111001000001110000110111001010011011110000100101111001100001001011011111011000011101111001100011011111100011100011111100001101010100011000100111100100101001001110010011000100100101111100111010110010001010010000010101100110001100110010110011111110110000101000100001001111100100010100010011010101110000001001000001001010000111101110110011001001101101101001000111110000000011100111100110010001010001001110111111000011011111001000100111001111111101111111001001101001010001110100011101010000010000101000100000100000000011100000110010010011000000011100100100101000010101101010001011001010111010001101100000101110011011110101100000110010100110110111000100001010111110011111100010110000011010001101010010111010001101001010111001010110010001001001100011001000111100110010001000011000011110100110000110000010010000110111001010111011011111010100110010000110110111011011111110110010001101110110000100100110111010100001001011101010111010111100110111011001100011001110010011010001001000011010001111111011011011101101110110101011111110011001010101110010101100011111001111010010100111000110111001111010111111011011100000110101000000110001100001001001100010010110100010000100100010110011110001001101011101111101011101001100100001111101101011101011110010110001001011000111010110000000111010000101011011011110110111111111110000010000100111000110110110011001010000001011111110001000110110101000011110011100100100000000010000100000001110001011001001100001010011101000110011011001011001110010110000100111111111110001111010110011110111111001001101000011000100110110101011110011110111001010101100101011110001101111110010101110100110110101000110001001011011101111011110000001100111110101001001101111110011000001110111000111001110011100000000110100011011001100000111000010111111110001110000100011110011001101100000111111100001000000101100101101000000010101111011111110000111101011100100010000110001010010010110011001000101001110010110100100111011010001100001111110011111100011010101110111100110101001010110101010011000100101110110111001111011010011101101110101010101110100110011111000100000111011100111101011111111100001000010111110101000110001101111111000110000100011101010110010110110110100001111010100110111100101001011100001100101100010100010101001111000101011011110110101001101111110100011010111101000011111000101001110101100010100011001001010000110001100010111001110011001111000001110011001001001010010101001011001000111111010110101111110011001111101011110101010111101000000011000110100101011010001110001011011010111000001010110001'"
      ]
     },
     "execution_count": 9,
     "metadata": {},
     "output_type": "execute_result"
    }
   ],
   "source": [
    "zlib.decompress(enc_.fromhex(enc_.hex()))"
   ]
  },
  {
   "cell_type": "code",
   "execution_count": null,
   "metadata": {},
   "outputs": [],
   "source": []
  }
 ],
 "metadata": {
  "kernelspec": {
   "display_name": "deepxiv",
   "language": "python",
   "name": "python3"
  },
  "language_info": {
   "codemirror_mode": {
    "name": "ipython",
    "version": 3
   },
   "file_extension": ".py",
   "mimetype": "text/x-python",
   "name": "python",
   "nbconvert_exporter": "python",
   "pygments_lexer": "ipython3",
   "version": "3.12.4"
  }
 },
 "nbformat": 4,
 "nbformat_minor": 2
}
