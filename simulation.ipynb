{
 "cells": [
  {
   "cell_type": "code",
   "execution_count": 51,
   "metadata": {},
   "outputs": [],
   "source": [
    "import sys\n",
    "import torch\n",
    "import numpy as np\n",
    "import matplotlib.pyplot as plt"
   ]
  },
  {
   "cell_type": "code",
   "execution_count": 52,
   "metadata": {},
   "outputs": [],
   "source": [
    "sys.path.append('/envs')\n",
    "sys.path.append('/models')\n",
    "import envs.viper as vpr\n",
    "import models.models as models\n",
    "import models.dqn as dqn"
   ]
  },
  {
   "cell_type": "code",
   "execution_count": 53,
   "metadata": {},
   "outputs": [
    {
     "data": {
      "text/plain": [
       "<module 'models.dqn' from 'h:\\\\Coding Projects\\\\Python Projects\\\\Deep-XIV-Rotation\\\\models\\\\dqn.py'>"
      ]
     },
     "execution_count": 53,
     "metadata": {},
     "output_type": "execute_result"
    }
   ],
   "source": [
    "import importlib\n",
    "importlib.reload(vpr); importlib.reload(models); importlib.reload(dqn)"
   ]
  },
  {
   "cell_type": "code",
   "execution_count": 54,
   "metadata": {},
   "outputs": [],
   "source": [
    "torch.cuda.empty_cache()"
   ]
  },
  {
   "cell_type": "code",
   "execution_count": 55,
   "metadata": {},
   "outputs": [
    {
     "name": "stdout",
     "output_type": "stream",
     "text": [
      "b123\n"
     ]
    }
   ],
   "source": [
    "viper_env = vpr.Viper(_sks = 798)"
   ]
  },
  {
   "cell_type": "code",
   "execution_count": 56,
   "metadata": {},
   "outputs": [
    {
     "name": "stdout",
     "output_type": "stream",
     "text": [
      "Created model transnet_v1 with 15 features and 9 actions.\n",
      "Model loaded onto cuda:0.\n",
      "===============================================================================================\n",
      "Layer (type:depth-idx)                        Output Shape              Param #\n",
      "===============================================================================================\n",
      "TransformerNetv1                              [196, 9]                  3,152,896\n",
      "├─Sequential: 1-1                             [196, 7, 512]             --\n",
      "│    └─Linear: 2-1                            [196, 7, 128]             2,048\n",
      "│    └─ReLU: 2-2                              [196, 7, 128]             --\n",
      "│    └─Linear: 2-3                            [196, 7, 256]             33,024\n",
      "│    └─ReLU: 2-4                              [196, 7, 256]             --\n",
      "│    └─Linear: 2-5                            [196, 7, 256]             65,792\n",
      "│    └─ReLU: 2-6                              [196, 7, 256]             --\n",
      "│    └─Linear: 2-7                            [196, 7, 256]             65,792\n",
      "│    └─BatchNorm1d: 2-8                       [196, 7, 256]             14\n",
      "│    └─ReLU: 2-9                              [196, 7, 256]             --\n",
      "│    └─Linear: 2-10                           [196, 7, 2048]            526,336\n",
      "│    └─ReLU: 2-11                             [196, 7, 2048]            --\n",
      "│    └─Linear: 2-12                           [196, 7, 512]             1,049,088\n",
      "│    └─ReLU: 2-13                             [196, 7, 512]             --\n",
      "│    └─Dropout: 2-14                          [196, 7, 512]             --\n",
      "├─TransformerEncoder: 1-2                     [196, 8, 512]             --\n",
      "│    └─ModuleList: 2-15                       --                        --\n",
      "│    │    └─TransformerEncoderLayer: 3-1      [196, 8, 512]             3,152,384\n",
      "│    │    └─TransformerEncoderLayer: 3-2      [196, 8, 512]             3,152,384\n",
      "│    │    └─TransformerEncoderLayer: 3-3      [196, 8, 512]             3,152,384\n",
      "│    │    └─TransformerEncoderLayer: 3-4      [196, 8, 512]             3,152,384\n",
      "│    │    └─TransformerEncoderLayer: 3-5      [196, 8, 512]             3,152,384\n",
      "│    │    └─TransformerEncoderLayer: 3-6      [196, 8, 512]             3,152,384\n",
      "├─Sequential: 1-3                             [196, 9]                  --\n",
      "│    └─Linear: 2-16                           [196, 2048]               1,050,624\n",
      "│    └─ReLU: 2-17                             [196, 2048]               --\n",
      "│    └─Linear: 2-18                           [196, 2048]               4,196,352\n",
      "│    └─BatchNorm1d: 2-19                      [196, 2048]               4,096\n",
      "│    └─ReLU: 2-20                             [196, 2048]               --\n",
      "│    └─Linear: 2-21                           [196, 2048]               4,196,352\n",
      "│    └─ReLU: 2-22                             [196, 2048]               --\n",
      "│    └─Linear: 2-23                           [196, 1024]               2,098,176\n",
      "│    └─ReLU: 2-24                             [196, 1024]               --\n",
      "│    └─Linear: 2-25                           [196, 9]                  9,225\n",
      "===============================================================================================\n",
      "Total params: 35,364,119\n",
      "Trainable params: 35,364,119\n",
      "Non-trainable params: 0\n",
      "Total mult-adds (Units.GIGABYTES): 2.61\n",
      "===============================================================================================\n",
      "Input size (MB): 0.08\n",
      "Forward/backward pass size (MB): 55.21\n",
      "Params size (MB): 53.19\n",
      "Estimated Total Size (MB): 108.48\n",
      "===============================================================================================\n"
     ]
    }
   ],
   "source": [
    "agent = dqn.DQN(viper_env, _max_history=8192)"
   ]
  },
  {
   "cell_type": "code",
   "execution_count": 57,
   "metadata": {},
   "outputs": [
    {
     "name": "stdout",
     "output_type": "stream",
     "text": [
      "Took action: 1-reaving_fangs @ 0.000\n",
      "(0.43, 200, 203.94)\n",
      "Took action: 3-swiftskins_sting @ 2.450\n",
      "(0.61, 300, 313.32)\n",
      "Took action: 6-hindsting_strike @ 4.900\n",
      "(0.83, 400, 385.05)\n",
      "Took action: 8-death_rattle @ 5.600\n",
      "(0.61, 280, 272.98)\n",
      "Took action: 0-steel_fangs @ 6.980\n",
      "(0.64, 300, 287.31)\n",
      "Took action: 2-hunters_sting @ 9.060\n",
      "(0.62, 300, 293.26)\n",
      "Took action: 5-flanksbane_fang @ 11.140\n",
      "(1.18, 550, 551.55)\n",
      "Took action: 0-steel_fangs @ 13.220\n",
      "(0.44, 220, 221.40)\n",
      "Took action: 0-steel_fangs @ 13.920\n",
      "(-0.23, 0, 0.00)\n",
      "5.126222222222222\n"
     ]
    }
   ],
   "source": [
    "action_sequence=[1, 3, 6, 8, 0, 2, 5, 0, 0]\n",
    "agent.env.reset_env()\n",
    "_sum = 0\n",
    "for a in action_sequence:\n",
    "    res = agent.env.step(a, True)\n",
    "    _sum+=res[0]\n",
    "    print(f'({res[0]:.2f}, {res[1]:.0f}, {res[2]:.2f})')\n",
    "print(_sum)"
   ]
  },
  {
   "cell_type": "code",
   "execution_count": 58,
   "metadata": {},
   "outputs": [],
   "source": [
    "agent.reset_environment()"
   ]
  },
  {
   "cell_type": "code",
   "execution_count": 59,
   "metadata": {},
   "outputs": [
    {
     "name": "stdout",
     "output_type": "stream",
     "text": [
      "Epoch 0 Loss: 4.37e-04 E_0: 0.25 E_1: 0.10 G: 0.80 Rewards: 2.4 Eval Rewards: -10.01, LR: 1.3e-05 SKS: 528\n",
      "Epoch 1 Loss: 1.66e-04 E_0: 0.25 E_1: 0.10 G: 0.80 Rewards: 0.5 Eval Rewards: -7.41, LR: 1.3e-05 SKS: 420\n",
      "Epoch 2 Loss: 1.22e-04 E_0: 0.25 E_1: 0.10 G: 0.80 Rewards: -3.4 Eval Rewards: -7.41, LR: 1.4e-05 SKS: 582\n",
      "Epoch 3 Loss: 1.17e-04 E_0: 0.25 E_1: 0.10 G: 0.80 Rewards: -1.5 Eval Rewards: -7.41, LR: 1.4e-05 SKS: 768\n",
      "Epoch 4 Loss: 1.12e-04 E_0: 0.25 E_1: 0.09 G: 0.80 Rewards: 0.0 Eval Rewards: -7.41, LR: 1.5e-05 SKS: 822\n",
      "Epoch 5 Loss: 1.16e-04 E_0: 0.25 E_1: 0.09 G: 0.80 Rewards: 2.1 Eval Rewards: -7.41, LR: 1.5e-05 SKS: 420\n",
      "Epoch 6 Loss: 1.23e-04 E_0: 0.25 E_1: 0.09 G: 0.80 Rewards: 7.4 Eval Rewards: -3.06, LR: 1.6e-05 SKS: 822\n",
      "Epoch 7 Loss: 1.17e-04 E_0: 0.25 E_1: 0.09 G: 0.80 Rewards: -5.8 Eval Rewards: -7.41, LR: 1.6e-05 SKS: 768\n",
      "Epoch 8 Loss: 1.18e-04 E_0: 0.25 E_1: 0.09 G: 0.80 Rewards: 8.0 Eval Rewards: -7.41, LR: 1.7e-05 SKS: 768\n",
      "Epoch 9 Loss: 1.20e-04 E_0: 0.25 E_1: 0.08 G: 0.80 Rewards: 4.9 Eval Rewards: -7.41, LR: 1.7e-05 SKS: 768\n",
      "Done\n"
     ]
    }
   ],
   "source": [
    "agent.train(gamma=0.80, num_epochs=110, session_limit=100)"
   ]
  },
  {
   "cell_type": "code",
   "execution_count": 60,
   "metadata": {},
   "outputs": [
    {
     "data": {
      "image/png": "[encoded data removed]",
      "text/plain": [
       "<Figure size 640x480 with 1 Axes>"
      ]
     },
     "metadata": {},
     "output_type": "display_data"
    }
   ],
   "source": [
    "history_x = agent.training_history_x\n",
    "history_y = agent.training_history_y\n",
    "fig, ax = plt.subplots()\n",
    "fig.suptitle(f'Rewards {agent.model_name} LR: {agent.lr:.1e}')\n",
    "ax.plot(history_x, history_y)\n",
    "ax.legend(['Train Rewards', 'Eval Rewards'])\n",
    "ax.set_xlabel('Epoch')\n",
    "ax.set_ylabel('Rewards')\n",
    "plt.savefig('rewards_graph.png', bbox_inches='tight')\n",
    "plt.show()"
   ]
  },
  {
   "cell_type": "code",
   "execution_count": 61,
   "metadata": {},
   "outputs": [
    {
     "name": "stderr",
     "output_type": "stream",
     "text": [
      "h:\\Coding Projects\\Python Projects\\Deep-XIV-Rotation\\models\\dqn.py:345: FutureWarning: You are using `torch.load` with `weights_only=False` (the current default value), which uses the default pickle module implicitly. It is possible to construct malicious pickle data which will execute arbitrary code during unpickling (See https://github.com/pytorch/pytorch/blob/main/SECURITY.md#untrusted-models for more details). In a future release, the default value for `weights_only` will be flipped to `True`. This limits the functions that could be executed during unpickling. Arbitrary objects will no longer be allowed to be loaded via this mode unless they are explicitly allowlisted by the user via `torch.serialization.add_safe_globals`. We recommend you start setting `weights_only=True` for any use case where you don't have full control of the loaded file. Please open an issue on GitHub for any issues related to this experimental feature.\n",
      "  self.model.load_state_dict(checkpoint['model'])\n"
     ]
    }
   ],
   "source": [
    "agent.load_checkpoint(f'./checkpoints/_{agent.model_name}_best.pth')"
   ]
  },
  {
   "cell_type": "code",
   "execution_count": 13,
   "metadata": {},
   "outputs": [
    {
     "data": {
      "text/plain": [
       "2.08"
      ]
     },
     "execution_count": 13,
     "metadata": {},
     "output_type": "execute_result"
    }
   ],
   "source": [
    "viper_env.compute_gcd(2.5, 798, 15)"
   ]
  },
  {
   "cell_type": "code",
   "execution_count": 62,
   "metadata": {},
   "outputs": [
    {
     "name": "stdout",
     "output_type": "stream",
     "text": [
      "tensor([ 2.4500, 10.0000,  0.0000,  0.0000,  0.0000,  0.0000,  0.0000,  0.0000,\n",
      "         0.0000,  0.0000,  0.0000,  1.0000,  0.0000,  0.0000,  0.0000])\n",
      "Took action: 0-steel_fangs @ 0.000\n",
      "(0.43, 200, 190.97)\n",
      "Took action: 0-steel_fangs @ 0.700\n",
      "(-0.23, 0, 0.00)\n",
      "Took action: 0-steel_fangs @ 1.100\n",
      "(-0.23, 0, 0.00)\n",
      "Took action: 0-steel_fangs @ 1.500\n",
      "(-0.23, 0, 0.00)\n",
      "Took action: 0-steel_fangs @ 1.900\n",
      "(-0.23, 0, 0.00)\n"
     ]
    },
    {
     "data": {
      "text/plain": [
       "-0.49555555555555564"
      ]
     },
     "execution_count": 62,
     "metadata": {},
     "output_type": "execute_result"
    }
   ],
   "source": [
    "# 2.12, 2.11, 2.10, 2.09, 2.08\n",
    "#[420, 528, 582, 768, 822]\n",
    "agent.test(num_steps=5, _sks=822)"
   ]
  },
  {
   "cell_type": "code",
   "execution_count": 15,
   "metadata": {},
   "outputs": [
    {
     "data": {
      "text/plain": [
       "tensor([[-0.0209,  0.0600, -0.0077,  0.0606,  0.0515,  0.0271,  0.0353,  0.0782,\n",
       "         -0.0006]], device='cuda:0')"
      ]
     },
     "execution_count": 15,
     "metadata": {},
     "output_type": "execute_result"
    }
   ],
   "source": [
    "pred = agent.predict(agent.env.state())\n",
    "pred"
   ]
  },
  {
   "cell_type": "code",
   "execution_count": 16,
   "metadata": {},
   "outputs": [
    {
     "data": {
      "text/plain": [
       "tensor([[ 0.1179,  0.1261,  0.0107,  0.0510, -0.0158, -0.0016, -0.0866,  0.0297,\n",
       "         -0.0682]], device='cuda:0')"
      ]
     },
     "execution_count": 16,
     "metadata": {},
     "output_type": "execute_result"
    }
   ],
   "source": [
    "agent.env.reset_env()\n",
    "pred = agent.predict(agent.env.state())\n",
    "pred"
   ]
  },
  {
   "cell_type": "code",
   "execution_count": 17,
   "metadata": {},
   "outputs": [
    {
     "data": {
      "text/plain": [
       "tensor([ 2.5000, 10.0000,  0.0000,  0.0000,  0.0000,  0.0000,  0.0000,  0.0000,\n",
       "         0.0000,  0.0000,  0.0000,  1.0000,  0.0000,  0.0000,  0.0000])"
      ]
     },
     "execution_count": 17,
     "metadata": {},
     "output_type": "execute_result"
    }
   ],
   "source": [
    "agent.env.state()"
   ]
  },
  {
   "cell_type": "markdown",
   "metadata": {},
   "source": [
    "terraform aws\n",
    "kubernites\n",
    "helm?\n",
    "look into"
   ]
  },
  {
   "cell_type": "code",
   "execution_count": 1,
   "metadata": {},
   "outputs": [],
   "source": [
    "from collections import deque\n",
    "import itertools"
   ]
  },
  {
   "cell_type": "code",
   "execution_count": 28,
   "metadata": {},
   "outputs": [
    {
     "data": {
      "text/plain": [
       "tensor([[3., 1.],\n",
       "        [2., 4.],\n",
       "        [1., 3.]])"
      ]
     },
     "execution_count": 28,
     "metadata": {},
     "output_type": "execute_result"
    }
   ],
   "source": [
    "test_q = deque([], maxlen=3)\n",
    "test_q.appendleft([1, 2])\n",
    "test_q.appendleft([1, 3])\n",
    "test_q.appendleft([2, 4])\n",
    "test_q.appendleft([3, 1])\n",
    "test_q_out = []\n",
    "for i in range(test_q.maxlen):\n",
    "    test_q_out.append(torch.tensor(test_q[i], dtype=torch.float32))\n",
    "torch.stack(test_q_out, dim=0)"
   ]
  },
  {
   "cell_type": "code",
   "execution_count": 31,
   "metadata": {},
   "outputs": [
    {
     "data": {
      "text/plain": [
       "deque([], maxlen=3)"
      ]
     },
     "execution_count": 31,
     "metadata": {},
     "output_type": "execute_result"
    }
   ],
   "source": [
    "test_q.clear()\n",
    "test_q"
   ]
  },
  {
   "cell_type": "code",
   "execution_count": 48,
   "metadata": {},
   "outputs": [
    {
     "name": "stdout",
     "output_type": "stream",
     "text": [
      "tensor([[0.8276, 0.2808, 0.9009],\n",
      "        [0.0067, 0.8993, 0.5847],\n",
      "        [0.5907, 0.1831, 0.9466],\n",
      "        [0.0575, 0.8323, 0.6673],\n",
      "        [0.5993, 0.2255, 0.9230],\n",
      "        [0.4593, 0.8210, 0.6263],\n",
      "        [0.2399, 0.5762, 0.1010],\n",
      "        [0.3110, 0.0190, 0.6009]]) tensor([0.5336, 0.9040, 0.8243])\n"
     ]
    }
   ],
   "source": [
    "temppp = torch.rand((7,3))\n",
    "temppp2 = torch.rand(3)\n",
    "print(temppp, temppp2)"
   ]
  },
  {
   "cell_type": "code",
   "execution_count": 50,
   "metadata": {},
   "outputs": [
    {
     "data": {
      "text/plain": [
       "tensor([[0.5336, 0.9040, 0.8243],\n",
       "        [0.8276, 0.2808, 0.9009],\n",
       "        [0.0067, 0.8993, 0.5847],\n",
       "        [0.5907, 0.1831, 0.9466],\n",
       "        [0.0575, 0.8323, 0.6673],\n",
       "        [0.5993, 0.2255, 0.9230],\n",
       "        [0.4593, 0.8210, 0.6263],\n",
       "        [0.2399, 0.5762, 0.1010]])"
      ]
     },
     "execution_count": 50,
     "metadata": {},
     "output_type": "execute_result"
    }
   ],
   "source": [
    "torch.vstack((temppp2, temppp))[:-1]"
   ]
  },
  {
   "cell_type": "code",
   "execution_count": null,
   "metadata": {},
   "outputs": [],
   "source": []
  }
 ],
 "metadata": {
  "kernelspec": {
   "display_name": "deepxiv",
   "language": "python",
   "name": "python3"
  },
  "language_info": {
   "codemirror_mode": {
    "name": "ipython",
    "version": 3
   },
   "file_extension": ".py",
   "mimetype": "text/x-python",
   "name": "python",
   "nbconvert_exporter": "python",
   "pygments_lexer": "ipython3",
   "version": "3.12.4"
  }
 },
 "nbformat": 4,
 "nbformat_minor": 2
}
