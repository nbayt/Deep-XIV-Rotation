{
 "cells": [
  {
   "cell_type": "code",
   "execution_count": 1,
   "metadata": {},
   "outputs": [],
   "source": [
    "import sys\n",
    "import torch\n",
    "import numpy as np"
   ]
  },
  {
   "cell_type": "code",
   "execution_count": 2,
   "metadata": {},
   "outputs": [],
   "source": [
    "sys.path.append('/envs')\n",
    "sys.path.append('/models')\n",
    "import envs.viper as vpr\n",
    "import models.models as models\n",
    "import models.dqn as dqn"
   ]
  },
  {
   "cell_type": "code",
   "execution_count": 3,
   "metadata": {},
   "outputs": [
    {
     "data": {
      "text/plain": [
       "<module 'models.dqn' from 'h:\\\\Coding Projects\\\\Python Projects\\\\Deep-XIV-Rotation\\\\models\\\\dqn.py'>"
      ]
     },
     "execution_count": 3,
     "metadata": {},
     "output_type": "execute_result"
    }
   ],
   "source": [
    "import importlib\n",
    "importlib.reload(vpr); importlib.reload(models); importlib.reload(dqn)"
   ]
  },
  {
   "cell_type": "code",
   "execution_count": 4,
   "metadata": {},
   "outputs": [
    {
     "name": "stdout",
     "output_type": "stream",
     "text": [
      "b123\n"
     ]
    }
   ],
   "source": [
    "viper_env = vpr.Viper(_sks = 798)"
   ]
  },
  {
   "cell_type": "code",
   "execution_count": 5,
   "metadata": {},
   "outputs": [
    {
     "data": {
      "text/plain": [
       "11"
      ]
     },
     "execution_count": 5,
     "metadata": {},
     "output_type": "execute_result"
    }
   ],
   "source": [
    "viper_env.get_max_actions()"
   ]
  },
  {
   "cell_type": "code",
   "execution_count": 6,
   "metadata": {},
   "outputs": [
    {
     "data": {
      "text/plain": [
       "8"
      ]
     },
     "execution_count": 6,
     "metadata": {},
     "output_type": "execute_result"
    }
   ],
   "source": [
    "viper_env.get_state_shape()"
   ]
  },
  {
   "cell_type": "code",
   "execution_count": 7,
   "metadata": {},
   "outputs": [
    {
     "data": {
      "text/plain": [
       "tensor([[ 0.0000,  2.4500, 10.0000,  0.0000,  0.0000,  0.0000,  0.0000,  0.0000]])"
      ]
     },
     "execution_count": 7,
     "metadata": {},
     "output_type": "execute_result"
    }
   ],
   "source": [
    "state = viper_env.state()\n",
    "state[None, :]"
   ]
  },
  {
   "cell_type": "code",
   "execution_count": 8,
   "metadata": {},
   "outputs": [
    {
     "data": {
      "text/plain": [
       "tensor([[ 0.0000,  2.4500, 10.0000,  0.0000,  0.0000,  0.0000,  0.0000,  0.0000]])"
      ]
     },
     "execution_count": 8,
     "metadata": {},
     "output_type": "execute_result"
    }
   ],
   "source": [
    "state.unsqueeze(0)"
   ]
  },
  {
   "cell_type": "code",
   "execution_count": 9,
   "metadata": {},
   "outputs": [
    {
     "name": "stdout",
     "output_type": "stream",
     "text": [
      "==========================================================================================\n",
      "Layer (type:depth-idx)                   Output Shape              Param #\n",
      "==========================================================================================\n",
      "DenseNet                                 [8, 11]                   --\n",
      "├─Linear: 1-1                            [8, 2048]                 18,432\n",
      "├─Linear: 1-2                            [8, 11]                   22,539\n",
      "==========================================================================================\n",
      "Total params: 40,971\n",
      "Trainable params: 40,971\n",
      "Non-trainable params: 0\n",
      "Total mult-adds (Units.MEGABYTES): 0.33\n",
      "==========================================================================================\n",
      "Input size (MB): 0.00\n",
      "Forward/backward pass size (MB): 0.13\n",
      "Params size (MB): 0.16\n",
      "Estimated Total Size (MB): 0.30\n",
      "==========================================================================================\n"
     ]
    }
   ],
   "source": [
    "agent = dqn.DQN(viper_env)"
   ]
  },
  {
   "cell_type": "code",
   "execution_count": 10,
   "metadata": {},
   "outputs": [
    {
     "data": {
      "text/plain": [
       "device(type='cpu')"
      ]
     },
     "execution_count": 10,
     "metadata": {},
     "output_type": "execute_result"
    }
   ],
   "source": [
    "torch.device('cpu')"
   ]
  },
  {
   "cell_type": "code",
   "execution_count": 11,
   "metadata": {},
   "outputs": [
    {
     "name": "stdout",
     "output_type": "stream",
     "text": [
      "tensor([[0.6770, 0.4181, 0.9794, 0.6353, 0.6594, 0.4733, 0.1152, 0.2208],\n",
      "        [0.6669, 0.4212, 0.8459, 0.0290, 0.5295, 0.4094, 0.7452, 0.9959],\n",
      "        [0.6254, 0.4951, 0.8700, 0.8714, 0.7652, 0.5708, 0.3957, 0.8350],\n",
      "        [0.1614, 0.8443, 0.5942, 0.7357, 0.0706, 0.5353, 0.5070, 0.1524],\n",
      "        [0.9077, 0.5620, 0.7096, 0.4708, 0.0613, 0.4117, 0.9513, 0.1385]])\n",
      "tensor([0, 4, 0, 0, 6], dtype=torch.int32)\n"
     ]
    }
   ],
   "source": [
    "inputs = torch.rand(5, viper_env.get_state_shape())\n",
    "print(inputs)\n",
    "preds = agent.get_action(inputs)\n",
    "print(preds)"
   ]
  },
  {
   "cell_type": "code",
   "execution_count": 12,
   "metadata": {},
   "outputs": [
    {
     "name": "stdout",
     "output_type": "stream",
     "text": [
      "Taking action steel_fangs\n",
      "(200.0, 198.64)\n"
     ]
    },
    {
     "data": {
      "text/plain": [
       "tensor([ 0.7000,  3.4400,  0.7000,  1.0000, 59.3000,  0.0000,  0.0000,  0.0000])"
      ]
     },
     "execution_count": 12,
     "metadata": {},
     "output_type": "execute_result"
    }
   ],
   "source": [
    "print(viper_env.step(1))\n",
    "viper_env.state()"
   ]
  },
  {
   "cell_type": "code",
   "execution_count": 13,
   "metadata": {},
   "outputs": [
    {
     "name": "stdout",
     "output_type": "stream",
     "text": [
      "Taking action nothing\n",
      "(-1.0, 0.0)\n",
      "tensor([ 0.8000,  3.4400,  0.8000,  1.0000, 59.2000,  0.0000,  0.0000,  0.0000])\n",
      "Taking action nothing\n",
      "(-1.0, 0.0)\n",
      "tensor([ 0.9000,  3.4400,  0.9000,  1.0000, 59.1000,  0.0000,  0.0000,  0.0000])\n",
      "Taking action nothing\n",
      "(-1.0, 0.0)\n",
      "tensor([ 1.0000,  3.4400,  1.0000,  1.0000, 59.0000,  0.0000,  0.0000,  0.0000])\n",
      "Taking action nothing\n",
      "(-1.0, 0.0)\n",
      "tensor([ 1.1000,  3.4400,  1.1000,  1.0000, 58.9000,  0.0000,  0.0000,  0.0000])\n",
      "Taking action nothing\n",
      "(-1.0, 0.0)\n",
      "tensor([ 1.2000,  3.4400,  1.2000,  1.0000, 58.8000,  0.0000,  0.0000,  0.0000])\n",
      "Taking action nothing\n",
      "(-1.0, 0.0)\n",
      "tensor([ 1.3000,  3.4400,  1.3000,  1.0000, 58.7000,  0.0000,  0.0000,  0.0000])\n",
      "Taking action nothing\n",
      "(-1.0, 0.0)\n",
      "tensor([ 1.4000,  3.4400,  1.4000,  1.0000, 58.6000,  0.0000,  0.0000,  0.0000])\n",
      "Taking action nothing\n",
      "(-1.0, 0.0)\n",
      "tensor([ 1.5000,  3.4400,  1.5000,  1.0000, 58.5000,  0.0000,  0.0000,  0.0000])\n",
      "Taking action nothing\n",
      "(-1.0, 0.0)\n",
      "tensor([ 1.6000,  3.4400,  1.6000,  1.0000, 58.4000,  0.0000,  0.0000,  0.0000])\n",
      "Taking action nothing\n",
      "(-1.0, 0.0)\n",
      "tensor([ 1.7000,  3.4400,  1.7000,  1.0000, 58.3000,  0.0000,  0.0000,  0.0000])\n",
      "Taking action nothing\n",
      "(-1.0, 0.0)\n",
      "tensor([ 1.8000,  3.4400,  1.8000,  1.0000, 58.2000,  0.0000,  0.0000,  0.0000])\n",
      "Taking action nothing\n",
      "(-1.0, 0.0)\n",
      "tensor([ 1.9000,  3.4400,  1.9000,  1.0000, 58.1000,  0.0000,  0.0000,  0.0000])\n",
      "Taking action nothing\n",
      "(-1.0, 0.0)\n",
      "tensor([ 2.0000,  3.4400,  2.0000,  1.0000, 58.0000,  0.0000,  0.0000,  0.0000])\n",
      "Taking action nothing\n",
      "(-1.0, 0.0)\n",
      "tensor([ 2.1000,  3.4400,  2.1000,  1.0000, 57.9000,  0.0000,  0.0000,  0.0000])\n",
      "Taking action nothing\n",
      "(-1.0, 0.0)\n",
      "tensor([ 2.2000,  3.4400,  2.2000,  1.0000, 57.8000,  0.0000,  0.0000,  0.0000])\n",
      "Taking action nothing\n",
      "(-1.0, 0.0)\n",
      "tensor([ 2.3000,  3.4400,  2.3000,  1.0000, 57.7000,  0.0000,  0.0000,  0.0000])\n",
      "Taking action nothing\n",
      "(-1.0, 0.0)\n",
      "tensor([ 2.4000,  3.4400,  2.4000,  1.0000, 57.6000,  0.0000,  0.0000,  0.0000])\n",
      "Taking action nothing\n",
      "(-1.0, 0.0)\n",
      "tensor([ 2.5000,  3.4400,  2.5000,  1.0000, 57.5000,  0.0000,  0.0000,  0.0000])\n",
      "Taking action nothing\n",
      "(-1.0, 0.0)\n",
      "tensor([ 2.6000,  3.4400,  2.6000,  1.0000, 57.4000,  0.0000,  0.0000,  0.0000])\n",
      "Taking action nothing\n",
      "(-1.0, 0.0)\n",
      "tensor([ 2.7000,  3.4400,  2.7000,  1.0000, 57.3000,  0.0000,  0.0000,  0.0000])\n",
      "Taking action nothing\n",
      "(-1.0, 0.0)\n",
      "tensor([ 2.8000,  3.4400,  2.8000,  1.0000, 57.2000,  0.0000,  0.0000,  0.0000])\n",
      "Taking action nothing\n",
      "(-1.0, 0.0)\n",
      "tensor([ 2.9000,  3.4400,  2.9000,  1.0000, 57.1000,  0.0000,  0.0000,  0.0000])\n",
      "Taking action nothing\n",
      "(-1.0, 0.0)\n",
      "tensor([ 3.0000,  3.4400,  3.0000,  1.0000, 57.0000,  0.0000,  0.0000,  0.0000])\n",
      "Taking action nothing\n",
      "(-1.0, 0.0)\n",
      "tensor([ 3.1000,  3.4400,  3.1000,  1.0000, 56.9000,  0.0000,  0.0000,  0.0000])\n",
      "Taking action nothing\n",
      "(-1.0, 0.0)\n",
      "tensor([ 3.2000,  3.4400,  3.2000,  1.0000, 56.8000,  0.0000,  0.0000,  0.0000])\n"
     ]
    }
   ],
   "source": [
    "for i in range(25):\n",
    "    print(viper_env.step(0))\n",
    "    print(viper_env.state())"
   ]
  },
  {
   "cell_type": "code",
   "execution_count": 14,
   "metadata": {},
   "outputs": [
    {
     "name": "stdout",
     "output_type": "stream",
     "text": [
      "Taking action hunters_sting\n",
      "(327.6, 345.78)\n"
     ]
    },
    {
     "data": {
      "text/plain": [
       "tensor([ 4.1400,  2.4500,  0.7000,  2.0000, 55.8600,  0.0000, 39.3000,  0.0000])"
      ]
     },
     "execution_count": 14,
     "metadata": {},
     "output_type": "execute_result"
    }
   ],
   "source": [
    "print(viper_env.step(3))\n",
    "viper_env.state()"
   ]
  },
  {
   "cell_type": "code",
   "execution_count": 15,
   "metadata": {},
   "outputs": [
    {
     "data": {
      "text/plain": [
       "2.5"
      ]
     },
     "execution_count": 15,
     "metadata": {},
     "output_type": "execute_result"
    }
   ],
   "source": [
    "viper_env.compute_gcd(2.5, 10, 0)"
   ]
  },
  {
   "cell_type": "code",
   "execution_count": null,
   "metadata": {},
   "outputs": [],
   "source": []
  }
 ],
 "metadata": {
  "kernelspec": {
   "display_name": "deepxiv",
   "language": "python",
   "name": "python3"
  },
  "language_info": {
   "codemirror_mode": {
    "name": "ipython",
    "version": 3
   },
   "file_extension": ".py",
   "mimetype": "text/x-python",
   "name": "python",
   "nbconvert_exporter": "python",
   "pygments_lexer": "ipython3",
   "version": "3.12.4"
  }
 },
 "nbformat": 4,
 "nbformat_minor": 2
}
