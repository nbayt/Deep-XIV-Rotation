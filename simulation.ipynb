{
 "cells": [
  {
   "cell_type": "code",
   "execution_count": 1,
   "metadata": {},
   "outputs": [],
   "source": [
    "import sys\n",
    "import torch\n",
    "import numpy as np\n",
    "import matplotlib.pyplot as plt"
   ]
  },
  {
   "cell_type": "code",
   "execution_count": 2,
   "metadata": {},
   "outputs": [],
   "source": [
    "sys.path.append('/envs')\n",
    "sys.path.append('/models')\n",
    "import envs.viper as vpr\n",
    "import models.models as models\n",
    "import models.dqn as dqn"
   ]
  },
  {
   "cell_type": "code",
   "execution_count": 3,
   "metadata": {},
   "outputs": [
    {
     "data": {
      "text/plain": [
       "<module 'models.dqn' from 'h:\\\\Coding Projects\\\\Python Projects\\\\Deep-XIV-Rotation\\\\models\\\\dqn.py'>"
      ]
     },
     "execution_count": 3,
     "metadata": {},
     "output_type": "execute_result"
    }
   ],
   "source": [
    "import importlib\n",
    "importlib.reload(vpr); importlib.reload(models); importlib.reload(dqn)"
   ]
  },
  {
   "cell_type": "code",
   "execution_count": 4,
   "metadata": {},
   "outputs": [],
   "source": [
    "torch.cuda.empty_cache()"
   ]
  },
  {
   "cell_type": "code",
   "execution_count": 5,
   "metadata": {},
   "outputs": [
    {
     "name": "stdout",
     "output_type": "stream",
     "text": [
      "b123\n"
     ]
    }
   ],
   "source": [
    "viper_env = vpr.Viper(_sks = 798)"
   ]
  },
  {
   "cell_type": "code",
   "execution_count": 6,
   "metadata": {},
   "outputs": [
    {
     "name": "stderr",
     "output_type": "stream",
     "text": [
      "h:\\Coding Projects\\Python Projects\\Deep-XIV-Rotation\\models\\models.py:266: UserWarning: To copy construct from a tensor, it is recommended to use sourceTensor.clone().detach() or sourceTensor.clone().detach().requires_grad_(True), rather than torch.tensor(sourceTensor).\n",
      "  self.pos_embed = nn.Parameter(torch.tensor(self.get_positional_embeddings(_his_len + 1, self.hidden_dim)))\n"
     ]
    },
    {
     "name": "stdout",
     "output_type": "stream",
     "text": [
      "Created model transnet_v1 with 15 features and 9 actions.\n",
      "Model loaded onto cuda:0.\n",
      "===============================================================================================\n",
      "Layer (type:depth-idx)                        Output Shape              Param #\n",
      "===============================================================================================\n",
      "TransformerNetv1                              [196, 9]                  4,929,920\n",
      "├─Sequential: 1-1                             [196, 8, 640]             --\n",
      "│    └─Linear: 2-1                            [196, 8, 512]             8,192\n",
      "│    └─SELU: 2-2                              [196, 8, 512]             --\n",
      "│    └─Linear: 2-3                            [196, 8, 256]             131,328\n",
      "│    └─ReLU: 2-4                              [196, 8, 256]             --\n",
      "│    └─Linear: 2-5                            [196, 8, 256]             65,792\n",
      "│    └─SELU: 2-6                              [196, 8, 256]             --\n",
      "│    └─Linear: 2-7                            [196, 8, 256]             65,792\n",
      "│    └─BatchNorm1d: 2-8                       [196, 8, 256]             16\n",
      "│    └─ReLU: 2-9                              [196, 8, 256]             --\n",
      "│    └─Linear: 2-10                           [196, 8, 2560]            657,920\n",
      "│    └─ReLU: 2-11                             [196, 8, 2560]            --\n",
      "│    └─Linear: 2-12                           [196, 8, 640]             1,639,040\n",
      "│    └─SELU: 2-13                             [196, 8, 640]             --\n",
      "│    └─Dropout: 2-14                          [196, 8, 640]             --\n",
      "├─TransformerEncoder: 1-2                     [196, 9, 640]             --\n",
      "│    └─ModuleList: 2-15                       --                        --\n",
      "│    │    └─TransformerEncoderLayer: 3-1      [196, 9, 640]             4,923,520\n",
      "│    │    └─TransformerEncoderLayer: 3-2      [196, 9, 640]             4,923,520\n",
      "│    │    └─TransformerEncoderLayer: 3-3      [196, 9, 640]             4,923,520\n",
      "│    │    └─TransformerEncoderLayer: 3-4      [196, 9, 640]             4,923,520\n",
      "│    │    └─TransformerEncoderLayer: 3-5      [196, 9, 640]             4,923,520\n",
      "│    │    └─TransformerEncoderLayer: 3-6      [196, 9, 640]             4,923,520\n",
      "├─Sequential: 1-3                             [196, 9]                  --\n",
      "│    └─Linear: 2-16                           [196, 2048]               1,312,768\n",
      "│    └─ReLU: 2-17                             [196, 2048]               --\n",
      "│    └─Linear: 2-18                           [196, 2048]               4,196,352\n",
      "│    └─BatchNorm1d: 2-19                      [196, 2048]               4,096\n",
      "│    └─ReLU: 2-20                             [196, 2048]               --\n",
      "│    └─Linear: 2-21                           [196, 2048]               4,196,352\n",
      "│    └─ReLU: 2-22                             [196, 2048]               --\n",
      "│    └─Linear: 2-23                           [196, 1024]               2,098,176\n",
      "│    └─SELU: 2-24                             [196, 1024]               --\n",
      "│    └─Linear: 2-25                           [196, 9]                  9,225\n",
      "===============================================================================================\n",
      "Total params: 48,856,089\n",
      "Trainable params: 48,850,329\n",
      "Non-trainable params: 5,760\n",
      "Total mult-adds (Units.GIGABYTES): 2.82\n",
      "===============================================================================================\n",
      "Input size (MB): 0.09\n",
      "Forward/backward pass size (MB): 73.87\n",
      "Params size (MB): 57.54\n",
      "Estimated Total Size (MB): 131.51\n",
      "===============================================================================================\n"
     ]
    },
    {
     "name": "stderr",
     "output_type": "stream",
     "text": [
      "c:\\Users\\nickb\\anaconda3\\envs\\deepxiv\\Lib\\site-packages\\torch\\nn\\modules\\transformer.py:720: UserWarning: 1Torch was not compiled with flash attention. (Triggered internally at C:\\cb\\pytorch_1000000000000\\work\\aten\\src\\ATen\\native\\transformers\\cuda\\sdp_utils.cpp:555.)\n",
      "  return torch._transformer_encoder_layer_fwd(\n"
     ]
    }
   ],
   "source": [
    "agent = dqn.DQN(viper_env, _max_history=8192)"
   ]
  },
  {
   "cell_type": "code",
   "execution_count": 7,
   "metadata": {},
   "outputs": [
    {
     "name": "stdout",
     "output_type": "stream",
     "text": [
      "Took action: 1-reaving_fangs @ 0.000\n",
      "(0.43, 200, 194.66)\n",
      "Took action: 3-swiftskins_sting @ 2.450\n",
      "(0.61, 300, 287.62)\n",
      "Took action: 6-hindsting_strike @ 4.900\n",
      "(0.83, 400, 419.83)\n",
      "Took action: 8-death_rattle @ 5.600\n",
      "(0.61, 280, 273.05)\n",
      "Took action: 0-steel_fangs @ 6.980\n",
      "(0.64, 300, 285.87)\n",
      "Took action: 2-hunters_sting @ 9.060\n",
      "(0.62, 300, 301.47)\n",
      "Took action: 5-flanksbane_fang @ 11.140\n",
      "(1.18, 550, 558.56)\n",
      "Took action: 0-steel_fangs @ 13.220\n",
      "(0.44, 220, 227.61)\n",
      "Took action: 0-steel_fangs @ 13.920\n",
      "(-0.23, 0, 0.00)\n",
      "5.126222222222222\n"
     ]
    }
   ],
   "source": [
    "action_sequence=[1, 3, 6, 8, 0, 2, 5, 0, 0]\n",
    "agent.env.reset_env()\n",
    "_sum = 0\n",
    "for a in action_sequence:\n",
    "    res = agent.env.step(a, True)\n",
    "    _sum+=res[0]\n",
    "    print(f'({res[0]:.2f}, {res[1]:.0f}, {res[2]:.2f})')\n",
    "print(_sum)"
   ]
  },
  {
   "cell_type": "code",
   "execution_count": 8,
   "metadata": {},
   "outputs": [],
   "source": [
    "agent.reset_environment()"
   ]
  },
  {
   "cell_type": "code",
   "execution_count": 13,
   "metadata": {},
   "outputs": [
    {
     "name": "stdout",
     "output_type": "stream",
     "text": [
      "Epoch 0 Loss: 1.57e-04 E_0: 0.11 E_1: 0.25 G: 0.80 Rewards: -1.9 Eval Rewards: -4.42, LR: 5.0e-05 SKS: 768\n",
      "Epoch 1 Loss: 1.60e-04 E_0: 0.11 E_1: 0.25 G: 0.80 Rewards: -5.7 Eval Rewards: -3.20, LR: 5.0e-05 SKS: 822\n",
      "Epoch 2 Loss: 1.51e-04 E_0: 0.12 E_1: 0.25 G: 0.80 Rewards: -3.9 Eval Rewards: -4.44, LR: 5.0e-05 SKS: 822\n",
      "Epoch 3 Loss: 1.53e-04 E_0: 0.12 E_1: 0.25 G: 0.80 Rewards: 1.8 Eval Rewards: -4.43, LR: 5.0e-05 SKS: 768\n",
      "Epoch 4 Loss: 1.50e-04 E_0: 0.12 E_1: 0.25 G: 0.80 Rewards: -8.1 Eval Rewards: -4.44, LR: 5.0e-05 SKS: 528\n",
      "Epoch 5 Loss: 1.49e-04 E_0: 0.12 E_1: 0.25 G: 0.80 Rewards: -0.6 Eval Rewards: -4.45, LR: 5.0e-05 SKS: 768\n",
      "Epoch 6 Loss: 1.51e-04 E_0: 0.12 E_1: 0.25 G: 0.80 Rewards: -2.4 Eval Rewards: -4.44, LR: 5.0e-05 SKS: 582\n",
      "Epoch 7 Loss: 1.58e-04 E_0: 0.13 E_1: 0.25 G: 0.80 Rewards: -1.7 Eval Rewards: -5.27, LR: 5.0e-05 SKS: 420\n",
      "Epoch 8 Loss: 1.57e-04 E_0: 0.13 E_1: 0.25 G: 0.80 Rewards: 3.9 Eval Rewards: -5.27, LR: 5.0e-05 SKS: 420\n",
      "Epoch 9 Loss: 1.55e-04 E_0: 0.13 E_1: 0.25 G: 0.80 Rewards: 1.0 Eval Rewards: -5.27, LR: 5.0e-05 SKS: 822\n",
      "Epoch 10 Loss: 1.53e-04 E_0: 0.13 E_1: 0.25 G: 0.80 Rewards: 0.8 Eval Rewards: -5.27, LR: 5.0e-05 SKS: 582\n",
      "Epoch 11 Loss: 1.56e-04 E_0: 0.14 E_1: 0.25 G: 0.80 Rewards: -7.8 Eval Rewards: -5.27, LR: 5.0e-05 SKS: 768\n",
      "Epoch 12 Loss: 1.61e-04 E_0: 0.14 E_1: 0.25 G: 0.80 Rewards: -1.5 Eval Rewards: -5.28, LR: 5.0e-05 SKS: 420\n",
      "Epoch 13 Loss: 1.54e-04 E_0: 0.14 E_1: 0.24 G: 0.80 Rewards: 3.1 Eval Rewards: -10.01, LR: 5.0e-05 SKS: 582\n",
      "Epoch 14 Loss: 1.57e-04 E_0: 0.14 E_1: 0.24 G: 0.80 Rewards: 4.5 Eval Rewards: -4.41, LR: 5.0e-05 SKS: 768\n",
      "Epoch 15 Loss: 1.62e-04 E_0: 0.14 E_1: 0.24 G: 0.80 Rewards: -1.4 Eval Rewards: -10.01, LR: 5.0e-05 SKS: 528\n",
      "Epoch 16 Loss: 1.65e-04 E_0: 0.15 E_1: 0.24 G: 0.80 Rewards: 2.3 Eval Rewards: -5.27, LR: 5.0e-05 SKS: 822\n",
      "Epoch 17 Loss: 1.65e-04 E_0: 0.15 E_1: 0.24 G: 0.80 Rewards: -7.0 Eval Rewards: -5.27, LR: 5.0e-05 SKS: 528\n",
      "Epoch 18 Loss: 1.66e-04 E_0: 0.15 E_1: 0.24 G: 0.80 Rewards: 0.9 Eval Rewards: -5.27, LR: 5.0e-05 SKS: 420\n",
      "Epoch 19 Loss: 1.65e-04 E_0: 0.15 E_1: 0.24 G: 0.80 Rewards: 0.7 Eval Rewards: -5.27, LR: 5.0e-05 SKS: 582\n",
      "Epoch 20 Loss: 1.73e-04 E_0: 0.16 E_1: 0.24 G: 0.80 Rewards: 6.1 Eval Rewards: -5.27, LR: 5.0e-05 SKS: 768\n",
      "Epoch 21 Loss: 1.78e-04 E_0: 0.16 E_1: 0.24 G: 0.80 Rewards: -7.2 Eval Rewards: -5.27, LR: 5.0e-05 SKS: 768\n",
      "Epoch 22 Loss: 1.67e-04 E_0: 0.16 E_1: 0.24 G: 0.80 Rewards: 0.9 Eval Rewards: -5.27, LR: 5.0e-05 SKS: 420\n",
      "Epoch 23 Loss: 1.68e-04 E_0: 0.16 E_1: 0.24 G: 0.80 Rewards: -4.5 Eval Rewards: -5.27, LR: 5.0e-05 SKS: 528\n",
      "Epoch 24 Loss: 1.75e-04 E_0: 0.16 E_1: 0.24 G: 0.80 Rewards: -7.0 Eval Rewards: -10.01, LR: 5.0e-05 SKS: 420\n",
      "Epoch 25 Loss: 1.68e-04 E_0: 0.17 E_1: 0.23 G: 0.80 Rewards: -2.1 Eval Rewards: -10.01, LR: 5.0e-05 SKS: 768\n",
      "Epoch 26 Loss: 1.78e-04 E_0: 0.17 E_1: 0.23 G: 0.80 Rewards: -8.9 Eval Rewards: -5.27, LR: 5.0e-05 SKS: 768\n",
      "Epoch 27 Loss: 1.75e-04 E_0: 0.17 E_1: 0.23 G: 0.80 Rewards: -5.4 Eval Rewards: -10.01, LR: 5.0e-05 SKS: 528\n",
      "Epoch 28 Loss: 1.76e-04 E_0: 0.17 E_1: 0.23 G: 0.80 Rewards: -1.1 Eval Rewards: -10.01, LR: 5.0e-05 SKS: 420\n",
      "Epoch 29 Loss: 1.80e-04 E_0: 0.17 E_1: 0.23 G: 0.80 Rewards: -7.9 Eval Rewards: -10.01, LR: 5.0e-05 SKS: 768\n",
      "Epoch 30 Loss: 1.83e-04 E_0: 0.18 E_1: 0.23 G: 0.80 Rewards: -5.2 Eval Rewards: -10.01, LR: 5.0e-05 SKS: 822\n",
      "Epoch 31 Loss: 1.85e-04 E_0: 0.18 E_1: 0.23 G: 0.80 Rewards: 2.9 Eval Rewards: -10.01, LR: 5.0e-05 SKS: 528\n",
      "Epoch 32 Loss: 1.85e-04 E_0: 0.18 E_1: 0.23 G: 0.80 Rewards: 4.2 Eval Rewards: -10.01, LR: 5.0e-05 SKS: 420\n",
      "Epoch 33 Loss: 1.83e-04 E_0: 0.18 E_1: 0.22 G: 0.80 Rewards: -1.3 Eval Rewards: -10.01, LR: 5.0e-05 SKS: 822\n",
      "Epoch 34 Loss: 1.88e-04 E_0: 0.18 E_1: 0.22 G: 0.80 Rewards: 2.0 Eval Rewards: -5.27, LR: 5.0e-05 SKS: 528\n",
      "Epoch 35 Loss: 1.95e-04 E_0: 0.19 E_1: 0.22 G: 0.80 Rewards: -0.6 Eval Rewards: -10.01, LR: 5.0e-05 SKS: 768\n",
      "Epoch 36 Loss: 1.85e-04 E_0: 0.19 E_1: 0.22 G: 0.80 Rewards: -1.1 Eval Rewards: -10.01, LR: 5.0e-05 SKS: 822\n",
      "Epoch 37 Loss: 2.02e-04 E_0: 0.19 E_1: 0.22 G: 0.80 Rewards: 4.1 Eval Rewards: -5.27, LR: 5.0e-05 SKS: 420\n",
      "Epoch 38 Loss: 2.06e-04 E_0: 0.19 E_1: 0.22 G: 0.80 Rewards: -8.9 Eval Rewards: -10.01, LR: 5.0e-05 SKS: 768\n",
      "Epoch 39 Loss: 1.99e-04 E_0: 0.19 E_1: 0.22 G: 0.80 Rewards: -4.3 Eval Rewards: -4.37, LR: 5.0e-05 SKS: 822\n",
      "Epoch 40 Loss: 2.09e-04 E_0: 0.19 E_1: 0.21 G: 0.80 Rewards: 1.8 Eval Rewards: -5.27, LR: 5.0e-05 SKS: 420\n",
      "Epoch 41 Loss: 2.07e-04 E_0: 0.20 E_1: 0.21 G: 0.80 Rewards: 5.3 Eval Rewards: -5.27, LR: 5.0e-05 SKS: 822\n",
      "Epoch 42 Loss: 2.15e-04 E_0: 0.20 E_1: 0.21 G: 0.80 Rewards: -5.3 Eval Rewards: -5.27, LR: 5.0e-05 SKS: 768\n",
      "Epoch 43 Loss: 2.22e-04 E_0: 0.20 E_1: 0.21 G: 0.80 Rewards: -5.9 Eval Rewards: -5.27, LR: 5.0e-05 SKS: 528\n",
      "Epoch 44 Loss: 2.22e-04 E_0: 0.20 E_1: 0.21 G: 0.80 Rewards: -1.4 Eval Rewards: -5.27, LR: 5.0e-05 SKS: 582\n",
      "Epoch 45 Loss: 2.06e-04 E_0: 0.20 E_1: 0.21 G: 0.80 Rewards: 4.2 Eval Rewards: -5.27, LR: 5.0e-05 SKS: 420\n",
      "Epoch 46 Loss: 2.28e-04 E_0: 0.21 E_1: 0.21 G: 0.80 Rewards: 7.1 Eval Rewards: -5.27, LR: 5.0e-05 SKS: 582\n",
      "Epoch 47 Loss: 2.24e-04 E_0: 0.21 E_1: 0.20 G: 0.80 Rewards: -2.8 Eval Rewards: -4.37, LR: 5.0e-05 SKS: 768\n",
      "Epoch 48 Loss: 2.33e-04 E_0: 0.21 E_1: 0.20 G: 0.80 Rewards: 3.0 Eval Rewards: -5.27, LR: 5.0e-05 SKS: 528\n",
      "Epoch 49 Loss: 2.38e-04 E_0: 0.21 E_1: 0.20 G: 0.80 Rewards: 5.8 Eval Rewards: -5.07, LR: 5.0e-05 SKS: 420\n",
      "Epoch 50 Loss: 2.25e-04 E_0: 0.21 E_1: 0.20 G: 0.80 Rewards: -10.3 Eval Rewards: -5.07, LR: 5.0e-05 SKS: 822\n",
      "Epoch 51 Loss: 2.45e-04 E_0: 0.21 E_1: 0.20 G: 0.80 Rewards: 9.5 Eval Rewards: -5.07, LR: 5.0e-05 SKS: 822\n",
      "Epoch 52 Loss: 2.50e-04 E_0: 0.21 E_1: 0.19 G: 0.80 Rewards: 6.4 Eval Rewards: -10.01, LR: 5.0e-05 SKS: 768\n",
      "Epoch 53 Loss: 2.42e-04 E_0: 0.22 E_1: 0.19 G: 0.80 Rewards: 8.3 Eval Rewards: -10.01, LR: 5.0e-05 SKS: 822\n",
      "Epoch 54 Loss: 2.45e-04 E_0: 0.22 E_1: 0.19 G: 0.80 Rewards: -1.0 Eval Rewards: -10.01, LR: 5.0e-05 SKS: 420\n",
      "Epoch 55 Loss: 2.61e-04 E_0: 0.22 E_1: 0.19 G: 0.80 Rewards: -0.0 Eval Rewards: -10.01, LR: 5.0e-05 SKS: 420\n",
      "Epoch 56 Loss: 2.63e-04 E_0: 0.22 E_1: 0.19 G: 0.80 Rewards: -0.0 Eval Rewards: -10.01, LR: 5.0e-05 SKS: 528\n",
      "Epoch 57 Loss: 2.62e-04 E_0: 0.22 E_1: 0.19 G: 0.80 Rewards: 4.3 Eval Rewards: -10.90, LR: 5.0e-05 SKS: 582\n",
      "Epoch 58 Loss: 2.73e-04 E_0: 0.22 E_1: 0.18 G: 0.80 Rewards: -1.0 Eval Rewards: -10.90, LR: 5.0e-05 SKS: 768\n",
      "Epoch 59 Loss: 2.61e-04 E_0: 0.22 E_1: 0.18 G: 0.80 Rewards: 0.2 Eval Rewards: -5.97, LR: 5.0e-05 SKS: 768\n",
      "Epoch 60 Loss: 2.56e-04 E_0: 0.23 E_1: 0.18 G: 0.80 Rewards: -7.7 Eval Rewards: -5.27, LR: 5.0e-05 SKS: 582\n",
      "Epoch 61 Loss: 2.73e-04 E_0: 0.23 E_1: 0.18 G: 0.80 Rewards: -4.2 Eval Rewards: -10.90, LR: 5.0e-05 SKS: 582\n",
      "Epoch 62 Loss: 2.72e-04 E_0: 0.23 E_1: 0.18 G: 0.80 Rewards: -6.5 Eval Rewards: -10.90, LR: 5.0e-05 SKS: 582\n",
      "Epoch 63 Loss: 3.19e-04 E_0: 0.23 E_1: 0.17 G: 0.80 Rewards: 5.2 Eval Rewards: -10.90, LR: 5.0e-05 SKS: 768\n",
      "Epoch 64 Loss: 3.00e-04 E_0: 0.23 E_1: 0.17 G: 0.80 Rewards: 1.8 Eval Rewards: -10.01, LR: 5.0e-05 SKS: 768\n",
      "Epoch 65 Loss: 2.98e-04 E_0: 0.23 E_1: 0.17 G: 0.80 Rewards: -0.2 Eval Rewards: -10.90, LR: 5.0e-05 SKS: 822\n",
      "Epoch 66 Loss: 3.01e-04 E_0: 0.23 E_1: 0.17 G: 0.80 Rewards: -8.4 Eval Rewards: -10.90, LR: 5.0e-05 SKS: 582\n",
      "Epoch 67 Loss: 3.10e-04 E_0: 0.23 E_1: 0.17 G: 0.80 Rewards: -2.5 Eval Rewards: -10.90, LR: 5.0e-05 SKS: 420\n",
      "Epoch 68 Loss: 3.26e-04 E_0: 0.24 E_1: 0.16 G: 0.80 Rewards: -0.1 Eval Rewards: -10.90, LR: 5.0e-05 SKS: 582\n",
      "Epoch 69 Loss: 3.16e-04 E_0: 0.24 E_1: 0.16 G: 0.80 Rewards: -1.6 Eval Rewards: -10.90, LR: 5.0e-05 SKS: 768\n",
      "Epoch 70 Loss: 3.30e-04 E_0: 0.24 E_1: 0.16 G: 0.80 Rewards: -5.9 Eval Rewards: -10.90, LR: 5.0e-05 SKS: 528\n",
      "Epoch 71 Loss: 3.39e-04 E_0: 0.24 E_1: 0.16 G: 0.80 Rewards: -0.7 Eval Rewards: -10.90, LR: 5.0e-05 SKS: 528\n",
      "Epoch 72 Loss: 3.57e-04 E_0: 0.24 E_1: 0.16 G: 0.80 Rewards: 6.8 Eval Rewards: -10.90, LR: 5.0e-05 SKS: 420\n",
      "Epoch 73 Loss: 3.48e-04 E_0: 0.24 E_1: 0.15 G: 0.80 Rewards: -3.9 Eval Rewards: -10.90, LR: 5.0e-05 SKS: 420\n",
      "Epoch 74 Loss: 3.70e-04 E_0: 0.24 E_1: 0.15 G: 0.80 Rewards: -8.9 Eval Rewards: -10.90, LR: 5.0e-05 SKS: 768\n",
      "Done\n"
     ]
    }
   ],
   "source": [
    "agent.train(gamma=0.80, num_epochs=100, session_limit=100)"
   ]
  },
  {
   "cell_type": "code",
   "execution_count": 10,
   "metadata": {},
   "outputs": [
    {
     "data": {
      "image/png": "[encoded data removed]",
      "text/plain": [
       "<Figure size 640x480 with 1 Axes>"
      ]
     },
     "metadata": {},
     "output_type": "display_data"
    }
   ],
   "source": [
    "history_x = agent.training_history_x\n",
    "history_y = agent.training_history_y\n",
    "fig, ax = plt.subplots()\n",
    "fig.suptitle(f'Rewards {agent.model_name} LR: {agent.lr:.1e}')\n",
    "ax.plot(history_x, history_y)\n",
    "ax.legend(['Train Rewards', 'Eval Rewards'])\n",
    "ax.set_xlabel('Epoch')\n",
    "ax.set_ylabel('Rewards')\n",
    "plt.savefig('rewards_graph.png', bbox_inches='tight')\n",
    "plt.show()"
   ]
  },
  {
   "cell_type": "code",
   "execution_count": 9,
   "metadata": {},
   "outputs": [
    {
     "name": "stderr",
     "output_type": "stream",
     "text": [
      "h:\\Coding Projects\\Python Projects\\Deep-XIV-Rotation\\models\\dqn.py:347: FutureWarning: You are using `torch.load` with `weights_only=False` (the current default value), which uses the default pickle module implicitly. It is possible to construct malicious pickle data which will execute arbitrary code during unpickling (See https://github.com/pytorch/pytorch/blob/main/SECURITY.md#untrusted-models for more details). In a future release, the default value for `weights_only` will be flipped to `True`. This limits the functions that could be executed during unpickling. Arbitrary objects will no longer be allowed to be loaded via this mode unless they are explicitly allowlisted by the user via `torch.serialization.add_safe_globals`. We recommend you start setting `weights_only=True` for any use case where you don't have full control of the loaded file. Please open an issue on GitHub for any issues related to this experimental feature.\n",
      "  checkpoint = torch.load(path)\n"
     ]
    },
    {
     "name": "stdout",
     "output_type": "stream",
     "text": [
      "Checkpoint loaded epoch: 339 sks: 768\n"
     ]
    }
   ],
   "source": [
    "agent.load_checkpoint(f'./checkpoints/_{agent.model_name}_last.pth')"
   ]
  },
  {
   "cell_type": "code",
   "execution_count": null,
   "metadata": {},
   "outputs": [],
   "source": [
    "viper_env.compute_gcd(2.5, 798, 15)"
   ]
  },
  {
   "cell_type": "code",
   "execution_count": null,
   "metadata": {},
   "outputs": [],
   "source": [
    "# 2.12, 2.11, 2.10, 2.09, 2.08\n",
    "#[420, 528, 582, 768, 822]\n",
    "agent.test(num_steps=20, _sks=822)"
   ]
  },
  {
   "cell_type": "markdown",
   "metadata": {},
   "source": [
    "terraform aws\n",
    "kubernites\n",
    "helm?\n",
    "look into"
   ]
  }
 ],
 "metadata": {
  "kernelspec": {
   "display_name": "deepxiv",
   "language": "python",
   "name": "python3"
  },
  "language_info": {
   "codemirror_mode": {
    "name": "ipython",
    "version": 3
   },
   "file_extension": ".py",
   "mimetype": "text/x-python",
   "name": "python",
   "nbconvert_exporter": "python",
   "pygments_lexer": "ipython3",
   "version": "3.12.4"
  }
 },
 "nbformat": 4,
 "nbformat_minor": 2
}
