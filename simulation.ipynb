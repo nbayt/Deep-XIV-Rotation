{
 "cells": [
  {
   "cell_type": "code",
   "execution_count": 1,
   "metadata": {},
   "outputs": [],
   "source": [
    "import sys\n",
    "import torch\n",
    "import numpy as np"
   ]
  },
  {
   "cell_type": "code",
   "execution_count": 2,
   "metadata": {},
   "outputs": [],
   "source": [
    "sys.path.append('/envs')\n",
    "sys.path.append('/models')\n",
    "import envs.viper as vpr\n",
    "import models.models as models\n",
    "import models.dqn as dqn"
   ]
  },
  {
   "cell_type": "code",
   "execution_count": 3,
   "metadata": {},
   "outputs": [
    {
     "data": {
      "text/plain": [
       "<module 'models.dqn' from 'h:\\\\Coding Projects\\\\Python Projects\\\\Deep-XIV-Rotation\\\\models\\\\dqn.py'>"
      ]
     },
     "execution_count": 3,
     "metadata": {},
     "output_type": "execute_result"
    }
   ],
   "source": [
    "import importlib\n",
    "importlib.reload(vpr); importlib.reload(models); importlib.reload(dqn)"
   ]
  },
  {
   "cell_type": "code",
   "execution_count": 4,
   "metadata": {},
   "outputs": [
    {
     "name": "stdout",
     "output_type": "stream",
     "text": [
      "b123\n"
     ]
    }
   ],
   "source": [
    "viper_env = vpr.Viper(_sks = 798)"
   ]
  },
  {
   "cell_type": "code",
   "execution_count": 5,
   "metadata": {},
   "outputs": [],
   "source": [
    "torch.cuda.empty_cache()"
   ]
  },
  {
   "cell_type": "code",
   "execution_count": 6,
   "metadata": {},
   "outputs": [],
   "source": [
    "#state = viper_env.state()\n",
    "#state[None, :]"
   ]
  },
  {
   "cell_type": "code",
   "execution_count": 7,
   "metadata": {},
   "outputs": [],
   "source": [
    "#state.unsqueeze(0)"
   ]
  },
  {
   "cell_type": "code",
   "execution_count": 8,
   "metadata": {},
   "outputs": [
    {
     "name": "stdout",
     "output_type": "stream",
     "text": [
      "Created a model with 12 features and 10 actions.\n",
      "Model loaded onto cuda:0.\n",
      "==========================================================================================\n",
      "Layer (type:depth-idx)                   Output Shape              Param #\n",
      "==========================================================================================\n",
      "DenseNet                                 [512, 10]                 --\n",
      "├─Sequential: 1-1                        [512, 10]                 --\n",
      "│    └─Linear: 2-1                       [512, 4096]               53,248\n",
      "│    └─ReLU: 2-2                         [512, 4096]               --\n",
      "│    └─Linear: 2-3                       [512, 2048]               8,390,656\n",
      "│    └─BatchNorm1d: 2-4                  [512, 2048]               4,096\n",
      "│    └─ReLU: 2-5                         [512, 2048]               --\n",
      "│    └─Dropout: 2-6                      [512, 2048]               --\n",
      "│    └─Linear: 2-7                       [512, 2048]               4,196,352\n",
      "│    └─ReLU: 2-8                         [512, 2048]               --\n",
      "│    └─Linear: 2-9                       [512, 1024]               2,098,176\n",
      "│    └─ReLU: 2-10                        [512, 1024]               --\n",
      "│    └─Linear: 2-11                      [512, 10]                 10,250\n",
      "==========================================================================================\n",
      "Total params: 14,752,778\n",
      "Trainable params: 14,752,778\n",
      "Non-trainable params: 0\n",
      "Total mult-adds (Units.GIGABYTES): 7.55\n",
      "==========================================================================================\n",
      "Input size (MB): 0.02\n",
      "Forward/backward pass size (MB): 46.18\n",
      "Params size (MB): 59.01\n",
      "Estimated Total Size (MB): 105.21\n",
      "==========================================================================================\n"
     ]
    }
   ],
   "source": [
    "agent = dqn.DQN(viper_env, max_history=512)"
   ]
  },
  {
   "cell_type": "code",
   "execution_count": 9,
   "metadata": {},
   "outputs": [
    {
     "data": {
      "text/plain": [
       "2.08"
      ]
     },
     "execution_count": 9,
     "metadata": {},
     "output_type": "execute_result"
    }
   ],
   "source": [
    "viper_env.compute_gcd(2.5, 798, 15)"
   ]
  },
  {
   "cell_type": "code",
   "execution_count": 10,
   "metadata": {},
   "outputs": [],
   "source": [
    "action_sequence=[1, 3, 6, 9, 0, 2, 5, 0, 0]"
   ]
  },
  {
   "cell_type": "code",
   "execution_count": 11,
   "metadata": {},
   "outputs": [
    {
     "name": "stdout",
     "output_type": "stream",
     "text": [
      "Took action: 1-reaving_fangs @ 0.000\n",
      "(2.6, 200, 192.78)\n",
      "tensor([ 2.4500,  0.7000,  1.0000,  0.0000, 59.3000,  0.0000,  0.0000,  0.0000,\n",
      "         0.0000,  0.0000,  0.0000,  0.0000])\n",
      "Took action: 3-swiftskins_sting @ 2.450\n",
      "(1.1, 300, 310.28)\n",
      "tensor([ 2.4500,  0.7000,  3.0000,  0.0000, 56.8500,  0.0000, 39.3000,  0.0000,\n",
      "         0.0000,  0.0000,  0.0000,  0.0000])\n",
      "Took action: 6-hindsting_strike @ 4.900\n",
      "(3.1, 400, 407.15)\n",
      "tensor([ 2.0800,  0.7000,  0.0000,  0.0000, 54.4000,  0.0000, 36.8500, 59.3000,\n",
      "         0.0000,  0.0000,  0.0000,  1.0000])\n",
      "Took action: 9-death_rattle @ 5.600\n",
      "(4.2, 280, 287.24)\n",
      "tensor([ 2.0800,  1.4000,  0.0000,  0.0000, 53.7000,  0.0000, 36.1500, 58.6000,\n",
      "         0.0000,  0.0000,  0.0000,  0.0000])\n",
      "Took action: 0-steel_fangs @ 6.980\n",
      "(3.2399999999999998, 300, 305.49)\n",
      "tensor([ 2.0800,  0.7000,  1.0000, 59.3000,  0.0000,  0.0000, 34.7700, 57.2200,\n",
      "         0.0000,  0.0000,  0.0000,  0.0000])\n",
      "Took action: 2-hunters_sting @ 9.060\n",
      "(1.8399999999999999, 300, 293.78)\n",
      "tensor([ 2.0800,  0.7000,  2.0000, 57.2200,  0.0000, 39.3000, 32.6900, 55.1400,\n",
      "         0.0000,  0.0000,  0.0000,  0.0000])\n",
      "Took action: 5-flanksbane_fang @ 11.140\n",
      "(6.840000000000001, 550.0, 530.12)\n",
      "tensor([ 2.0800,  0.7000,  0.0000, 55.1400,  0.0000, 37.2200, 30.6100,  0.0000,\n",
      "         0.0000, 59.3000,  0.0000,  1.0000])\n",
      "Took action: 0-steel_fangs @ 13.220\n",
      "(0.24000000000000057, 220.00000000000003, 225.48)\n",
      "tensor([ 2.0800,  0.7000,  1.0000, 59.3000,  0.0000, 35.1400, 28.5300,  0.0000,\n",
      "         0.0000, 57.2200,  0.0000,  0.0000])\n",
      "Took action: 0-steel_fangs @ 13.920\n",
      "(-0.8, 0.0, 0.0)\n",
      "tensor([ 2.0800,  0.8000,  1.0000, 59.2000,  0.0000, 35.0400, 28.4300,  0.0000,\n",
      "         0.0000, 57.1200,  0.0000,  0.0000])\n"
     ]
    }
   ],
   "source": [
    "for action in action_sequence:\n",
    "    print(viper_env.step(action, _verbose=True))\n",
    "    print(viper_env.state())"
   ]
  },
  {
   "cell_type": "code",
   "execution_count": 12,
   "metadata": {},
   "outputs": [
    {
     "name": "stdout",
     "output_type": "stream",
     "text": [
      "tensor([ 2.4500, 10.0000,  0.0000,  0.0000,  0.0000,  0.0000,  0.0000,  0.0000,\n",
      "         0.0000,  0.0000,  0.0000,  0.0000])\n",
      "([True, True, False, False, False, False, False, False, False, False], [0, 1])\n",
      "[0]\n"
     ]
    }
   ],
   "source": [
    "agent.env.reset_env()\n",
    "print(agent.env.state())\n",
    "print(agent.env.valid_actions())\n",
    "print([np.random.choice(agent.env.valid_actions()[1])])"
   ]
  },
  {
   "cell_type": "code",
   "execution_count": 13,
   "metadata": {},
   "outputs": [
    {
     "data": {
      "text/plain": [
       "tensor(7, dtype=torch.int32)"
      ]
     },
     "execution_count": 13,
     "metadata": {},
     "output_type": "execute_result"
    }
   ],
   "source": [
    "agent.get_action(agent.env.state(), e=1)[0]"
   ]
  },
  {
   "cell_type": "code",
   "execution_count": 19,
   "metadata": {},
   "outputs": [
    {
     "ename": "TypeError",
     "evalue": "DQN.train() got an unexpected keyword argument 'starting_e'",
     "output_type": "error",
     "traceback": [
      "\u001b[1;31m---------------------------------------------------------------------------\u001b[0m",
      "\u001b[1;31mTypeError\u001b[0m                                 Traceback (most recent call last)",
      "Cell \u001b[1;32mIn[19], line 1\u001b[0m\n\u001b[1;32m----> 1\u001b[0m agent\u001b[38;5;241m.\u001b[39mtrain(gamma\u001b[38;5;241m=\u001b[39m\u001b[38;5;241m0.65\u001b[39m, num_epochs\u001b[38;5;241m=\u001b[39m\u001b[38;5;241m200\u001b[39m, session_limit\u001b[38;5;241m=\u001b[39m\u001b[38;5;241m400\u001b[39m,\n\u001b[0;32m      2\u001b[0m             starting_e\u001b[38;5;241m=\u001b[39m\u001b[38;5;241m0.8\u001b[39m, min_e\u001b[38;5;241m=\u001b[39m\u001b[38;5;241m0.45\u001b[39m, e_decay_factor\u001b[38;5;241m=\u001b[39m\u001b[38;5;241m0.98\u001b[39m)\n",
      "\u001b[1;31mTypeError\u001b[0m: DQN.train() got an unexpected keyword argument 'starting_e'"
     ]
    }
   ],
   "source": [
    "agent.train(gamma=0.65, num_epochs=200, session_limit=400,\n",
    "            starting_e=0.8, min_e=0.45, e_decay_factor=0.98)"
   ]
  },
  {
   "cell_type": "code",
   "execution_count": 15,
   "metadata": {},
   "outputs": [
    {
     "name": "stderr",
     "output_type": "stream",
     "text": [
      "h:\\Coding Projects\\Python Projects\\Deep-XIV-Rotation\\models\\dqn.py:208: FutureWarning: You are using `torch.load` with `weights_only=False` (the current default value), which uses the default pickle module implicitly. It is possible to construct malicious pickle data which will execute arbitrary code during unpickling (See https://github.com/pytorch/pytorch/blob/main/SECURITY.md#untrusted-models for more details). In a future release, the default value for `weights_only` will be flipped to `True`. This limits the functions that could be executed during unpickling. Arbitrary objects will no longer be allowed to be loaded via this mode unless they are explicitly allowlisted by the user via `torch.serialization.add_safe_globals`. We recommend you start setting `weights_only=True` for any use case where you don't have full control of the loaded file. Please open an issue on GitHub for any issues related to this experimental feature.\n",
      "  checkpoint = torch.load(path)\n"
     ]
    }
   ],
   "source": [
    "agent.load_checkpoint('./checkpoints/_dense_best.pth')"
   ]
  },
  {
   "cell_type": "code",
   "execution_count": 16,
   "metadata": {},
   "outputs": [
    {
     "name": "stdout",
     "output_type": "stream",
     "text": [
      "tensor([ 2.4500, 10.0000,  0.0000,  0.0000,  0.0000,  0.0000,  0.0000,  0.0000,\n",
      "         0.0000,  0.0000,  0.0000,  0.0000])\n",
      "Took action: 1-reaving_fangs @ 0.000\n",
      "(2.6, 200, 206.06)\n",
      "Took action: 3-swiftskins_sting @ 2.450\n",
      "(1.1, 300, 291.95)\n",
      "Took action: 7-hindsbane_fang @ 4.900\n",
      "(3.1, 400, 388.22)\n",
      "Took action: 0-steel_fangs @ 6.980\n",
      "(1.8399999999999999, 300, 314.92)\n",
      "Took action: 2-hunters_sting @ 9.060\n",
      "(1.8399999999999999, 300, 304.86)\n",
      "Took action: 4-flanksting_strike @ 11.140\n",
      "(6.840000000000001, 550.0, 533.93)\n",
      "Took action: 1-reaving_fangs @ 13.220\n",
      "(2.44, 330.0, 337.66)\n",
      "Took action: 3-swiftskins_sting @ 15.300\n",
      "(2.44, 330.0, 314.15)\n",
      "Took action: 7-hindsbane_fang @ 17.380\n",
      "(4.6400000000000015, 440.00000000000006, 437.44)\n",
      "Took action: 0-steel_fangs @ 19.460\n",
      "(2.44, 330.0, 320.71)\n",
      "Took action: 2-hunters_sting @ 21.540\n",
      "(2.44, 330.0, 323.37)\n",
      "Took action: 4-flanksting_strike @ 23.620\n",
      "(6.840000000000001, 550.0, 535.75)\n",
      "Took action: 7-hindsbane_fang @ 24.320\n",
      "(-0.8, 0.0, 0.0)\n",
      "Took action: 7-hindsbane_fang @ 24.420\n",
      "(-0.8, 0.0, 0.0)\n",
      "Took action: 7-hindsbane_fang @ 24.520\n",
      "(-0.8, 0.0, 0.0)\n",
      "Took action: 7-hindsbane_fang @ 24.620\n",
      "(-0.8, 0.0, 0.0)\n",
      "Took action: 1-reaving_fangs @ 25.700\n",
      "(3.2399999999999998, 330.0, 339.15)\n",
      "Took action: 3-swiftskins_sting @ 27.780\n",
      "(2.44, 330.0, 333.39)\n",
      "Took action: 7-hindsbane_fang @ 29.860\n",
      "(4.6400000000000015, 440.00000000000006, 431.34)\n",
      "Took action: 0-steel_fangs @ 31.940\n",
      "(2.44, 330.0, 345.88)\n",
      "Took action: 2-hunters_sting @ 34.020\n",
      "(2.44, 330.0, 342.51)\n",
      "Took action: 4-flanksting_strike @ 36.100\n",
      "(6.840000000000001, 550.0, 569.27)\n",
      "Took action: 7-hindsbane_fang @ 36.800\n",
      "(-0.8, 0.0, 0.0)\n",
      "Took action: 7-hindsbane_fang @ 36.900\n",
      "(-0.8, 0.0, 0.0)\n",
      "Took action: 7-hindsbane_fang @ 37.000\n",
      "(-0.8, 0.0, 0.0)\n",
      "Took action: 7-hindsbane_fang @ 37.100\n",
      "(-0.8, 0.0, 0.0)\n",
      "Took action: 1-reaving_fangs @ 38.180\n",
      "(3.2399999999999998, 330.0, 340.94)\n",
      "Took action: 3-swiftskins_sting @ 40.260\n",
      "(2.44, 330.0, 325.08)\n",
      "Took action: 7-hindsbane_fang @ 42.340\n",
      "(4.6400000000000015, 440.00000000000006, 456.45)\n",
      "Took action: 0-steel_fangs @ 44.420\n",
      "(2.44, 330.0, 336.4)\n"
     ]
    }
   ],
   "source": [
    "agent.test(num_steps=30)"
   ]
  },
  {
   "cell_type": "code",
   "execution_count": 17,
   "metadata": {},
   "outputs": [
    {
     "data": {
      "text/plain": [
       "tensor([[ 0.3475,  0.3518,  0.4629,  0.3313,  0.3709,  0.2304,  0.2890,  0.1358,\n",
       "         -0.1007,  0.0504]], device='cuda:0')"
      ]
     },
     "execution_count": 17,
     "metadata": {},
     "output_type": "execute_result"
    }
   ],
   "source": [
    "agent.predict(agent.env.state())"
   ]
  },
  {
   "cell_type": "code",
   "execution_count": 18,
   "metadata": {},
   "outputs": [
    {
     "data": {
      "text/plain": [
       "tensor([ 2.0800,  0.7000,  1.0000, 59.3000,  0.0000, 28.9000, 35.1400,  0.0000,\n",
       "        57.2200,  0.0000, 50.9800,  0.0000])"
      ]
     },
     "execution_count": 18,
     "metadata": {},
     "output_type": "execute_result"
    }
   ],
   "source": [
    "agent.env.state()"
   ]
  },
  {
   "cell_type": "code",
   "execution_count": 31,
   "metadata": {},
   "outputs": [
    {
     "name": "stdout",
     "output_type": "stream",
     "text": [
      "1.0 0\n",
      "0.9755282581475768 0.3141592653589793\n",
      "0.9045084971874737 0.6283185307179586\n",
      "0.7938926261462366 0.9424777960769379\n",
      "0.6545084971874737 1.2566370614359172\n",
      "0.5 1.5707963267948966\n",
      "0.34549150281252633 1.8849555921538759\n",
      "0.2061073738537635 2.199114857512855\n",
      "0.09549150281252633 2.5132741228718345\n",
      "0.024471741852423234 2.827433388230814\n",
      "0.0 3.141592653589793\n",
      "0.02447174185242318 3.4557519189487724\n",
      "0.09549150281252627 3.7699111843077517\n",
      "0.20610737385376338 4.084070449666731\n",
      "0.3454915028125262 4.39822971502571\n",
      "0.4999999999999999 4.71238898038469\n",
      "0.6545084971874736 5.026548245743669\n",
      "0.7938926261462365 5.340707511102648\n",
      "0.9045084971874737 5.654866776461628\n",
      "0.9755282581475768 5.969026041820607\n",
      "1.0 6.283185307179586\n",
      "0.9755282581475768 0.3141592653589793\n",
      "0.9045084971874737 0.6283185307179586\n",
      "0.7938926261462366 0.9424777960769379\n",
      "0.6545084971874737 1.2566370614359172\n",
      "0.5 1.5707963267948966\n",
      "0.34549150281252633 1.8849555921538759\n",
      "0.2061073738537635 2.199114857512855\n",
      "0.09549150281252633 2.5132741228718345\n",
      "0.024471741852423234 2.827433388230814\n",
      "0.0 3.141592653589793\n",
      "0.02447174185242318 3.4557519189487724\n",
      "0.09549150281252627 3.7699111843077517\n",
      "0.20610737385376338 4.084070449666731\n",
      "0.3454915028125262 4.39822971502571\n"
     ]
    }
   ],
   "source": [
    "itr = 0\n",
    "for _ in range(35):\n",
    "    print((np.cos(itr)+1)/2, itr)\n",
    "    itr+=np.pi/10\n",
    "    if itr > np.pi * 2:\n",
    "        itr -= np.pi * 2"
   ]
  },
  {
   "cell_type": "code",
   "execution_count": null,
   "metadata": {},
   "outputs": [],
   "source": []
  }
 ],
 "metadata": {
  "kernelspec": {
   "display_name": "deepxiv",
   "language": "python",
   "name": "python3"
  },
  "language_info": {
   "codemirror_mode": {
    "name": "ipython",
    "version": 3
   },
   "file_extension": ".py",
   "mimetype": "text/x-python",
   "name": "python",
   "nbconvert_exporter": "python",
   "pygments_lexer": "ipython3",
   "version": "3.12.4"
  }
 },
 "nbformat": 4,
 "nbformat_minor": 2
}
