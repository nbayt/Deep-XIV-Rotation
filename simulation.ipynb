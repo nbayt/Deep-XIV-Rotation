{
 "cells": [
  {
   "cell_type": "code",
   "execution_count": 56,
   "metadata": {},
   "outputs": [],
   "source": [
    "import sys\n",
    "import torch\n",
    "import numpy as np"
   ]
  },
  {
   "cell_type": "code",
   "execution_count": 57,
   "metadata": {},
   "outputs": [],
   "source": [
    "sys.path.append('/envs')\n",
    "sys.path.append('/models')\n",
    "import envs.viper as vpr\n",
    "import models.models as models\n",
    "import models.dqn as dqn"
   ]
  },
  {
   "cell_type": "code",
   "execution_count": 58,
   "metadata": {},
   "outputs": [
    {
     "data": {
      "text/plain": [
       "<module 'models.dqn' from 'h:\\\\Coding Projects\\\\Python Projects\\\\Deep-XIV-Rotation\\\\models\\\\dqn.py'>"
      ]
     },
     "execution_count": 58,
     "metadata": {},
     "output_type": "execute_result"
    }
   ],
   "source": [
    "import importlib\n",
    "importlib.reload(vpr); importlib.reload(models); importlib.reload(dqn)"
   ]
  },
  {
   "cell_type": "code",
   "execution_count": 59,
   "metadata": {},
   "outputs": [
    {
     "name": "stdout",
     "output_type": "stream",
     "text": [
      "b123\n"
     ]
    }
   ],
   "source": [
    "viper_env = vpr.Viper(_sks = 798)"
   ]
  },
  {
   "cell_type": "code",
   "execution_count": 60,
   "metadata": {},
   "outputs": [
    {
     "data": {
      "text/plain": [
       "11"
      ]
     },
     "execution_count": 60,
     "metadata": {},
     "output_type": "execute_result"
    }
   ],
   "source": [
    "viper_env.get_max_actions()"
   ]
  },
  {
   "cell_type": "code",
   "execution_count": 61,
   "metadata": {},
   "outputs": [
    {
     "data": {
      "text/plain": [
       "8"
      ]
     },
     "execution_count": 61,
     "metadata": {},
     "output_type": "execute_result"
    }
   ],
   "source": [
    "viper_env.get_state_shape()"
   ]
  },
  {
   "cell_type": "code",
   "execution_count": 62,
   "metadata": {},
   "outputs": [
    {
     "data": {
      "text/plain": [
       "tensor([[ 0.0000,  2.4500, 10.0000,  0.0000,  0.0000,  0.0000,  0.0000,  0.0000]])"
      ]
     },
     "execution_count": 62,
     "metadata": {},
     "output_type": "execute_result"
    }
   ],
   "source": [
    "state = viper_env.state()\n",
    "state[None, :]"
   ]
  },
  {
   "cell_type": "code",
   "execution_count": 63,
   "metadata": {},
   "outputs": [
    {
     "data": {
      "text/plain": [
       "tensor([[ 0.0000,  2.4500, 10.0000,  0.0000,  0.0000,  0.0000,  0.0000,  0.0000]])"
      ]
     },
     "execution_count": 63,
     "metadata": {},
     "output_type": "execute_result"
    }
   ],
   "source": [
    "state.unsqueeze(0)"
   ]
  },
  {
   "cell_type": "code",
   "execution_count": 64,
   "metadata": {},
   "outputs": [
    {
     "name": "stdout",
     "output_type": "stream",
     "text": [
      "==========================================================================================\n",
      "Layer (type:depth-idx)                   Output Shape              Param #\n",
      "==========================================================================================\n",
      "DenseNet                                 [8, 11]                   --\n",
      "├─Linear: 1-1                            [8, 2048]                 18,432\n",
      "├─Linear: 1-2                            [8, 11]                   22,539\n",
      "==========================================================================================\n",
      "Total params: 40,971\n",
      "Trainable params: 40,971\n",
      "Non-trainable params: 0\n",
      "Total mult-adds (Units.MEGABYTES): 0.33\n",
      "==========================================================================================\n",
      "Input size (MB): 0.00\n",
      "Forward/backward pass size (MB): 0.13\n",
      "Params size (MB): 0.16\n",
      "Estimated Total Size (MB): 0.30\n",
      "==========================================================================================\n"
     ]
    }
   ],
   "source": [
    "agent = dqn.DQN(viper_env)"
   ]
  },
  {
   "cell_type": "code",
   "execution_count": 65,
   "metadata": {},
   "outputs": [
    {
     "data": {
      "text/plain": [
       "device(type='cpu')"
      ]
     },
     "execution_count": 65,
     "metadata": {},
     "output_type": "execute_result"
    }
   ],
   "source": [
    "torch.device('cpu')"
   ]
  },
  {
   "cell_type": "code",
   "execution_count": 66,
   "metadata": {},
   "outputs": [
    {
     "name": "stdout",
     "output_type": "stream",
     "text": [
      "tensor([[0.8517, 0.3178, 0.2764, 0.2242, 0.6636, 0.6973, 0.8767, 0.0875],\n",
      "        [0.3155, 0.1787, 0.3785, 0.2640, 0.5134, 0.3651, 0.8847, 0.3411],\n",
      "        [0.6504, 0.3710, 0.5037, 0.1070, 0.2346, 0.0189, 0.7085, 0.8012],\n",
      "        [0.0986, 0.6174, 0.2867, 0.7167, 0.4976, 0.7942, 0.2961, 0.9869],\n",
      "        [0.3331, 0.6300, 0.3605, 0.3403, 0.8028, 0.8278, 0.5676, 0.8231]])\n",
      "tensor([9, 9, 9, 3, 9], dtype=torch.int32)\n"
     ]
    }
   ],
   "source": [
    "inputs = torch.rand(5, viper_env.get_state_shape())\n",
    "print(inputs)\n",
    "preds = agent.get_action(inputs)\n",
    "print(preds)"
   ]
  },
  {
   "cell_type": "code",
   "execution_count": 67,
   "metadata": {},
   "outputs": [
    {
     "name": "stdout",
     "output_type": "stream",
     "text": [
      "Taking action steel_fangs\n",
      "(200.0, 196.42)\n"
     ]
    },
    {
     "data": {
      "text/plain": [
       "tensor([ 0.7000,  2.4500,  0.7000,  1.0000, 59.3000,  0.0000,  0.0000,  0.0000])"
      ]
     },
     "execution_count": 67,
     "metadata": {},
     "output_type": "execute_result"
    }
   ],
   "source": [
    "print(viper_env.step(1))\n",
    "viper_env.state()"
   ]
  },
  {
   "cell_type": "code",
   "execution_count": 68,
   "metadata": {},
   "outputs": [
    {
     "name": "stdout",
     "output_type": "stream",
     "text": [
      "Taking action nothing\n",
      "(-1.0, 0.0)\n",
      "tensor([ 0.8000,  2.4500,  0.8000,  1.0000, 59.2000,  0.0000,  0.0000,  0.0000])\n",
      "Taking action nothing\n",
      "(-1.0, 0.0)\n",
      "tensor([ 0.9000,  2.4500,  0.9000,  1.0000, 59.1000,  0.0000,  0.0000,  0.0000])\n",
      "Taking action nothing\n",
      "(-1.0, 0.0)\n",
      "tensor([ 1.0000,  2.4500,  1.0000,  1.0000, 59.0000,  0.0000,  0.0000,  0.0000])\n",
      "Taking action nothing\n",
      "(-1.0, 0.0)\n",
      "tensor([ 1.1000,  2.4500,  1.1000,  1.0000, 58.9000,  0.0000,  0.0000,  0.0000])\n",
      "Taking action nothing\n",
      "(-1.0, 0.0)\n",
      "tensor([ 1.2000,  2.4500,  1.2000,  1.0000, 58.8000,  0.0000,  0.0000,  0.0000])\n",
      "Taking action nothing\n",
      "(-1.0, 0.0)\n",
      "tensor([ 1.3000,  2.4500,  1.3000,  1.0000, 58.7000,  0.0000,  0.0000,  0.0000])\n",
      "Taking action nothing\n",
      "(-1.0, 0.0)\n",
      "tensor([ 1.4000,  2.4500,  1.4000,  1.0000, 58.6000,  0.0000,  0.0000,  0.0000])\n",
      "Taking action nothing\n",
      "(-1.0, 0.0)\n",
      "tensor([ 1.5000,  2.4500,  1.5000,  1.0000, 58.5000,  0.0000,  0.0000,  0.0000])\n",
      "Taking action nothing\n",
      "(-1.0, 0.0)\n",
      "tensor([ 1.6000,  2.4500,  1.6000,  1.0000, 58.4000,  0.0000,  0.0000,  0.0000])\n",
      "Taking action nothing\n",
      "(-1.0, 0.0)\n",
      "tensor([ 1.7000,  2.4500,  1.7000,  1.0000, 58.3000,  0.0000,  0.0000,  0.0000])\n",
      "Taking action nothing\n",
      "(-1.0, 0.0)\n",
      "tensor([ 1.8000,  2.4500,  1.8000,  1.0000, 58.2000,  0.0000,  0.0000,  0.0000])\n",
      "Taking action nothing\n",
      "(-1.0, 0.0)\n",
      "tensor([ 1.9000,  2.4500,  1.9000,  1.0000, 58.1000,  0.0000,  0.0000,  0.0000])\n",
      "Taking action nothing\n",
      "(-1.0, 0.0)\n",
      "tensor([ 2.0000,  2.4500,  2.0000,  1.0000, 58.0000,  0.0000,  0.0000,  0.0000])\n",
      "Taking action nothing\n",
      "(-1.0, 0.0)\n",
      "tensor([ 2.1000,  2.4500,  2.1000,  1.0000, 57.9000,  0.0000,  0.0000,  0.0000])\n",
      "Taking action nothing\n",
      "(-1.0, 0.0)\n",
      "tensor([ 2.2000,  2.4500,  2.2000,  1.0000, 57.8000,  0.0000,  0.0000,  0.0000])\n",
      "Taking action nothing\n",
      "(-1.0, 0.0)\n",
      "tensor([ 2.3000,  2.4500,  2.3000,  1.0000, 57.7000,  0.0000,  0.0000,  0.0000])\n",
      "Taking action nothing\n",
      "(-1.0, 0.0)\n",
      "tensor([ 2.4000,  2.4500,  2.4000,  1.0000, 57.6000,  0.0000,  0.0000,  0.0000])\n",
      "Taking action nothing\n",
      "(-1.0, 0.0)\n",
      "tensor([ 2.5000,  2.4500,  2.5000,  1.0000, 57.5000,  0.0000,  0.0000,  0.0000])\n",
      "Taking action nothing\n",
      "(-1.0, 0.0)\n",
      "tensor([ 2.6000,  2.4500,  2.6000,  1.0000, 57.4000,  0.0000,  0.0000,  0.0000])\n",
      "Taking action nothing\n",
      "(-1.0, 0.0)\n",
      "tensor([ 2.7000,  2.4500,  2.7000,  1.0000, 57.3000,  0.0000,  0.0000,  0.0000])\n",
      "Taking action nothing\n",
      "(-1.0, 0.0)\n",
      "tensor([ 2.8000,  2.4500,  2.8000,  1.0000, 57.2000,  0.0000,  0.0000,  0.0000])\n",
      "Taking action nothing\n",
      "(-1.0, 0.0)\n",
      "tensor([ 2.9000,  2.4500,  2.9000,  1.0000, 57.1000,  0.0000,  0.0000,  0.0000])\n",
      "Taking action nothing\n",
      "(-1.0, 0.0)\n",
      "tensor([ 3.0000,  2.4500,  3.0000,  1.0000, 57.0000,  0.0000,  0.0000,  0.0000])\n",
      "Taking action nothing\n",
      "(-1.0, 0.0)\n",
      "tensor([ 3.1000,  2.4500,  3.1000,  1.0000, 56.9000,  0.0000,  0.0000,  0.0000])\n",
      "Taking action nothing\n",
      "(-1.0, 0.0)\n",
      "tensor([ 3.2000,  2.4500,  3.2000,  1.0000, 56.8000,  0.0000,  0.0000,  0.0000])\n"
     ]
    }
   ],
   "source": [
    "for i in range(25):\n",
    "    print(viper_env.step(0))\n",
    "    print(viper_env.state())"
   ]
  },
  {
   "cell_type": "code",
   "execution_count": 69,
   "metadata": {},
   "outputs": [
    {
     "name": "stdout",
     "output_type": "stream",
     "text": [
      "Taking action hunters_sting\n",
      "(330.0, 343.03)\n"
     ]
    },
    {
     "data": {
      "text/plain": [
       "tensor([ 3.9000,  2.4500,  0.7000,  2.0000, 56.1000,  0.0000, 39.3000,  0.0000])"
      ]
     },
     "execution_count": 69,
     "metadata": {},
     "output_type": "execute_result"
    }
   ],
   "source": [
    "print(viper_env.step(3))\n",
    "viper_env.state()"
   ]
  },
  {
   "cell_type": "code",
   "execution_count": 70,
   "metadata": {},
   "outputs": [
    {
     "data": {
      "text/plain": [
       "2.5"
      ]
     },
     "execution_count": 70,
     "metadata": {},
     "output_type": "execute_result"
    }
   ],
   "source": [
    "viper_env.compute_gcd(2.5, 10, 0)"
   ]
  },
  {
   "cell_type": "code",
   "execution_count": null,
   "metadata": {},
   "outputs": [],
   "source": []
  }
 ],
 "metadata": {
  "kernelspec": {
   "display_name": "deepxiv",
   "language": "python",
   "name": "python3"
  },
  "language_info": {
   "codemirror_mode": {
    "name": "ipython",
    "version": 3
   },
   "file_extension": ".py",
   "mimetype": "text/x-python",
   "name": "python",
   "nbconvert_exporter": "python",
   "pygments_lexer": "ipython3",
   "version": "3.12.4"
  }
 },
 "nbformat": 4,
 "nbformat_minor": 2
}
