{
 "cells": [
  {
   "cell_type": "code",
   "execution_count": 12,
   "metadata": {},
   "outputs": [],
   "source": [
    "import sys\n",
    "import torch\n",
    "import numpy as np\n",
    "import matplotlib.pyplot as plt"
   ]
  },
  {
   "cell_type": "code",
   "execution_count": 13,
   "metadata": {},
   "outputs": [],
   "source": [
    "sys.path.append('/envs')\n",
    "sys.path.append('/models')\n",
    "import envs.viper as vpr\n",
    "import models.models as models\n",
    "import models.dqn as dqn"
   ]
  },
  {
   "cell_type": "code",
   "execution_count": null,
   "metadata": {},
   "outputs": [],
   "source": [
    "import importlib\n",
    "importlib.reload(vpr); importlib.reload(models); importlib.reload(dqn)"
   ]
  },
  {
   "cell_type": "code",
   "execution_count": 15,
   "metadata": {},
   "outputs": [],
   "source": [
    "torch.cuda.empty_cache()"
   ]
  },
  {
   "cell_type": "code",
   "execution_count": null,
   "metadata": {},
   "outputs": [],
   "source": [
    "viper_env = vpr.Viper(_sks = 798)"
   ]
  },
  {
   "cell_type": "code",
   "execution_count": null,
   "metadata": {},
   "outputs": [],
   "source": [
    "agent = dqn.DQN(viper_env, _max_history=8192)"
   ]
  },
  {
   "cell_type": "code",
   "execution_count": null,
   "metadata": {},
   "outputs": [],
   "source": [
    "action_sequence=[1, 3, 6, 8, 0, 2, 5, 0, 0]\n",
    "agent.env.reset_env()\n",
    "_sum = 0\n",
    "for a in action_sequence:\n",
    "    res = agent.env.step(a, True)\n",
    "    _sum+=res[0]\n",
    "    print(f'({res[0]:.2f}, {res[1]:.0f}, {res[2]:.2f})')\n",
    "print(_sum, _sum / len(action_sequence))"
   ]
  },
  {
   "cell_type": "code",
   "execution_count": 19,
   "metadata": {},
   "outputs": [],
   "source": [
    "agent.reset_environment()"
   ]
  },
  {
   "cell_type": "code",
   "execution_count": null,
   "metadata": {},
   "outputs": [],
   "source": [
    "agent.train(gamma=0.80, num_epochs=150, session_limit=100)"
   ]
  },
  {
   "cell_type": "code",
   "execution_count": null,
   "metadata": {},
   "outputs": [],
   "source": [
    "history_x = agent.training_history_x\n",
    "history_y = agent.training_history_y\n",
    "fig, ax = plt.subplots()\n",
    "fig.suptitle(f'Rewards {agent.model_name} LR: {agent.lr:.1e}')\n",
    "ax.plot(history_x, history_y)\n",
    "ax.legend(['Train Rewards', 'Eval Rewards'])\n",
    "ax.set_xlabel('Epoch')\n",
    "ax.set_ylabel('Rewards')\n",
    "plt.savefig('rewards_graph.png', bbox_inches='tight')\n",
    "plt.show()"
   ]
  },
  {
   "cell_type": "code",
   "execution_count": null,
   "metadata": {},
   "outputs": [],
   "source": [
    "agent.load_checkpoint(f'./checkpoints/_{agent.model_name}_last.pth')"
   ]
  },
  {
   "cell_type": "code",
   "execution_count": null,
   "metadata": {},
   "outputs": [],
   "source": [
    "viper_env.compute_gcd(2.5, 798, 15)"
   ]
  },
  {
   "cell_type": "code",
   "execution_count": null,
   "metadata": {},
   "outputs": [],
   "source": [
    "# 2.12, 2.11, 2.10, 2.09, 2.08\n",
    "#[420, 528, 582, 768, 822]\n",
    "agent.test(num_steps=50, _sks=822)"
   ]
  },
  {
   "cell_type": "markdown",
   "metadata": {},
   "source": [
    "terraform aws\n",
    "kubernites\n",
    "helm?\n",
    "look into"
   ]
  }
 ],
 "metadata": {
  "kernelspec": {
   "display_name": "deepxiv",
   "language": "python",
   "name": "python3"
  },
  "language_info": {
   "codemirror_mode": {
    "name": "ipython",
    "version": 3
   },
   "file_extension": ".py",
   "mimetype": "text/x-python",
   "name": "python",
   "nbconvert_exporter": "python",
   "pygments_lexer": "ipython3",
   "version": "3.12.4"
  }
 },
 "nbformat": 4,
 "nbformat_minor": 2
}
