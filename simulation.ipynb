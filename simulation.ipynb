{
 "cells": [
  {
   "cell_type": "code",
   "execution_count": 1,
   "metadata": {},
   "outputs": [],
   "source": [
    "import sys\n",
    "import torch\n",
    "import numpy as np\n",
    "import matplotlib.pyplot as plt"
   ]
  },
  {
   "cell_type": "code",
   "execution_count": 2,
   "metadata": {},
   "outputs": [],
   "source": [
    "sys.path.append('/envs')\n",
    "sys.path.append('/models')\n",
    "import envs.viper as vpr\n",
    "import models.models as models\n",
    "import models.dqn as dqn"
   ]
  },
  {
   "cell_type": "code",
   "execution_count": 3,
   "metadata": {},
   "outputs": [
    {
     "data": {
      "text/plain": [
       "<module 'models.dqn' from 'h:\\\\Coding Projects\\\\Python Projects\\\\Deep-XIV-Rotation\\\\models\\\\dqn.py'>"
      ]
     },
     "execution_count": 3,
     "metadata": {},
     "output_type": "execute_result"
    }
   ],
   "source": [
    "import importlib\n",
    "importlib.reload(vpr); importlib.reload(models); importlib.reload(dqn)"
   ]
  },
  {
   "cell_type": "code",
   "execution_count": 4,
   "metadata": {},
   "outputs": [
    {
     "name": "stdout",
     "output_type": "stream",
     "text": [
      "b123\n"
     ]
    }
   ],
   "source": [
    "viper_env = vpr.Viper(_sks = 798)"
   ]
  },
  {
   "cell_type": "code",
   "execution_count": 5,
   "metadata": {},
   "outputs": [],
   "source": [
    "torch.cuda.empty_cache()"
   ]
  },
  {
   "cell_type": "code",
   "execution_count": 6,
   "metadata": {},
   "outputs": [],
   "source": [
    "#state = viper_env.state()\n",
    "#state[None, :]"
   ]
  },
  {
   "cell_type": "code",
   "execution_count": 7,
   "metadata": {},
   "outputs": [],
   "source": [
    "#state.unsqueeze(0)"
   ]
  },
  {
   "cell_type": "code",
   "execution_count": 8,
   "metadata": {},
   "outputs": [
    {
     "name": "stdout",
     "output_type": "stream",
     "text": [
      "Created model dense_v1 with 15 features and 10 actions.\n",
      "Model loaded onto cuda:0.\n",
      "==========================================================================================\n",
      "Layer (type:depth-idx)                   Output Shape              Param #\n",
      "==========================================================================================\n",
      "DenseNetV1                               [196, 10]                 --\n",
      "├─Sequential: 1-1                        [196, 10]                 --\n",
      "│    └─Linear: 2-1                       [196, 4096]               65,536\n",
      "│    └─ReLU: 2-2                         [196, 4096]               --\n",
      "│    └─Linear: 2-3                       [196, 4096]               16,781,312\n",
      "│    └─ReLU: 2-4                         [196, 4096]               --\n",
      "│    └─Linear: 2-5                       [196, 2048]               8,390,656\n",
      "│    └─BatchNorm1d: 2-6                  [196, 2048]               4,096\n",
      "│    └─ReLU: 2-7                         [196, 2048]               --\n",
      "│    └─Dropout: 2-8                      [196, 2048]               --\n",
      "│    └─Linear: 2-9                       [196, 2048]               4,196,352\n",
      "│    └─ReLU: 2-10                        [196, 2048]               --\n",
      "│    └─Dropout: 2-11                     [196, 2048]               --\n",
      "│    └─Linear: 2-12                      [196, 2048]               4,196,352\n",
      "│    └─ReLU: 2-13                        [196, 2048]               --\n",
      "│    └─Linear: 2-14                      [196, 2048]               4,196,352\n",
      "│    └─BatchNorm1d: 2-15                 [196, 2048]               4,096\n",
      "│    └─ReLU: 2-16                        [196, 2048]               --\n",
      "│    └─Linear: 2-17                      [196, 1024]               2,098,176\n",
      "│    └─ReLU: 2-18                        [196, 1024]               --\n",
      "│    └─Linear: 2-19                      [196, 10]                 10,250\n",
      "==========================================================================================\n",
      "Total params: 39,943,178\n",
      "Trainable params: 39,943,178\n",
      "Non-trainable params: 0\n",
      "Total mult-adds (Units.GIGABYTES): 7.83\n",
      "==========================================================================================\n",
      "Input size (MB): 0.01\n",
      "Forward/backward pass size (MB): 33.73\n",
      "Params size (MB): 159.77\n",
      "Estimated Total Size (MB): 193.52\n",
      "==========================================================================================\n"
     ]
    }
   ],
   "source": [
    "agent = dqn.DQN(viper_env, _max_history=2048)"
   ]
  },
  {
   "cell_type": "code",
   "execution_count": 9,
   "metadata": {},
   "outputs": [
    {
     "data": {
      "text/plain": [
       "2.08"
      ]
     },
     "execution_count": 9,
     "metadata": {},
     "output_type": "execute_result"
    }
   ],
   "source": [
    "viper_env.compute_gcd(2.5, 798, 15)"
   ]
  },
  {
   "cell_type": "code",
   "execution_count": 10,
   "metadata": {},
   "outputs": [],
   "source": [
    "action_sequence=[1, 3, 6, 9, 0, 2, 5, 0, 0]"
   ]
  },
  {
   "cell_type": "code",
   "execution_count": 11,
   "metadata": {},
   "outputs": [
    {
     "name": "stdout",
     "output_type": "stream",
     "text": [
      "tensor([ 2.4500, 10.0000,  0.0000,  0.0000,  0.0000,  0.0000,  0.0000,  0.0000,\n",
      "         0.0000,  0.0000,  0.0000,  1.0000,  0.0000,  0.0000,  0.0000])\n",
      "([True, True, False, False, False, False, False, False, False, False], [0, 1])\n",
      "[1]\n",
      "2.45\n"
     ]
    }
   ],
   "source": [
    "agent.env.reset_env()\n",
    "print(agent.env.state())\n",
    "print(agent.env.valid_actions())\n",
    "print([np.random.choice(agent.env.valid_actions()[1])])\n",
    "print(agent.env.gcd)"
   ]
  },
  {
   "cell_type": "code",
   "execution_count": 12,
   "metadata": {},
   "outputs": [
    {
     "data": {
      "text/plain": [
       "tensor(1, dtype=torch.int32)"
      ]
     },
     "execution_count": 12,
     "metadata": {},
     "output_type": "execute_result"
    }
   ],
   "source": [
    "agent.get_action(agent.env.state(), e=1)[0]"
   ]
  },
  {
   "cell_type": "code",
   "execution_count": 13,
   "metadata": {},
   "outputs": [
    {
     "name": "stdout",
     "output_type": "stream",
     "text": [
      "Epoch 0 Loss: 0.004 E_0: 0.40 E_1: 0.000 G: 0.80 Rewards: -159.5 Eval Rewards: -124.80\n",
      "Epoch 1 Loss: 0.005 E_0: 0.40 E_1: 0.000 G: 0.80 Rewards: -71.6 Eval Rewards: -124.80\n",
      "Epoch 2 Loss: 0.005 E_0: 0.40 E_1: 0.000 G: 0.80 Rewards: -77.0 Eval Rewards: -124.80\n",
      "Epoch 3 Loss: 0.005 E_0: 0.39 E_1: 0.000 G: 0.80 Rewards: -133.5 Eval Rewards: -117.60\n",
      "Epoch 4 Loss: 0.005 E_0: 0.39 E_1: 0.000 G: 0.80 Rewards: -157.6 Eval Rewards: -117.60\n",
      "Epoch 5 Loss: 0.005 E_0: 0.39 E_1: 0.000 G: 0.80 Rewards: -140.4 Eval Rewards: -117.60\n",
      "Epoch 6 Loss: 0.005 E_0: 0.38 E_1: 0.000 G: 0.80 Rewards: -117.3 Eval Rewards: -117.60\n",
      "Epoch 7 Loss: 0.005 E_0: 0.37 E_1: 0.000 G: 0.80 Rewards: -83.8 Eval Rewards: -117.60\n",
      "Epoch 8 Loss: 0.005 E_0: 0.36 E_1: 0.000 G: 0.80 Rewards: -115.8 Eval Rewards: -117.60\n",
      "Epoch 9 Loss: 0.005 E_0: 0.35 E_1: 0.000 G: 0.80 Rewards: -99.1 Eval Rewards: -117.60\n",
      "Epoch 10 Loss: 0.005 E_0: 0.34 E_1: 0.000 G: 0.80 Rewards: -158.1 Eval Rewards: -102.30\n",
      "Epoch 11 Loss: 0.005 E_0: 0.33 E_1: 0.000 G: 0.80 Rewards: -104.7 Eval Rewards: -102.30\n",
      "Epoch 12 Loss: 0.005 E_0: 0.32 E_1: 0.000 G: 0.80 Rewards: -117.7 Eval Rewards: -94.34\n",
      "Epoch 13 Loss: 0.005 E_0: 0.31 E_1: 0.000 G: 0.80 Rewards: -78.6 Eval Rewards: -25.72\n",
      "Epoch 14 Loss: 0.005 E_0: 0.30 E_1: 0.000 G: 0.80 Rewards: -45.6 Eval Rewards: -26.52\n",
      "Epoch 15 Loss: 0.005 E_0: 0.28 E_1: 0.000 G: 0.80 Rewards: -134.7 Eval Rewards: -10.44\n",
      "Epoch 16 Loss: 0.005 E_0: 0.27 E_1: 0.000 G: 0.80 Rewards: -130.5 Eval Rewards: -26.52\n",
      "Epoch 17 Loss: 0.005 E_0: 0.25 E_1: 0.000 G: 0.80 Rewards: -135.8 Eval Rewards: 3.12\n",
      "Epoch 18 Loss: 0.005 E_0: 0.24 E_1: 0.059 G: 0.80 Rewards: -67.2 Eval Rewards: 22.12\n",
      "Epoch 19 Loss: 0.005 E_0: 0.22 E_1: 0.071 G: 0.80 Rewards: -88.4 Eval Rewards: 47.60\n",
      "Epoch 20 Loss: 0.005 E_0: 0.21 E_1: 0.083 G: 0.80 Rewards: -84.8 Eval Rewards: 47.60\n",
      "Epoch 21 Loss: 0.005 E_0: 0.19 E_1: 0.096 G: 0.80 Rewards: -85.2 Eval Rewards: 47.60\n",
      "Epoch 22 Loss: 0.005 E_0: 0.18 E_1: 0.109 G: 0.80 Rewards: -102.9 Eval Rewards: 47.60\n",
      "Epoch 23 Loss: 0.005 E_0: 0.16 E_1: 0.123 G: 0.80 Rewards: -85.2 Eval Rewards: 47.60\n",
      "Epoch 24 Loss: 0.005 E_0: 0.15 E_1: 0.137 G: 0.80 Rewards: -134.3 Eval Rewards: 53.24\n",
      "Epoch 25 Loss: 0.005 E_0: 0.13 E_1: 0.152 G: 0.80 Rewards: -110.9 Eval Rewards: 53.24\n",
      "Epoch 26 Loss: 0.005 E_0: 0.12 E_1: 0.167 G: 0.80 Rewards: -142.8 Eval Rewards: 47.60\n",
      "Epoch 27 Loss: 0.005 E_0: 0.10 E_1: 0.182 G: 0.80 Rewards: -87.4 Eval Rewards: 47.60\n",
      "Epoch 28 Loss: 0.005 E_0: 0.09 E_1: 0.197 G: 0.80 Rewards: -162.4 Eval Rewards: 47.60\n",
      "Epoch 29 Loss: 0.005 E_0: 0.08 E_1: 0.213 G: 0.80 Rewards: -67.5 Eval Rewards: 47.60\n",
      "Epoch 30 Loss: 0.005 E_0: 0.07 E_1: 0.228 G: 0.80 Rewards: -109.1 Eval Rewards: 47.60\n",
      "Epoch 31 Loss: 0.005 E_0: 0.06 E_1: 0.243 G: 0.80 Rewards: -38.1 Eval Rewards: 47.60\n",
      "Epoch 32 Loss: 0.005 E_0: 0.00 E_1: 0.258 G: 0.80 Rewards: -126.3 Eval Rewards: 47.60\n",
      "Epoch 33 Loss: 0.005 E_0: 0.00 E_1: 0.272 G: 0.80 Rewards: -124.9 Eval Rewards: 47.60\n",
      "Epoch 34 Loss: 0.005 E_0: 0.00 E_1: 0.286 G: 0.80 Rewards: -76.8 Eval Rewards: 47.60\n",
      "Epoch 35 Loss: 0.005 E_0: 0.00 E_1: 0.300 G: 0.80 Rewards: -83.5 Eval Rewards: 47.60\n",
      "Epoch 36 Loss: 0.005 E_0: 0.00 E_1: 0.313 G: 0.80 Rewards: -77.6 Eval Rewards: 47.60\n",
      "Epoch 37 Loss: 0.005 E_0: 0.00 E_1: 0.325 G: 0.80 Rewards: -81.9 Eval Rewards: 47.60\n",
      "Epoch 38 Loss: 0.005 E_0: 0.00 E_1: 0.337 G: 0.80 Rewards: -64.8 Eval Rewards: 47.60\n",
      "Epoch 39 Loss: 0.005 E_0: 0.00 E_1: 0.348 G: 0.80 Rewards: -101.4 Eval Rewards: 47.60\n",
      "Epoch 40 Loss: 0.005 E_0: 0.00 E_1: 0.357 G: 0.80 Rewards: -89.8 Eval Rewards: 47.60\n",
      "Epoch 41 Loss: 0.005 E_0: 0.00 E_1: 0.366 G: 0.80 Rewards: -127.6 Eval Rewards: 47.60\n",
      "Epoch 42 Loss: 0.005 E_0: 0.00 E_1: 0.374 G: 0.80 Rewards: -84.9 Eval Rewards: 47.60\n",
      "Epoch 43 Loss: 0.005 E_0: 0.00 E_1: 0.381 G: 0.80 Rewards: -63.3 Eval Rewards: 47.60\n",
      "Epoch 44 Loss: 0.005 E_0: 0.00 E_1: 0.387 G: 0.80 Rewards: -114.1 Eval Rewards: 47.60\n",
      "Epoch 45 Loss: 0.005 E_0: 0.00 E_1: 0.392 G: 0.80 Rewards: -47.7 Eval Rewards: 136.40\n",
      "Epoch 46 Loss: 0.005 E_0: 0.00 E_1: 0.396 G: 0.80 Rewards: -58.8 Eval Rewards: 47.60\n",
      "Epoch 47 Loss: 0.005 E_0: 0.00 E_1: 0.398 G: 0.80 Rewards: -83.8 Eval Rewards: 136.40\n",
      "Epoch 48 Loss: 0.005 E_0: 0.00 E_1: 0.400 G: 0.80 Rewards: -66.4 Eval Rewards: 136.40\n",
      "Epoch 49 Loss: 0.005 E_0: 0.00 E_1: 0.400 G: 0.80 Rewards: -141.0 Eval Rewards: 136.40\n",
      "Epoch 50 Loss: 0.005 E_0: 0.00 E_1: 0.399 G: 0.80 Rewards: -57.1 Eval Rewards: 136.40\n",
      "Epoch 51 Loss: 0.005 E_0: 0.06 E_1: 0.397 G: 0.80 Rewards: -98.5 Eval Rewards: 136.40\n",
      "Epoch 52 Loss: 0.005 E_0: 0.07 E_1: 0.394 G: 0.80 Rewards: -83.8 Eval Rewards: 136.40\n",
      "Epoch 53 Loss: 0.004 E_0: 0.08 E_1: 0.389 G: 0.80 Rewards: -42.9 Eval Rewards: 136.40\n",
      "Epoch 54 Loss: 0.004 E_0: 0.09 E_1: 0.384 G: 0.80 Rewards: -40.2 Eval Rewards: 136.40\n",
      "Epoch 55 Loss: 0.005 E_0: 0.10 E_1: 0.377 G: 0.80 Rewards: -92.6 Eval Rewards: 136.40\n",
      "Epoch 56 Loss: 0.005 E_0: 0.12 E_1: 0.369 G: 0.80 Rewards: -23.7 Eval Rewards: 101.46\n",
      "Epoch 57 Loss: 0.005 E_0: 0.13 E_1: 0.361 G: 0.80 Rewards: -64.3 Eval Rewards: 101.46\n",
      "Epoch 58 Loss: 0.005 E_0: 0.15 E_1: 0.351 G: 0.80 Rewards: -69.4 Eval Rewards: 101.46\n",
      "Epoch 59 Loss: 0.005 E_0: 0.16 E_1: 0.341 G: 0.80 Rewards: -103.4 Eval Rewards: 136.40\n",
      "Epoch 60 Loss: 0.005 E_0: 0.18 E_1: 0.329 G: 0.80 Rewards: -84.9 Eval Rewards: 101.46\n",
      "Epoch 61 Loss: 0.005 E_0: 0.19 E_1: 0.317 G: 0.80 Rewards: -83.8 Eval Rewards: 101.46\n",
      "Epoch 62 Loss: 0.004 E_0: 0.21 E_1: 0.304 G: 0.80 Rewards: -89.0 Eval Rewards: 101.46\n",
      "Epoch 63 Loss: 0.005 E_0: 0.22 E_1: 0.291 G: 0.80 Rewards: -59.5 Eval Rewards: 101.46\n",
      "Epoch 64 Loss: 0.005 E_0: 0.24 E_1: 0.277 G: 0.80 Rewards: -31.7 Eval Rewards: 101.46\n",
      "Epoch 65 Loss: 0.005 E_0: 0.25 E_1: 0.263 G: 0.80 Rewards: -102.7 Eval Rewards: 169.84\n",
      "Epoch 66 Loss: 0.004 E_0: 0.27 E_1: 0.248 G: 0.80 Rewards: -120.7 Eval Rewards: 101.46\n",
      "Epoch 67 Loss: 0.004 E_0: 0.28 E_1: 0.233 G: 0.80 Rewards: -100.7 Eval Rewards: 169.84\n",
      "Epoch 68 Loss: 0.004 E_0: 0.30 E_1: 0.218 G: 0.80 Rewards: -32.5 Eval Rewards: 169.84\n",
      "Epoch 69 Loss: 0.004 E_0: 0.31 E_1: 0.203 G: 0.80 Rewards: -67.8 Eval Rewards: 159.16\n",
      "Epoch 70 Loss: 0.004 E_0: 0.32 E_1: 0.187 G: 0.80 Rewards: -27.0 Eval Rewards: 189.76\n",
      "Epoch 71 Loss: 0.004 E_0: 0.33 E_1: 0.172 G: 0.80 Rewards: -25.3 Eval Rewards: 169.84\n",
      "Epoch 72 Loss: 0.005 E_0: 0.34 E_1: 0.157 G: 0.80 Rewards: -44.1 Eval Rewards: 189.76\n",
      "Epoch 73 Loss: 0.004 E_0: 0.35 E_1: 0.142 G: 0.80 Rewards: -84.4 Eval Rewards: 189.76\n",
      "Epoch 74 Loss: 0.005 E_0: 0.36 E_1: 0.128 G: 0.80 Rewards: -29.4 Eval Rewards: 189.76\n",
      "Epoch 75 Loss: 0.005 E_0: 0.37 E_1: 0.114 G: 0.80 Rewards: -24.1 Eval Rewards: 189.76\n",
      "Epoch 76 Loss: 0.004 E_0: 0.38 E_1: 0.100 G: 0.80 Rewards: -86.9 Eval Rewards: 189.76\n",
      "Epoch 77 Loss: 0.005 E_0: 0.39 E_1: 0.087 G: 0.80 Rewards: -16.4 Eval Rewards: 189.76\n",
      "Epoch 78 Loss: 0.004 E_0: 0.39 E_1: 0.075 G: 0.80 Rewards: -170.9 Eval Rewards: 189.76\n",
      "Epoch 79 Loss: 0.004 E_0: 0.39 E_1: 0.063 G: 0.80 Rewards: -86.4 Eval Rewards: 85.30\n",
      "Epoch 80 Loss: 0.004 E_0: 0.40 E_1: 0.052 G: 0.80 Rewards: -51.1 Eval Rewards: 85.30\n",
      "Epoch 81 Loss: 0.004 E_0: 0.40 E_1: 0.000 G: 0.80 Rewards: -25.7 Eval Rewards: 85.30\n",
      "Epoch 82 Loss: 0.004 E_0: 0.40 E_1: 0.000 G: 0.80 Rewards: -61.7 Eval Rewards: 85.30\n",
      "Epoch 83 Loss: 0.004 E_0: 0.40 E_1: 0.000 G: 0.80 Rewards: -50.7 Eval Rewards: 85.30\n",
      "Epoch 84 Loss: 0.004 E_0: 0.40 E_1: 0.000 G: 0.80 Rewards: -4.0 Eval Rewards: 85.30\n",
      "Epoch 85 Loss: 0.004 E_0: 0.39 E_1: 0.000 G: 0.80 Rewards: -54.6 Eval Rewards: 85.30\n",
      "Epoch 86 Loss: 0.005 E_0: 0.39 E_1: 0.000 G: 0.80 Rewards: -22.3 Eval Rewards: 85.30\n",
      "Epoch 87 Loss: 0.004 E_0: 0.39 E_1: 0.000 G: 0.80 Rewards: -7.6 Eval Rewards: 85.30\n",
      "Epoch 88 Loss: 0.004 E_0: 0.38 E_1: 0.000 G: 0.80 Rewards: 48.8 Eval Rewards: 85.30\n",
      "Epoch 89 Loss: 0.004 E_0: 0.37 E_1: 0.000 G: 0.80 Rewards: -12.4 Eval Rewards: 85.30\n",
      "Epoch 90 Loss: 0.004 E_0: 0.36 E_1: 0.000 G: 0.80 Rewards: -32.5 Eval Rewards: 85.30\n",
      "Epoch 91 Loss: 0.004 E_0: 0.35 E_1: 0.000 G: 0.80 Rewards: -26.8 Eval Rewards: 85.30\n",
      "Epoch 92 Loss: 0.004 E_0: 0.34 E_1: 0.000 G: 0.80 Rewards: -20.3 Eval Rewards: 85.30\n",
      "Epoch 93 Loss: 0.004 E_0: 0.33 E_1: 0.000 G: 0.80 Rewards: -12.5 Eval Rewards: 85.30\n",
      "Epoch 94 Loss: 0.004 E_0: 0.32 E_1: 0.000 G: 0.80 Rewards: 3.0 Eval Rewards: 85.30\n",
      "Epoch 95 Loss: 0.004 E_0: 0.31 E_1: 0.000 G: 0.80 Rewards: 42.8 Eval Rewards: 85.30\n",
      "Epoch 96 Loss: 0.004 E_0: 0.30 E_1: 0.000 G: 0.80 Rewards: 25.1 Eval Rewards: 85.30\n",
      "Epoch 97 Loss: 0.004 E_0: 0.28 E_1: 0.000 G: 0.80 Rewards: 65.0 Eval Rewards: 85.30\n",
      "Epoch 98 Loss: 0.004 E_0: 0.27 E_1: 0.000 G: 0.80 Rewards: -39.5 Eval Rewards: 85.30\n",
      "Epoch 99 Loss: 0.004 E_0: 0.25 E_1: 0.000 G: 0.80 Rewards: -8.4 Eval Rewards: 85.30\n",
      "Done\n"
     ]
    }
   ],
   "source": [
    "agent.train(gamma=0.80, num_epochs=2000, session_limit=100)"
   ]
  },
  {
   "cell_type": "code",
   "execution_count": 14,
   "metadata": {},
   "outputs": [
    {
     "data": {
      "image/png": "[encoded data removed]",
      "text/plain": [
       "<Figure size 640x480 with 1 Axes>"
      ]
     },
     "metadata": {},
     "output_type": "display_data"
    }
   ],
   "source": [
    "history_x = agent.training_history_x\n",
    "history_y = agent.training_history_y\n",
    "fig, ax = plt.subplots()\n",
    "fig.suptitle('Rewards')\n",
    "ax.plot(history_x, history_y)\n",
    "ax.legend(['Train Rewards', 'Eval Rewards'])\n",
    "ax.set_xlabel('Epoch')\n",
    "ax.set_ylabel('Rewards')\n",
    "plt.savefig('rewards_graph.png', bbox_inches='tight')\n",
    "plt.show()"
   ]
  },
  {
   "cell_type": "code",
   "execution_count": 13,
   "metadata": {},
   "outputs": [
    {
     "name": "stderr",
     "output_type": "stream",
     "text": [
      "h:\\Coding Projects\\Python Projects\\Deep-XIV-Rotation\\models\\dqn.py:268: FutureWarning: You are using `torch.load` with `weights_only=False` (the current default value), which uses the default pickle module implicitly. It is possible to construct malicious pickle data which will execute arbitrary code during unpickling (See https://github.com/pytorch/pytorch/blob/main/SECURITY.md#untrusted-models for more details). In a future release, the default value for `weights_only` will be flipped to `True`. This limits the functions that could be executed during unpickling. Arbitrary objects will no longer be allowed to be loaded via this mode unless they are explicitly allowlisted by the user via `torch.serialization.add_safe_globals`. We recommend you start setting `weights_only=True` for any use case where you don't have full control of the loaded file. Please open an issue on GitHub for any issues related to this experimental feature.\n",
      "  checkpoint = torch.load(path)\n"
     ]
    },
    {
     "ename": "RuntimeError",
     "evalue": "Error(s) in loading state_dict for DenseNetV1:\n\tMissing key(s) in state_dict: \"sequence.8.weight\", \"sequence.8.bias\", \"sequence.11.weight\", \"sequence.11.bias\", \"sequence.14.weight\", \"sequence.14.bias\", \"sequence.14.running_mean\", \"sequence.14.running_var\", \"sequence.16.weight\", \"sequence.16.bias\", \"sequence.18.weight\", \"sequence.18.bias\". \n\tUnexpected key(s) in state_dict: \"sequence.7.weight\", \"sequence.7.bias\", \"sequence.10.weight\", \"sequence.10.bias\", \"sequence.12.weight\", \"sequence.12.bias\", \"sequence.13.running_mean\", \"sequence.13.running_var\", \"sequence.13.num_batches_tracked\", \"sequence.15.weight\", \"sequence.15.bias\", \"sequence.17.weight\", \"sequence.17.bias\". \n\tsize mismatch for sequence.13.weight: copying a param with shape torch.Size([2048]) from checkpoint, the shape in current model is torch.Size([2048, 2048]).",
     "output_type": "error",
     "traceback": [
      "\u001b[1;31m---------------------------------------------------------------------------\u001b[0m",
      "\u001b[1;31mRuntimeError\u001b[0m                              Traceback (most recent call last)",
      "Cell \u001b[1;32mIn[13], line 1\u001b[0m\n\u001b[1;32m----> 1\u001b[0m agent\u001b[38;5;241m.\u001b[39mload_checkpoint(\u001b[38;5;124mf\u001b[39m\u001b[38;5;124m'\u001b[39m\u001b[38;5;124m./checkpoints/_\u001b[39m\u001b[38;5;132;01m{\u001b[39;00magent\u001b[38;5;241m.\u001b[39mmodel_name\u001b[38;5;132;01m}\u001b[39;00m\u001b[38;5;124m_last.pth\u001b[39m\u001b[38;5;124m'\u001b[39m)\n",
      "File \u001b[1;32mh:\\Coding Projects\\Python Projects\\Deep-XIV-Rotation\\models\\dqn.py:269\u001b[0m, in \u001b[0;36mDQN.load_checkpoint\u001b[1;34m(self, path)\u001b[0m\n\u001b[0;32m    267\u001b[0m \u001b[38;5;28;01mif\u001b[39;00m os\u001b[38;5;241m.\u001b[39mpath\u001b[38;5;241m.\u001b[39misfile(path):\n\u001b[0;32m    268\u001b[0m     checkpoint \u001b[38;5;241m=\u001b[39m torch\u001b[38;5;241m.\u001b[39mload(path)\n\u001b[1;32m--> 269\u001b[0m     \u001b[38;5;28mself\u001b[39m\u001b[38;5;241m.\u001b[39mmodel\u001b[38;5;241m.\u001b[39mload_state_dict(checkpoint[\u001b[38;5;124m'\u001b[39m\u001b[38;5;124mmodel\u001b[39m\u001b[38;5;124m'\u001b[39m])\n\u001b[0;32m    270\u001b[0m     \u001b[38;5;28mself\u001b[39m\u001b[38;5;241m.\u001b[39mmodel\u001b[38;5;241m.\u001b[39mto(\u001b[38;5;28mself\u001b[39m\u001b[38;5;241m.\u001b[39mdevice)\n\u001b[0;32m    271\u001b[0m     \u001b[38;5;28mself\u001b[39m\u001b[38;5;241m.\u001b[39moptim\u001b[38;5;241m.\u001b[39mload_state_dict(checkpoint[\u001b[38;5;124m'\u001b[39m\u001b[38;5;124mopti\u001b[39m\u001b[38;5;124m'\u001b[39m])\n",
      "File \u001b[1;32mc:\\Users\\nickb\\anaconda3\\envs\\deepxiv\\Lib\\site-packages\\torch\\nn\\modules\\module.py:2215\u001b[0m, in \u001b[0;36mModule.load_state_dict\u001b[1;34m(self, state_dict, strict, assign)\u001b[0m\n\u001b[0;32m   2210\u001b[0m         error_msgs\u001b[38;5;241m.\u001b[39minsert(\n\u001b[0;32m   2211\u001b[0m             \u001b[38;5;241m0\u001b[39m, \u001b[38;5;124m'\u001b[39m\u001b[38;5;124mMissing key(s) in state_dict: \u001b[39m\u001b[38;5;132;01m{}\u001b[39;00m\u001b[38;5;124m. \u001b[39m\u001b[38;5;124m'\u001b[39m\u001b[38;5;241m.\u001b[39mformat(\n\u001b[0;32m   2212\u001b[0m                 \u001b[38;5;124m'\u001b[39m\u001b[38;5;124m, \u001b[39m\u001b[38;5;124m'\u001b[39m\u001b[38;5;241m.\u001b[39mjoin(\u001b[38;5;124mf\u001b[39m\u001b[38;5;124m'\u001b[39m\u001b[38;5;124m\"\u001b[39m\u001b[38;5;132;01m{\u001b[39;00mk\u001b[38;5;132;01m}\u001b[39;00m\u001b[38;5;124m\"\u001b[39m\u001b[38;5;124m'\u001b[39m \u001b[38;5;28;01mfor\u001b[39;00m k \u001b[38;5;129;01min\u001b[39;00m missing_keys)))\n\u001b[0;32m   2214\u001b[0m \u001b[38;5;28;01mif\u001b[39;00m \u001b[38;5;28mlen\u001b[39m(error_msgs) \u001b[38;5;241m>\u001b[39m \u001b[38;5;241m0\u001b[39m:\n\u001b[1;32m-> 2215\u001b[0m     \u001b[38;5;28;01mraise\u001b[39;00m \u001b[38;5;167;01mRuntimeError\u001b[39;00m(\u001b[38;5;124m'\u001b[39m\u001b[38;5;124mError(s) in loading state_dict for \u001b[39m\u001b[38;5;132;01m{}\u001b[39;00m\u001b[38;5;124m:\u001b[39m\u001b[38;5;130;01m\\n\u001b[39;00m\u001b[38;5;130;01m\\t\u001b[39;00m\u001b[38;5;132;01m{}\u001b[39;00m\u001b[38;5;124m'\u001b[39m\u001b[38;5;241m.\u001b[39mformat(\n\u001b[0;32m   2216\u001b[0m                        \u001b[38;5;28mself\u001b[39m\u001b[38;5;241m.\u001b[39m\u001b[38;5;18m__class__\u001b[39m\u001b[38;5;241m.\u001b[39m\u001b[38;5;18m__name__\u001b[39m, \u001b[38;5;124m\"\u001b[39m\u001b[38;5;130;01m\\n\u001b[39;00m\u001b[38;5;130;01m\\t\u001b[39;00m\u001b[38;5;124m\"\u001b[39m\u001b[38;5;241m.\u001b[39mjoin(error_msgs)))\n\u001b[0;32m   2217\u001b[0m \u001b[38;5;28;01mreturn\u001b[39;00m _IncompatibleKeys(missing_keys, unexpected_keys)\n",
      "\u001b[1;31mRuntimeError\u001b[0m: Error(s) in loading state_dict for DenseNetV1:\n\tMissing key(s) in state_dict: \"sequence.8.weight\", \"sequence.8.bias\", \"sequence.11.weight\", \"sequence.11.bias\", \"sequence.14.weight\", \"sequence.14.bias\", \"sequence.14.running_mean\", \"sequence.14.running_var\", \"sequence.16.weight\", \"sequence.16.bias\", \"sequence.18.weight\", \"sequence.18.bias\". \n\tUnexpected key(s) in state_dict: \"sequence.7.weight\", \"sequence.7.bias\", \"sequence.10.weight\", \"sequence.10.bias\", \"sequence.12.weight\", \"sequence.12.bias\", \"sequence.13.running_mean\", \"sequence.13.running_var\", \"sequence.13.num_batches_tracked\", \"sequence.15.weight\", \"sequence.15.bias\", \"sequence.17.weight\", \"sequence.17.bias\". \n\tsize mismatch for sequence.13.weight: copying a param with shape torch.Size([2048]) from checkpoint, the shape in current model is torch.Size([2048, 2048])."
     ]
    }
   ],
   "source": [
    "agent.load_checkpoint(f'./checkpoints/_{agent.model_name}_last.pth')"
   ]
  },
  {
   "cell_type": "code",
   "execution_count": 16,
   "metadata": {},
   "outputs": [
    {
     "name": "stdout",
     "output_type": "stream",
     "text": [
      "tensor([ 2.4500, 10.0000,  0.0000,  0.0000,  0.0000,  0.0000,  0.0000,  0.0000,\n",
      "         0.0000,  0.0000,  0.0000,  1.0000,  0.0000,  0.0000,  0.0000])\n",
      "Took action: 1-reaving_fangs @ 0.000\n",
      "(2.6, 200, 200.82)\n",
      "Took action: 3-swiftskins_sting @ 2.450\n",
      "(1.1, 300, 313.14)\n",
      "Took action: 6-hindsting_strike @ 4.900\n",
      "(3.1, 400, 401.24)\n",
      "Took action: 9-death_rattle @ 5.600\n",
      "(4.2, 280, 286.44)\n",
      "Took action: 0-steel_fangs @ 6.980\n",
      "(3.2399999999999998, 300, 309.35)\n",
      "Took action: 2-hunters_sting @ 9.060\n",
      "(1.8399999999999999, 300, 294.75)\n",
      "Took action: 5-flanksbane_fang @ 11.140\n",
      "(6.840000000000001, 550.0, 554.46)\n",
      "Took action: 1-reaving_fangs @ 13.220\n",
      "(2.44, 330.0, 346.4)\n",
      "Took action: 3-swiftskins_sting @ 15.300\n",
      "(2.44, 330.0, 327.05)\n",
      "Took action: 6-hindsting_strike @ 17.380\n",
      "(4.6400000000000015, 440.00000000000006, 430.43)\n",
      "Took action: 9-death_rattle @ 18.080\n",
      "(4.76, 308.0, 305.89)\n",
      "Took action: 0-steel_fangs @ 19.460\n",
      "(3.84, 330.0, 341.63)\n",
      "Took action: 2-hunters_sting @ 21.540\n",
      "(2.44, 330.0, 343.21)\n",
      "Took action: 5-flanksbane_fang @ 23.620\n",
      "(6.840000000000001, 550.0, 556.08)\n",
      "Took action: 1-reaving_fangs @ 25.700\n",
      "(2.44, 330.0, 322.91)\n",
      "Took action: 3-swiftskins_sting @ 27.780\n",
      "(2.44, 330.0, 325.61)\n",
      "Took action: 6-hindsting_strike @ 29.860\n",
      "(4.6400000000000015, 440.00000000000006, 427.18)\n",
      "Took action: 9-death_rattle @ 30.560\n",
      "(4.76, 308.0, 299.99)\n",
      "Took action: 0-steel_fangs @ 31.940\n",
      "(3.84, 330.0, 330.98)\n",
      "Took action: 2-hunters_sting @ 34.020\n",
      "(2.44, 330.0, 345.81)\n",
      "Took action: 5-flanksbane_fang @ 36.100\n",
      "(6.840000000000001, 550.0, 571.66)\n",
      "Took action: 1-reaving_fangs @ 38.180\n",
      "(2.44, 330.0, 337.53)\n",
      "Took action: 3-swiftskins_sting @ 40.260\n",
      "(2.44, 330.0, 316.95)\n",
      "Took action: 6-hindsting_strike @ 42.340\n",
      "(4.6400000000000015, 440.00000000000006, 423.73)\n",
      "Took action: 9-death_rattle @ 43.040\n",
      "(4.76, 308.0, 292.69)\n",
      "Took action: 0-steel_fangs @ 44.420\n",
      "(3.84, 330.0, 314.02)\n",
      "Took action: 2-hunters_sting @ 46.500\n",
      "(2.44, 330.0, 342.45)\n",
      "Took action: 5-flanksbane_fang @ 48.580\n",
      "(6.840000000000001, 550.0, 526.9)\n",
      "Took action: 1-reaving_fangs @ 50.660\n",
      "(2.44, 330.0, 330.57)\n",
      "Took action: 3-swiftskins_sting @ 52.740\n",
      "(2.44, 330.0, 318.46)\n",
      "Took action: 6-hindsting_strike @ 54.820\n",
      "(4.6400000000000015, 440.00000000000006, 440.18)\n",
      "Took action: 9-death_rattle @ 55.520\n",
      "(4.76, 308.0, 312.11)\n",
      "Took action: 0-steel_fangs @ 56.900\n",
      "(3.84, 330.0, 344.3)\n",
      "Took action: 2-hunters_sting @ 58.980\n",
      "(2.44, 330.0, 337.29)\n",
      "Took action: 5-flanksbane_fang @ 61.060\n",
      "(6.840000000000001, 550.0, 523.25)\n",
      "Took action: 1-reaving_fangs @ 63.140\n",
      "(2.44, 330.0, 320.66)\n",
      "Took action: 3-swiftskins_sting @ 65.220\n",
      "(2.44, 330.0, 342.31)\n",
      "Took action: 6-hindsting_strike @ 67.300\n",
      "(4.6400000000000015, 440.00000000000006, 426.18)\n",
      "Took action: 9-death_rattle @ 68.000\n",
      "(4.76, 308.0, 295.49)\n",
      "Took action: 0-steel_fangs @ 69.380\n",
      "(3.84, 330.0, 330.0)\n",
      "Took action: 2-hunters_sting @ 71.460\n",
      "(2.44, 330.0, 346.23)\n",
      "Took action: 5-flanksbane_fang @ 73.540\n",
      "(6.840000000000001, 550.0, 560.7)\n",
      "Took action: 1-reaving_fangs @ 75.620\n",
      "(2.44, 330.0, 322.33)\n",
      "Took action: 3-swiftskins_sting @ 77.700\n",
      "(2.44, 330.0, 326.17)\n",
      "Took action: 6-hindsting_strike @ 79.780\n",
      "(4.6400000000000015, 440.00000000000006, 426.0)\n",
      "Took action: 9-death_rattle @ 80.480\n",
      "(4.76, 308.0, 305.82)\n",
      "Took action: 0-steel_fangs @ 81.860\n",
      "(3.84, 330.0, 332.23)\n",
      "Took action: 2-hunters_sting @ 83.940\n",
      "(2.44, 330.0, 344.29)\n",
      "Took action: 5-flanksbane_fang @ 86.020\n",
      "(6.840000000000001, 550.0, 537.59)\n",
      "Took action: 1-reaving_fangs @ 88.100\n",
      "(2.44, 330.0, 328.57)\n"
     ]
    },
    {
     "data": {
      "text/plain": [
       "189.76000000000002"
      ]
     },
     "execution_count": 16,
     "metadata": {},
     "output_type": "execute_result"
    }
   ],
   "source": [
    "agent.test(num_steps=50)"
   ]
  },
  {
   "cell_type": "code",
   "execution_count": 17,
   "metadata": {},
   "outputs": [
    {
     "data": {
      "text/plain": [
       "tensor([[-0.2471, -0.1529,  0.2862,  0.3165, -0.3397, -0.3899, -0.2908, -0.3743,\n",
       "         -0.4397, -0.4315]], device='cuda:0')"
      ]
     },
     "execution_count": 17,
     "metadata": {},
     "output_type": "execute_result"
    }
   ],
   "source": [
    "pred = agent.predict(agent.env.state())\n",
    "pred"
   ]
  },
  {
   "cell_type": "code",
   "execution_count": 18,
   "metadata": {},
   "outputs": [
    {
     "data": {
      "text/plain": [
       "tensor([[0.0923, 0.1014, 0.1574, 0.1622, 0.0841, 0.0800, 0.0884, 0.0813, 0.0761,\n",
       "         0.0768]], device='cuda:0')"
      ]
     },
     "execution_count": 18,
     "metadata": {},
     "output_type": "execute_result"
    }
   ],
   "source": [
    "soft = torch.nn.Softmax(dim=1)\n",
    "soft(pred)"
   ]
  },
  {
   "cell_type": "code",
   "execution_count": 19,
   "metadata": {},
   "outputs": [
    {
     "data": {
      "text/plain": [
       "tensor(4, device='cuda:0')"
      ]
     },
     "execution_count": 19,
     "metadata": {},
     "output_type": "execute_result"
    }
   ],
   "source": [
    "torch.multinomial(soft(pred), 2, replacement=True)[0][0]"
   ]
  },
  {
   "cell_type": "code",
   "execution_count": 20,
   "metadata": {},
   "outputs": [
    {
     "data": {
      "text/plain": [
       "tensor([2.0800, 0.7000, 0.0000, 0.9883, 0.8785, 0.7225, 0.0000, 0.0000, 0.9537,\n",
       "        0.0000, 0.0000, 0.0000, 1.0000, 0.0000, 0.0000])"
      ]
     },
     "execution_count": 20,
     "metadata": {},
     "output_type": "execute_result"
    }
   ],
   "source": [
    "agent.env.state()"
   ]
  },
  {
   "cell_type": "code",
   "execution_count": 21,
   "metadata": {},
   "outputs": [
    {
     "data": {
      "text/plain": [
       "tensor(6, dtype=torch.int32)"
      ]
     },
     "execution_count": 21,
     "metadata": {},
     "output_type": "execute_result"
    }
   ],
   "source": [
    "torch.from_numpy(np.random.randint(agent.actions, size = 1))[0]"
   ]
  },
  {
   "cell_type": "code",
   "execution_count": null,
   "metadata": {},
   "outputs": [],
   "source": []
  }
 ],
 "metadata": {
  "kernelspec": {
   "display_name": "deepxiv",
   "language": "python",
   "name": "python3"
  },
  "language_info": {
   "codemirror_mode": {
    "name": "ipython",
    "version": 3
   },
   "file_extension": ".py",
   "mimetype": "text/x-python",
   "name": "python",
   "nbconvert_exporter": "python",
   "pygments_lexer": "ipython3",
   "version": "3.12.4"
  }
 },
 "nbformat": 4,
 "nbformat_minor": 2
}
