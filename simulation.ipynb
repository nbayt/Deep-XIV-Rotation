{
 "cells": [
  {
   "cell_type": "code",
   "execution_count": 1,
   "metadata": {},
   "outputs": [],
   "source": [
    "import sys\n",
    "import torch\n",
    "import numpy as np\n",
    "import matplotlib.pyplot as plt"
   ]
  },
  {
   "cell_type": "code",
   "execution_count": 2,
   "metadata": {},
   "outputs": [],
   "source": [
    "sys.path.append('/envs')\n",
    "sys.path.append('/models')\n",
    "import envs.viper as vpr\n",
    "import models.models as models\n",
    "import models.dqn as dqn"
   ]
  },
  {
   "cell_type": "code",
   "execution_count": 3,
   "metadata": {},
   "outputs": [
    {
     "data": {
      "text/plain": [
       "<module 'models.dqn' from 'h:\\\\Coding Projects\\\\Python Projects\\\\Deep-XIV-Rotation\\\\models\\\\dqn.py'>"
      ]
     },
     "execution_count": 3,
     "metadata": {},
     "output_type": "execute_result"
    }
   ],
   "source": [
    "import importlib\n",
    "importlib.reload(vpr); importlib.reload(models); importlib.reload(dqn)"
   ]
  },
  {
   "cell_type": "code",
   "execution_count": 4,
   "metadata": {},
   "outputs": [
    {
     "name": "stdout",
     "output_type": "stream",
     "text": [
      "b123\n"
     ]
    }
   ],
   "source": [
    "viper_env = vpr.Viper(_sks = 798)"
   ]
  },
  {
   "cell_type": "code",
   "execution_count": 5,
   "metadata": {},
   "outputs": [],
   "source": [
    "torch.cuda.empty_cache()"
   ]
  },
  {
   "cell_type": "code",
   "execution_count": 6,
   "metadata": {},
   "outputs": [],
   "source": [
    "#state = viper_env.state()\n",
    "#state[None, :]"
   ]
  },
  {
   "cell_type": "code",
   "execution_count": 7,
   "metadata": {},
   "outputs": [],
   "source": [
    "#state.unsqueeze(0)"
   ]
  },
  {
   "cell_type": "code",
   "execution_count": 8,
   "metadata": {},
   "outputs": [
    {
     "name": "stdout",
     "output_type": "stream",
     "text": [
      "Created model dense_v1 with 15 features and 10 actions.\n",
      "Model loaded onto cuda:0.\n",
      "==========================================================================================\n",
      "Layer (type:depth-idx)                   Output Shape              Param #\n",
      "==========================================================================================\n",
      "DenseNetV1                               [196, 10]                 --\n",
      "├─Sequential: 1-1                        [196, 10]                 --\n",
      "│    └─Linear: 2-1                       [196, 4096]               65,536\n",
      "│    └─ReLU: 2-2                         [196, 4096]               --\n",
      "│    └─Linear: 2-3                       [196, 4096]               16,781,312\n",
      "│    └─ReLU: 2-4                         [196, 4096]               --\n",
      "│    └─Linear: 2-5                       [196, 2048]               8,390,656\n",
      "│    └─BatchNorm1d: 2-6                  [196, 2048]               4,096\n",
      "│    └─ReLU: 2-7                         [196, 2048]               --\n",
      "│    └─Linear: 2-8                       [196, 2048]               4,196,352\n",
      "│    └─ReLU: 2-9                         [196, 2048]               --\n",
      "│    └─Dropout: 2-10                     [196, 2048]               --\n",
      "│    └─Linear: 2-11                      [196, 2048]               4,196,352\n",
      "│    └─ReLU: 2-12                        [196, 2048]               --\n",
      "│    └─Linear: 2-13                      [196, 2048]               4,196,352\n",
      "│    └─BatchNorm1d: 2-14                 [196, 2048]               4,096\n",
      "│    └─ReLU: 2-15                        [196, 2048]               --\n",
      "│    └─Linear: 2-16                      [196, 1024]               2,098,176\n",
      "│    └─ReLU: 2-17                        [196, 1024]               --\n",
      "│    └─Linear: 2-18                      [196, 10]                 10,250\n",
      "==========================================================================================\n",
      "Total params: 39,943,178\n",
      "Trainable params: 39,943,178\n",
      "Non-trainable params: 0\n",
      "Total mult-adds (Units.GIGABYTES): 7.83\n",
      "==========================================================================================\n",
      "Input size (MB): 0.01\n",
      "Forward/backward pass size (MB): 33.73\n",
      "Params size (MB): 159.77\n",
      "Estimated Total Size (MB): 193.52\n",
      "==========================================================================================\n"
     ]
    }
   ],
   "source": [
    "agent = dqn.DQN(viper_env, _max_history=2048)"
   ]
  },
  {
   "cell_type": "code",
   "execution_count": 9,
   "metadata": {},
   "outputs": [
    {
     "data": {
      "text/plain": [
       "2.08"
      ]
     },
     "execution_count": 9,
     "metadata": {},
     "output_type": "execute_result"
    }
   ],
   "source": [
    "viper_env.compute_gcd(2.5, 798, 15)"
   ]
  },
  {
   "cell_type": "code",
   "execution_count": 10,
   "metadata": {},
   "outputs": [],
   "source": [
    "action_sequence=[1, 3, 6, 9, 0, 2, 5, 0, 0]"
   ]
  },
  {
   "cell_type": "code",
   "execution_count": 11,
   "metadata": {},
   "outputs": [
    {
     "name": "stdout",
     "output_type": "stream",
     "text": [
      "tensor([ 2.4500, 10.0000,  0.0000,  0.0000,  0.0000,  0.0000,  0.0000,  0.0000,\n",
      "         0.0000,  0.0000,  0.0000,  1.0000,  0.0000,  0.0000,  0.0000])\n",
      "Took action: 1-reaving_fangs @ 0.000\n",
      "(2.6, 200, 202.94)\n",
      "tensor([2.4500, 0.7000, 0.0000, 0.9883, 0.0000, 0.0000, 0.0000, 0.0000, 0.0000,\n",
      "        0.0000, 0.0000, 0.0000, 1.0000, 0.0000, 0.0000])\n",
      "Took action: 3-swiftskins_sting @ 2.450\n",
      "(1.1, 300, 298.74)\n",
      "tensor([2.4500, 0.7000, 0.0000, 0.9475, 0.0000, 0.9825, 0.0000, 0.0000, 0.0000,\n",
      "        0.0000, 0.0000, 0.0000, 0.0000, 0.0000, 1.0000])\n",
      "Took action: 6-hindsting_strike @ 4.900\n",
      "(3.1, 400, 400.74)\n",
      "tensor([2.0800, 0.7000, 0.0000, 0.9067, 0.0000, 0.9212, 0.9883, 0.0000, 0.0000,\n",
      "        0.0000, 1.0000, 1.0000, 0.0000, 0.0000, 0.0000])\n",
      "Took action: 9-death_rattle @ 5.600\n",
      "(4.2, 280, 267.2)\n",
      "tensor([2.0800, 1.4000, 0.0000, 0.8950, 0.0000, 0.9038, 0.9767, 0.0000, 0.0000,\n",
      "        0.0000, 0.0000, 1.0000, 0.0000, 0.0000, 0.0000])\n",
      "Took action: 0-steel_fangs @ 6.980\n",
      "(3.2399999999999998, 300, 298.19)\n",
      "tensor([2.0800, 0.7000, 0.9883, 0.0000, 0.0000, 0.8692, 0.9537, 0.0000, 0.0000,\n",
      "        0.0000, 0.0000, 0.0000, 1.0000, 0.0000, 0.0000])\n",
      "Took action: 2-hunters_sting @ 9.060\n",
      "(1.8399999999999999, 300, 286.32)\n",
      "tensor([2.0800, 0.7000, 0.9537, 0.0000, 0.9825, 0.8173, 0.9190, 0.0000, 0.0000,\n",
      "        0.0000, 0.0000, 0.0000, 0.0000, 1.0000, 0.0000])\n",
      "Took action: 5-flanksbane_fang @ 11.140\n",
      "(6.840000000000001, 550.0, 535.07)\n",
      "tensor([2.0800, 0.7000, 0.9190, 0.0000, 0.9305, 0.7653, 0.0000, 0.0000, 0.9883,\n",
      "        0.0000, 1.0000, 1.0000, 0.0000, 0.0000, 0.0000])\n",
      "Took action: 0-steel_fangs @ 13.220\n",
      "(0.24000000000000057, 220.00000000000003, 213.84)\n",
      "tensor([2.0800, 0.7000, 0.9883, 0.0000, 0.8785, 0.7132, 0.0000, 0.0000, 0.9537,\n",
      "        0.0000, 0.0000, 0.0000, 1.0000, 0.0000, 0.0000])\n",
      "Took action: 0-steel_fangs @ 13.920\n",
      "(-2.6, 0.0, 0.0)\n",
      "tensor([2.0800, 1.1000, 0.9817, 0.0000, 0.8685, 0.7032, 0.0000, 0.0000, 0.9470,\n",
      "        0.0000, 0.0000, 0.0000, 1.0000, 0.0000, 0.0000])\n"
     ]
    }
   ],
   "source": [
    "viper_env.reset_env()\n",
    "print(viper_env.state())\n",
    "for action in action_sequence:\n",
    "    print(viper_env.step(action, _verbose=True))\n",
    "    print(viper_env.state())"
   ]
  },
  {
   "cell_type": "code",
   "execution_count": 12,
   "metadata": {},
   "outputs": [
    {
     "name": "stdout",
     "output_type": "stream",
     "text": [
      "tensor([ 2.4500, 10.0000,  0.0000,  0.0000,  0.0000,  0.0000,  0.0000,  0.0000,\n",
      "         0.0000,  0.0000,  0.0000,  1.0000,  0.0000,  0.0000,  0.0000])\n",
      "Took action: 1-reaving_fangs @ 0.000\n",
      "(2.6, 200, 197.86)\n",
      "tensor([2.4500, 0.7000, 0.0000, 0.9883, 0.0000, 0.0000, 0.0000, 0.0000, 0.0000,\n",
      "        0.0000, 0.0000, 0.0000, 1.0000, 0.0000, 0.0000])\n",
      "Took action: 3-swiftskins_sting @ 2.450\n",
      "(1.1, 300, 311.18)\n",
      "tensor([2.4500, 0.7000, 0.0000, 0.9475, 0.0000, 0.9825, 0.0000, 0.0000, 0.0000,\n",
      "        0.0000, 0.0000, 0.0000, 0.0000, 0.0000, 1.0000])\n",
      "Took action: 6-hindsting_strike @ 4.900\n",
      "(3.1, 400, 402.4)\n",
      "tensor([2.0800, 0.7000, 0.0000, 0.9067, 0.0000, 0.9212, 0.9883, 0.0000, 0.0000,\n",
      "        0.0000, 1.0000, 1.0000, 0.0000, 0.0000, 0.0000])\n",
      "Took action: 0-steel_fangs @ 6.980\n",
      "(1.8399999999999999, 300, 292.93)\n",
      "tensor([2.0800, 0.7000, 0.9883, 0.0000, 0.0000, 0.8692, 0.9537, 0.0000, 0.0000,\n",
      "        0.0000, 0.0000, 0.0000, 1.0000, 0.0000, 0.0000])\n",
      "Took action: 2-hunters_sting @ 9.060\n",
      "(1.8399999999999999, 300, 290.36)\n",
      "tensor([2.0800, 0.7000, 0.9537, 0.0000, 0.9825, 0.8173, 0.9190, 0.0000, 0.0000,\n",
      "        0.0000, 0.0000, 0.0000, 0.0000, 1.0000, 0.0000])\n"
     ]
    }
   ],
   "source": [
    "viper_env.reset_env()\n",
    "print(viper_env.state())\n",
    "for action in [1,3,6,0,2]:\n",
    "    print(viper_env.step(action, _verbose=True))\n",
    "    print(viper_env.state())"
   ]
  },
  {
   "cell_type": "code",
   "execution_count": 13,
   "metadata": {},
   "outputs": [
    {
     "name": "stdout",
     "output_type": "stream",
     "text": [
      "tensor([ 2.4500, 10.0000,  0.0000,  0.0000,  0.0000,  0.0000,  0.0000,  0.0000,\n",
      "         0.0000,  0.0000,  0.0000,  1.0000,  0.0000,  0.0000,  0.0000])\n",
      "([True, True, False, False, False, False, False, False, False, False], [0, 1])\n",
      "[0]\n",
      "2.45\n"
     ]
    }
   ],
   "source": [
    "agent.env.reset_env()\n",
    "print(agent.env.state())\n",
    "print(agent.env.valid_actions())\n",
    "print([np.random.choice(agent.env.valid_actions()[1])])\n",
    "print(agent.env.gcd)"
   ]
  },
  {
   "cell_type": "code",
   "execution_count": 14,
   "metadata": {},
   "outputs": [
    {
     "data": {
      "text/plain": [
       "tensor(9, dtype=torch.int32)"
      ]
     },
     "execution_count": 14,
     "metadata": {},
     "output_type": "execute_result"
    }
   ],
   "source": [
    "agent.get_action(agent.env.state(), e=1)[0]"
   ]
  },
  {
   "cell_type": "code",
   "execution_count": 15,
   "metadata": {},
   "outputs": [
    {
     "name": "stdout",
     "output_type": "stream",
     "text": [
      "Epoch 0 Loss: 0.004 E_0: 0.33 E_1: 0.000 G: 0.80 Rewards: -234.7 Eval Rewards: -124.80\n",
      "Epoch 1 Loss: 0.003 E_0: 0.33 E_1: 0.000 G: 0.80 Rewards: -236.7 Eval Rewards: -124.80\n",
      "Epoch 2 Loss: 0.003 E_0: 0.33 E_1: 0.000 G: 0.80 Rewards: -220.3 Eval Rewards: -130.00\n",
      "Epoch 3 Loss: 0.003 E_0: 0.33 E_1: 0.000 G: 0.80 Rewards: -211.8 Eval Rewards: -130.00\n",
      "Epoch 4 Loss: 0.003 E_0: 0.32 E_1: 0.000 G: 0.80 Rewards: -227.7 Eval Rewards: -104.70\n",
      "Epoch 5 Loss: 0.004 E_0: 0.32 E_1: 0.000 G: 0.80 Rewards: -203.2 Eval Rewards: -103.90\n",
      "Epoch 6 Loss: 0.003 E_0: 0.31 E_1: 0.000 G: 0.80 Rewards: -176.7 Eval Rewards: -95.30\n",
      "Epoch 7 Loss: 0.004 E_0: 0.31 E_1: 0.000 G: 0.80 Rewards: -191.3 Eval Rewards: -102.30\n",
      "Epoch 8 Loss: 0.004 E_0: 0.30 E_1: 0.000 G: 0.80 Rewards: -194.0 Eval Rewards: -106.70\n",
      "Epoch 9 Loss: 0.003 E_0: 0.29 E_1: 0.000 G: 0.80 Rewards: -200.5 Eval Rewards: -90.06\n",
      "Epoch 10 Loss: 0.004 E_0: 0.28 E_1: 0.000 G: 0.80 Rewards: -187.0 Eval Rewards: -90.36\n",
      "Epoch 11 Loss: 0.003 E_0: 0.27 E_1: 0.000 G: 0.80 Rewards: -183.8 Eval Rewards: -91.16\n",
      "Epoch 12 Loss: 0.003 E_0: 0.27 E_1: 0.000 G: 0.80 Rewards: -179.2 Eval Rewards: -73.64\n",
      "Epoch 13 Loss: 0.004 E_0: 0.25 E_1: 0.000 G: 0.80 Rewards: -162.3 Eval Rewards: -53.52\n",
      "Epoch 14 Loss: 0.003 E_0: 0.24 E_1: 0.000 G: 0.80 Rewards: -141.2 Eval Rewards: -39.88\n",
      "Epoch 15 Loss: 0.004 E_0: 0.23 E_1: 0.000 G: 0.80 Rewards: -193.2 Eval Rewards: -35.04\n",
      "Epoch 16 Loss: 0.004 E_0: 0.22 E_1: 0.000 G: 0.80 Rewards: -38.8 Eval Rewards: -10.64\n",
      "Epoch 17 Loss: 0.003 E_0: 0.21 E_1: 0.000 G: 0.80 Rewards: -20.6 Eval Rewards: -0.52\n",
      "Epoch 18 Loss: 0.004 E_0: 0.20 E_1: 0.000 G: 0.80 Rewards: -24.6 Eval Rewards: 9.56\n",
      "Epoch 19 Loss: 0.004 E_0: 0.18 E_1: 0.058 G: 0.80 Rewards: 21.6 Eval Rewards: 47.60\n",
      "Epoch 20 Loss: 0.004 E_0: 0.17 E_1: 0.068 G: 0.80 Rewards: 94.3 Eval Rewards: 136.40\n",
      "Epoch 21 Loss: 0.004 E_0: 0.16 E_1: 0.079 G: 0.80 Rewards: 251.4 Eval Rewards: 136.40\n",
      "Epoch 22 Loss: 0.004 E_0: 0.15 E_1: 0.090 G: 0.80 Rewards: 228.7 Eval Rewards: 47.60\n",
      "Epoch 23 Loss: 0.004 E_0: 0.13 E_1: 0.101 G: 0.80 Rewards: 193.0 Eval Rewards: 47.60\n",
      "Epoch 24 Loss: 0.004 E_0: 0.12 E_1: 0.113 G: 0.80 Rewards: 181.2 Eval Rewards: 136.40\n",
      "Epoch 25 Loss: 0.004 E_0: 0.11 E_1: 0.125 G: 0.80 Rewards: 264.5 Eval Rewards: 136.40\n",
      "Epoch 26 Loss: 0.004 E_0: 0.10 E_1: 0.138 G: 0.80 Rewards: 254.2 Eval Rewards: 136.40\n",
      "Epoch 27 Loss: 0.004 E_0: 0.09 E_1: 0.150 G: 0.80 Rewards: 240.9 Eval Rewards: 136.40\n",
      "Epoch 28 Loss: 0.004 E_0: 0.08 E_1: 0.163 G: 0.80 Rewards: 216.3 Eval Rewards: 136.40\n",
      "Epoch 29 Loss: 0.004 E_0: 0.06 E_1: 0.176 G: 0.80 Rewards: 231.8 Eval Rewards: 136.40\n",
      "Epoch 30 Loss: 0.004 E_0: 0.06 E_1: 0.188 G: 0.80 Rewards: 252.2 Eval Rewards: 136.40\n",
      "Epoch 31 Loss: 0.004 E_0: 0.00 E_1: 0.201 G: 0.80 Rewards: 251.4 Eval Rewards: 136.40\n",
      "Epoch 32 Loss: 0.004 E_0: 0.00 E_1: 0.213 G: 0.80 Rewards: 225.7 Eval Rewards: 136.40\n",
      "Epoch 33 Loss: 0.004 E_0: 0.00 E_1: 0.225 G: 0.80 Rewards: 233.0 Eval Rewards: 136.40\n",
      "Epoch 34 Loss: 0.004 E_0: 0.00 E_1: 0.236 G: 0.80 Rewards: 238.0 Eval Rewards: 136.40\n",
      "Epoch 35 Loss: 0.004 E_0: 0.00 E_1: 0.248 G: 0.80 Rewards: 255.6 Eval Rewards: 136.40\n",
      "Epoch 36 Loss: 0.004 E_0: 0.00 E_1: 0.258 G: 0.80 Rewards: 266.6 Eval Rewards: 136.40\n",
      "Epoch 37 Loss: 0.004 E_0: 0.00 E_1: 0.268 G: 0.80 Rewards: 232.3 Eval Rewards: 138.40\n",
      "Epoch 38 Loss: 0.004 E_0: 0.00 E_1: 0.278 G: 0.80 Rewards: 240.8 Eval Rewards: 138.40\n",
      "Epoch 39 Loss: 0.004 E_0: 0.00 E_1: 0.287 G: 0.80 Rewards: 211.3 Eval Rewards: 138.40\n",
      "Epoch 40 Loss: 0.004 E_0: 0.00 E_1: 0.295 G: 0.80 Rewards: 226.7 Eval Rewards: 138.40\n",
      "Epoch 41 Loss: 0.004 E_0: 0.00 E_1: 0.302 G: 0.80 Rewards: 223.7 Eval Rewards: 138.40\n",
      "Epoch 42 Loss: 0.004 E_0: 0.00 E_1: 0.309 G: 0.80 Rewards: 216.7 Eval Rewards: 138.40\n",
      "Epoch 43 Loss: 0.004 E_0: 0.00 E_1: 0.315 G: 0.80 Rewards: 267.6 Eval Rewards: 138.40\n",
      "Epoch 44 Loss: 0.004 E_0: 0.00 E_1: 0.320 G: 0.80 Rewards: 213.2 Eval Rewards: 138.40\n",
      "Epoch 45 Loss: 0.004 E_0: 0.00 E_1: 0.324 G: 0.80 Rewards: 88.4 Eval Rewards: 138.40\n",
      "Epoch 46 Loss: 0.004 E_0: 0.00 E_1: 0.327 G: 0.80 Rewards: 262.2 Eval Rewards: 136.40\n",
      "Epoch 47 Loss: 0.004 E_0: 0.00 E_1: 0.329 G: 0.80 Rewards: 227.4 Eval Rewards: 136.40\n",
      "Epoch 48 Loss: 0.004 E_0: 0.00 E_1: 0.330 G: 0.80 Rewards: 168.6 Eval Rewards: 136.40\n",
      "Epoch 49 Loss: 0.004 E_0: 0.00 E_1: 0.330 G: 0.80 Rewards: 155.7 Eval Rewards: 136.40\n",
      "Epoch 50 Loss: 0.004 E_0: 0.00 E_1: 0.329 G: 0.80 Rewards: 197.3 Eval Rewards: 136.40\n",
      "Epoch 51 Loss: 0.004 E_0: 0.00 E_1: 0.327 G: 0.80 Rewards: 208.2 Eval Rewards: 136.40\n",
      "Epoch 52 Loss: 0.004 E_0: 0.06 E_1: 0.325 G: 0.80 Rewards: 190.9 Eval Rewards: 136.40\n",
      "Epoch 53 Loss: 0.004 E_0: 0.06 E_1: 0.321 G: 0.80 Rewards: 174.4 Eval Rewards: 136.40\n",
      "Epoch 54 Loss: 0.004 E_0: 0.08 E_1: 0.316 G: 0.80 Rewards: 173.4 Eval Rewards: 136.40\n",
      "Epoch 55 Loss: 0.004 E_0: 0.09 E_1: 0.311 G: 0.80 Rewards: 192.8 Eval Rewards: 136.40\n",
      "Epoch 56 Loss: 0.004 E_0: 0.10 E_1: 0.305 G: 0.80 Rewards: 146.1 Eval Rewards: 136.40\n",
      "Epoch 57 Loss: 0.004 E_0: 0.11 E_1: 0.297 G: 0.80 Rewards: 148.2 Eval Rewards: 136.40\n",
      "Epoch 58 Loss: 0.004 E_0: 0.12 E_1: 0.290 G: 0.80 Rewards: 193.4 Eval Rewards: 136.40\n",
      "Epoch 59 Loss: 0.004 E_0: 0.13 E_1: 0.281 G: 0.80 Rewards: 151.0 Eval Rewards: 136.40\n",
      "Epoch 60 Loss: 0.003 E_0: 0.15 E_1: 0.272 G: 0.80 Rewards: 158.2 Eval Rewards: 136.40\n",
      "Epoch 61 Loss: 0.004 E_0: 0.16 E_1: 0.262 G: 0.80 Rewards: 160.9 Eval Rewards: 136.40\n",
      "Epoch 62 Loss: 0.003 E_0: 0.17 E_1: 0.251 G: 0.80 Rewards: 98.4 Eval Rewards: 136.40\n",
      "Epoch 63 Loss: 0.004 E_0: 0.18 E_1: 0.240 G: 0.80 Rewards: 178.7 Eval Rewards: 136.40\n",
      "Epoch 64 Loss: 0.004 E_0: 0.20 E_1: 0.229 G: 0.80 Rewards: 57.7 Eval Rewards: 136.40\n",
      "Epoch 65 Loss: 0.004 E_0: 0.21 E_1: 0.217 G: 0.80 Rewards: 161.3 Eval Rewards: 136.40\n",
      "Epoch 66 Loss: 0.004 E_0: 0.22 E_1: 0.205 G: 0.80 Rewards: 159.7 Eval Rewards: 136.40\n",
      "Epoch 67 Loss: 0.004 E_0: 0.23 E_1: 0.192 G: 0.80 Rewards: 170.0 Eval Rewards: 136.40\n",
      "Epoch 68 Loss: 0.004 E_0: 0.24 E_1: 0.180 G: 0.80 Rewards: 75.5 Eval Rewards: 136.40\n",
      "Epoch 69 Loss: 0.004 E_0: 0.25 E_1: 0.167 G: 0.80 Rewards: 25.3 Eval Rewards: 136.40\n",
      "Epoch 70 Loss: 0.004 E_0: 0.27 E_1: 0.154 G: 0.80 Rewards: 160.6 Eval Rewards: 136.40\n",
      "Epoch 71 Loss: 0.004 E_0: 0.27 E_1: 0.142 G: 0.80 Rewards: -7.2 Eval Rewards: 136.40\n",
      "Epoch 72 Loss: 0.004 E_0: 0.28 E_1: 0.129 G: 0.80 Rewards: 156.0 Eval Rewards: 136.40\n",
      "Epoch 73 Loss: 0.004 E_0: 0.29 E_1: 0.117 G: 0.80 Rewards: 103.5 Eval Rewards: 136.40\n",
      "Epoch 74 Loss: 0.004 E_0: 0.30 E_1: 0.105 G: 0.80 Rewards: 155.0 Eval Rewards: 136.40\n",
      "Epoch 75 Loss: 0.004 E_0: 0.31 E_1: 0.094 G: 0.80 Rewards: 64.8 Eval Rewards: 136.40\n",
      "Epoch 76 Loss: 0.004 E_0: 0.31 E_1: 0.082 G: 0.80 Rewards: 40.5 Eval Rewards: 136.40\n",
      "Epoch 77 Loss: 0.004 E_0: 0.32 E_1: 0.072 G: 0.80 Rewards: 222.8 Eval Rewards: 136.40\n",
      "Epoch 78 Loss: 0.004 E_0: 0.32 E_1: 0.062 G: 0.80 Rewards: 215.4 Eval Rewards: 136.40\n",
      "Epoch 79 Loss: 0.004 E_0: 0.33 E_1: 0.052 G: 0.80 Rewards: 211.4 Eval Rewards: 136.40\n",
      "Epoch 80 Loss: 0.005 E_0: 0.33 E_1: 0.000 G: 0.80 Rewards: 202.7 Eval Rewards: 136.40\n",
      "Epoch 81 Loss: 0.004 E_0: 0.33 E_1: 0.000 G: 0.80 Rewards: 84.6 Eval Rewards: 136.40\n",
      "Epoch 82 Loss: 0.005 E_0: 0.33 E_1: 0.000 G: 0.80 Rewards: 108.7 Eval Rewards: 136.40\n",
      "Epoch 83 Loss: 0.005 E_0: 0.33 E_1: 0.000 G: 0.80 Rewards: 135.2 Eval Rewards: 136.40\n",
      "Epoch 84 Loss: 0.005 E_0: 0.33 E_1: 0.000 G: 0.80 Rewards: 193.2 Eval Rewards: 136.40\n",
      "Epoch 85 Loss: 0.004 E_0: 0.33 E_1: 0.000 G: 0.80 Rewards: 205.2 Eval Rewards: 136.40\n",
      "Epoch 86 Loss: 0.004 E_0: 0.32 E_1: 0.000 G: 0.80 Rewards: 223.6 Eval Rewards: 136.40\n",
      "Epoch 87 Loss: 0.005 E_0: 0.32 E_1: 0.000 G: 0.80 Rewards: 98.1 Eval Rewards: 136.40\n",
      "Epoch 88 Loss: 0.004 E_0: 0.31 E_1: 0.000 G: 0.80 Rewards: 224.1 Eval Rewards: 136.40\n",
      "Epoch 89 Loss: 0.004 E_0: 0.31 E_1: 0.000 G: 0.80 Rewards: 120.6 Eval Rewards: 136.40\n",
      "Epoch 90 Loss: 0.004 E_0: 0.30 E_1: 0.000 G: 0.80 Rewards: 219.0 Eval Rewards: 136.40\n",
      "Epoch 91 Loss: 0.004 E_0: 0.29 E_1: 0.000 G: 0.80 Rewards: 226.4 Eval Rewards: 136.40\n",
      "Epoch 92 Loss: 0.004 E_0: 0.28 E_1: 0.000 G: 0.80 Rewards: 211.6 Eval Rewards: 136.40\n",
      "Epoch 93 Loss: 0.004 E_0: 0.27 E_1: 0.000 G: 0.80 Rewards: 240.5 Eval Rewards: 136.40\n",
      "Epoch 94 Loss: 0.004 E_0: 0.27 E_1: 0.000 G: 0.80 Rewards: -208.0 Eval Rewards: 136.40\n",
      "Epoch 95 Loss: 0.004 E_0: 0.25 E_1: 0.000 G: 0.80 Rewards: 262.6 Eval Rewards: 136.40\n",
      "Epoch 96 Loss: 0.004 E_0: 0.24 E_1: 0.000 G: 0.80 Rewards: 238.8 Eval Rewards: 136.40\n",
      "Epoch 97 Loss: 0.004 E_0: 0.23 E_1: 0.000 G: 0.80 Rewards: 245.4 Eval Rewards: 136.40\n",
      "Epoch 98 Loss: 0.004 E_0: 0.22 E_1: 0.000 G: 0.80 Rewards: 272.6 Eval Rewards: 136.40\n",
      "Epoch 99 Loss: 0.004 E_0: 0.21 E_1: 0.000 G: 0.80 Rewards: 277.9 Eval Rewards: 136.40\n",
      "Epoch 100 Loss: 0.004 E_0: 0.20 E_1: 0.000 G: 0.80 Rewards: 253.3 Eval Rewards: 136.40\n",
      "Epoch 101 Loss: 0.004 E_0: 0.18 E_1: 0.058 G: 0.80 Rewards: 244.8 Eval Rewards: 136.40\n",
      "Epoch 102 Loss: 0.004 E_0: 0.17 E_1: 0.068 G: 0.80 Rewards: 266.2 Eval Rewards: 136.40\n",
      "Epoch 103 Loss: 0.003 E_0: 0.16 E_1: 0.079 G: 0.80 Rewards: 264.5 Eval Rewards: 136.40\n",
      "Epoch 104 Loss: 0.003 E_0: 0.15 E_1: 0.090 G: 0.80 Rewards: 264.5 Eval Rewards: 136.40\n",
      "Epoch 105 Loss: 0.003 E_0: 0.13 E_1: 0.101 G: 0.80 Rewards: 262.6 Eval Rewards: 136.40\n",
      "Epoch 106 Loss: 0.003 E_0: 0.12 E_1: 0.113 G: 0.80 Rewards: 272.5 Eval Rewards: 136.40\n",
      "Epoch 107 Loss: 0.003 E_0: 0.11 E_1: 0.125 G: 0.80 Rewards: 251.4 Eval Rewards: 136.40\n",
      "Epoch 108 Loss: 0.002 E_0: 0.10 E_1: 0.138 G: 0.80 Rewards: 266.2 Eval Rewards: 136.40\n",
      "Epoch 109 Loss: 0.002 E_0: 0.09 E_1: 0.150 G: 0.80 Rewards: 271.9 Eval Rewards: 136.40\n",
      "Epoch 110 Loss: 0.003 E_0: 0.08 E_1: 0.163 G: 0.80 Rewards: 264.5 Eval Rewards: 136.40\n",
      "Epoch 111 Loss: 0.002 E_0: 0.06 E_1: 0.176 G: 0.80 Rewards: 266.2 Eval Rewards: 136.40\n",
      "Epoch 112 Loss: 0.002 E_0: 0.06 E_1: 0.188 G: 0.80 Rewards: 262.6 Eval Rewards: 136.40\n",
      "Epoch 113 Loss: 0.002 E_0: 0.00 E_1: 0.201 G: 0.80 Rewards: 245.9 Eval Rewards: 136.40\n",
      "Epoch 114 Loss: 0.002 E_0: 0.00 E_1: 0.213 G: 0.80 Rewards: 245.4 Eval Rewards: 136.40\n",
      "Epoch 115 Loss: 0.002 E_0: 0.00 E_1: 0.225 G: 0.80 Rewards: 262.6 Eval Rewards: 136.40\n",
      "Epoch 116 Loss: 0.002 E_0: 0.00 E_1: 0.236 G: 0.80 Rewards: 230.6 Eval Rewards: 136.40\n",
      "Epoch 117 Loss: 0.002 E_0: 0.00 E_1: 0.248 G: 0.80 Rewards: 230.2 Eval Rewards: 136.40\n",
      "Epoch 118 Loss: 0.002 E_0: 0.00 E_1: 0.258 G: 0.80 Rewards: 226.5 Eval Rewards: 136.40\n",
      "Epoch 119 Loss: 0.002 E_0: 0.00 E_1: 0.268 G: 0.80 Rewards: 229.7 Eval Rewards: 136.40\n",
      "Epoch 120 Loss: 0.003 E_0: 0.00 E_1: 0.278 G: 0.80 Rewards: 222.0 Eval Rewards: 136.40\n",
      "Epoch 121 Loss: 0.002 E_0: 0.00 E_1: 0.287 G: 0.80 Rewards: 219.7 Eval Rewards: 136.40\n",
      "Epoch 122 Loss: 0.002 E_0: 0.00 E_1: 0.295 G: 0.80 Rewards: 191.9 Eval Rewards: 136.40\n",
      "Epoch 123 Loss: 0.003 E_0: 0.00 E_1: 0.302 G: 0.80 Rewards: 203.4 Eval Rewards: 136.40\n",
      "Epoch 124 Loss: 0.003 E_0: 0.00 E_1: 0.309 G: 0.80 Rewards: 192.0 Eval Rewards: 136.40\n",
      "Epoch 125 Loss: 0.004 E_0: 0.00 E_1: 0.315 G: 0.80 Rewards: 236.9 Eval Rewards: 136.40\n",
      "Epoch 126 Loss: 0.003 E_0: 0.00 E_1: 0.320 G: 0.80 Rewards: 225.3 Eval Rewards: 136.40\n",
      "Epoch 127 Loss: 0.004 E_0: 0.00 E_1: 0.324 G: 0.80 Rewards: 199.7 Eval Rewards: 136.40\n",
      "Epoch 128 Loss: 0.004 E_0: 0.00 E_1: 0.327 G: 0.80 Rewards: 185.6 Eval Rewards: 136.40\n",
      "Epoch 129 Loss: 0.004 E_0: 0.00 E_1: 0.329 G: 0.80 Rewards: 208.9 Eval Rewards: 136.40\n",
      "Epoch 130 Loss: 0.005 E_0: 0.00 E_1: 0.330 G: 0.80 Rewards: 197.3 Eval Rewards: 136.40\n",
      "Epoch 131 Loss: 0.006 E_0: 0.00 E_1: 0.330 G: 0.80 Rewards: 205.6 Eval Rewards: 136.40\n",
      "Epoch 132 Loss: 0.005 E_0: 0.00 E_1: 0.329 G: 0.80 Rewards: 174.8 Eval Rewards: 136.40\n",
      "Epoch 133 Loss: 0.007 E_0: 0.00 E_1: 0.327 G: 0.80 Rewards: 197.2 Eval Rewards: 136.40\n",
      "Epoch 134 Loss: 0.007 E_0: 0.06 E_1: 0.325 G: 0.80 Rewards: 173.5 Eval Rewards: 136.40\n",
      "Epoch 135 Loss: 0.007 E_0: 0.06 E_1: 0.321 G: 0.80 Rewards: 182.3 Eval Rewards: 136.40\n",
      "Epoch 136 Loss: 0.007 E_0: 0.08 E_1: 0.316 G: 0.80 Rewards: 189.7 Eval Rewards: 136.40\n",
      "Epoch 137 Loss: 0.008 E_0: 0.09 E_1: 0.311 G: 0.80 Rewards: 145.7 Eval Rewards: 136.40\n",
      "Epoch 138 Loss: 0.009 E_0: 0.10 E_1: 0.305 G: 0.80 Rewards: 178.8 Eval Rewards: 136.40\n",
      "Epoch 139 Loss: 0.010 E_0: 0.11 E_1: 0.297 G: 0.80 Rewards: 200.1 Eval Rewards: 136.40\n",
      "Epoch 140 Loss: 0.009 E_0: 0.12 E_1: 0.290 G: 0.80 Rewards: 210.1 Eval Rewards: 136.40\n",
      "Epoch 141 Loss: 0.010 E_0: 0.13 E_1: 0.281 G: 0.80 Rewards: 175.3 Eval Rewards: 136.40\n",
      "Epoch 142 Loss: 0.011 E_0: 0.15 E_1: 0.272 G: 0.80 Rewards: 199.2 Eval Rewards: 136.40\n",
      "Epoch 143 Loss: 0.011 E_0: 0.16 E_1: 0.262 G: 0.80 Rewards: 160.4 Eval Rewards: 136.40\n",
      "Epoch 144 Loss: 0.012 E_0: 0.17 E_1: 0.251 G: 0.80 Rewards: 147.6 Eval Rewards: 136.40\n",
      "Epoch 145 Loss: 0.012 E_0: 0.18 E_1: 0.240 G: 0.80 Rewards: 180.2 Eval Rewards: 136.40\n",
      "Epoch 146 Loss: 0.012 E_0: 0.20 E_1: 0.229 G: 0.80 Rewards: 191.2 Eval Rewards: 136.40\n",
      "Epoch 147 Loss: 0.013 E_0: 0.21 E_1: 0.217 G: 0.80 Rewards: 137.6 Eval Rewards: 136.40\n",
      "Epoch 148 Loss: 0.013 E_0: 0.22 E_1: 0.205 G: 0.80 Rewards: 189.9 Eval Rewards: 136.40\n",
      "Epoch 149 Loss: 0.013 E_0: 0.23 E_1: 0.192 G: 0.80 Rewards: 179.9 Eval Rewards: 136.40\n",
      "Epoch 150 Loss: 0.015 E_0: 0.24 E_1: 0.180 G: 0.80 Rewards: 164.8 Eval Rewards: 136.40\n",
      "Epoch 151 Loss: 0.013 E_0: 0.25 E_1: 0.167 G: 0.80 Rewards: 158.6 Eval Rewards: 136.40\n",
      "Epoch 152 Loss: 0.015 E_0: 0.27 E_1: 0.154 G: 0.80 Rewards: 170.9 Eval Rewards: 136.40\n",
      "Epoch 153 Loss: 0.014 E_0: 0.27 E_1: 0.142 G: 0.80 Rewards: 211.3 Eval Rewards: 136.40\n",
      "Epoch 154 Loss: 0.014 E_0: 0.28 E_1: 0.129 G: 0.80 Rewards: 171.6 Eval Rewards: 136.40\n",
      "Epoch 155 Loss: 0.014 E_0: 0.29 E_1: 0.117 G: 0.80 Rewards: 189.5 Eval Rewards: 136.40\n",
      "Epoch 156 Loss: 0.016 E_0: 0.30 E_1: 0.105 G: 0.80 Rewards: 187.6 Eval Rewards: 136.40\n",
      "Epoch 157 Loss: 0.014 E_0: 0.31 E_1: 0.094 G: 0.80 Rewards: 149.5 Eval Rewards: 136.40\n",
      "Epoch 158 Loss: 0.014 E_0: 0.31 E_1: 0.082 G: 0.80 Rewards: 160.8 Eval Rewards: 136.40\n",
      "Epoch 159 Loss: 0.014 E_0: 0.32 E_1: 0.072 G: 0.80 Rewards: 163.0 Eval Rewards: 136.40\n",
      "Epoch 160 Loss: 0.014 E_0: 0.32 E_1: 0.062 G: 0.80 Rewards: 177.8 Eval Rewards: 136.40\n",
      "Epoch 161 Loss: 0.015 E_0: 0.33 E_1: 0.052 G: 0.80 Rewards: 158.7 Eval Rewards: 136.40\n",
      "Epoch 162 Loss: 0.015 E_0: 0.33 E_1: 0.000 G: 0.80 Rewards: 169.8 Eval Rewards: 136.40\n",
      "Epoch 163 Loss: 0.015 E_0: 0.33 E_1: 0.000 G: 0.80 Rewards: 223.4 Eval Rewards: 136.40\n",
      "Epoch 164 Loss: 0.013 E_0: 0.33 E_1: 0.000 G: 0.80 Rewards: 191.7 Eval Rewards: 136.40\n",
      "Epoch 165 Loss: 0.013 E_0: 0.33 E_1: 0.000 G: 0.80 Rewards: 234.1 Eval Rewards: 136.40\n",
      "Epoch 166 Loss: 0.013 E_0: 0.33 E_1: 0.000 G: 0.80 Rewards: 177.7 Eval Rewards: 136.40\n",
      "Epoch 167 Loss: 0.013 E_0: 0.33 E_1: 0.000 G: 0.80 Rewards: 203.4 Eval Rewards: 136.40\n",
      "Epoch 168 Loss: 0.013 E_0: 0.32 E_1: 0.000 G: 0.80 Rewards: 171.3 Eval Rewards: 136.40\n",
      "Epoch 169 Loss: 0.013 E_0: 0.32 E_1: 0.000 G: 0.80 Rewards: 220.2 Eval Rewards: 136.40\n",
      "Epoch 170 Loss: 0.012 E_0: 0.31 E_1: 0.000 G: 0.80 Rewards: 223.1 Eval Rewards: 136.40\n",
      "Epoch 171 Loss: 0.011 E_0: 0.31 E_1: 0.000 G: 0.80 Rewards: 222.1 Eval Rewards: 136.40\n",
      "Epoch 172 Loss: 0.011 E_0: 0.30 E_1: 0.000 G: 0.80 Rewards: 226.0 Eval Rewards: 136.40\n",
      "Epoch 173 Loss: 0.011 E_0: 0.29 E_1: 0.000 G: 0.80 Rewards: 214.4 Eval Rewards: 136.40\n",
      "Epoch 174 Loss: 0.010 E_0: 0.28 E_1: 0.000 G: 0.80 Rewards: 220.4 Eval Rewards: 136.40\n",
      "Epoch 175 Loss: 0.010 E_0: 0.27 E_1: 0.000 G: 0.80 Rewards: 229.5 Eval Rewards: 136.40\n",
      "Epoch 176 Loss: 0.010 E_0: 0.27 E_1: 0.000 G: 0.80 Rewards: 245.4 Eval Rewards: 136.40\n",
      "Epoch 177 Loss: 0.010 E_0: 0.25 E_1: 0.000 G: 0.80 Rewards: 264.3 Eval Rewards: 136.40\n",
      "Epoch 178 Loss: 0.008 E_0: 0.24 E_1: 0.000 G: 0.80 Rewards: 258.8 Eval Rewards: 136.40\n",
      "Epoch 179 Loss: 0.008 E_0: 0.23 E_1: 0.000 G: 0.80 Rewards: 249.7 Eval Rewards: 136.40\n",
      "Epoch 180 Loss: 0.008 E_0: 0.22 E_1: 0.000 G: 0.80 Rewards: 248.8 Eval Rewards: 136.40\n",
      "Epoch 181 Loss: 0.008 E_0: 0.21 E_1: 0.000 G: 0.80 Rewards: 237.2 Eval Rewards: 136.40\n",
      "Epoch 182 Loss: 0.007 E_0: 0.20 E_1: 0.000 G: 0.80 Rewards: 270.5 Eval Rewards: 136.40\n",
      "Epoch 183 Loss: 0.007 E_0: 0.18 E_1: 0.058 G: 0.80 Rewards: 249.0 Eval Rewards: 136.40\n",
      "Epoch 184 Loss: 0.005 E_0: 0.17 E_1: 0.068 G: 0.80 Rewards: 275.9 Eval Rewards: 136.40\n",
      "Epoch 185 Loss: 0.005 E_0: 0.16 E_1: 0.079 G: 0.80 Rewards: 256.8 Eval Rewards: 136.40\n",
      "Epoch 186 Loss: 0.005 E_0: 0.15 E_1: 0.090 G: 0.80 Rewards: 262.6 Eval Rewards: 136.40\n",
      "Epoch 187 Loss: 0.006 E_0: 0.13 E_1: 0.101 G: 0.80 Rewards: 265.4 Eval Rewards: 136.40\n",
      "Epoch 188 Loss: 0.005 E_0: 0.12 E_1: 0.113 G: 0.80 Rewards: 268.2 Eval Rewards: 136.40\n",
      "Epoch 189 Loss: 0.005 E_0: 0.11 E_1: 0.125 G: 0.80 Rewards: 270.5 Eval Rewards: 136.40\n",
      "Epoch 190 Loss: 0.004 E_0: 0.10 E_1: 0.138 G: 0.80 Rewards: 253.6 Eval Rewards: 136.40\n",
      "Epoch 191 Loss: 0.004 E_0: 0.09 E_1: 0.150 G: 0.80 Rewards: 255.2 Eval Rewards: 136.40\n",
      "Epoch 192 Loss: 0.004 E_0: 0.08 E_1: 0.163 G: 0.80 Rewards: 259.6 Eval Rewards: 136.40\n",
      "Epoch 193 Loss: 0.004 E_0: 0.06 E_1: 0.176 G: 0.80 Rewards: 253.6 Eval Rewards: 136.40\n",
      "Epoch 194 Loss: 0.004 E_0: 0.06 E_1: 0.188 G: 0.80 Rewards: 271.9 Eval Rewards: 136.40\n",
      "Epoch 195 Loss: 0.003 E_0: 0.00 E_1: 0.201 G: 0.80 Rewards: 277.9 Eval Rewards: 136.40\n",
      "Epoch 196 Loss: 0.003 E_0: 0.00 E_1: 0.213 G: 0.80 Rewards: 247.8 Eval Rewards: 136.40\n",
      "Epoch 197 Loss: 0.004 E_0: 0.00 E_1: 0.225 G: 0.80 Rewards: 242.0 Eval Rewards: 136.40\n",
      "Epoch 198 Loss: 0.003 E_0: 0.00 E_1: 0.236 G: 0.80 Rewards: 251.4 Eval Rewards: 136.40\n",
      "Epoch 199 Loss: 0.003 E_0: 0.00 E_1: 0.248 G: 0.80 Rewards: 244.0 Eval Rewards: 136.40\n",
      "Done\n"
     ]
    }
   ],
   "source": [
    "agent.train(gamma=0.80, num_epochs=200, session_limit=100)"
   ]
  },
  {
   "cell_type": "code",
   "execution_count": 16,
   "metadata": {},
   "outputs": [
    {
     "data": {
      "image/png": "[encoded data removed]",
      "text/plain": [
       "<Figure size 640x480 with 1 Axes>"
      ]
     },
     "metadata": {},
     "output_type": "display_data"
    }
   ],
   "source": [
    "history_x = agent.training_history_x\n",
    "history_y = agent.training_history_y\n",
    "fig, ax = plt.subplots()\n",
    "fig.suptitle('Rewards')\n",
    "ax.plot(history_x, history_y)\n",
    "ax.legend(['Train Rewards', 'Eval Rewards'])\n",
    "ax.set_xlabel('Epoch')\n",
    "ax.set_ylabel('Rewards')\n",
    "plt.savefig('rewards_graph.png', bbox_inches='tight')\n",
    "plt.show()"
   ]
  },
  {
   "cell_type": "code",
   "execution_count": 17,
   "metadata": {},
   "outputs": [
    {
     "name": "stderr",
     "output_type": "stream",
     "text": [
      "h:\\Coding Projects\\Python Projects\\Deep-XIV-Rotation\\models\\dqn.py:259: FutureWarning: You are using `torch.load` with `weights_only=False` (the current default value), which uses the default pickle module implicitly. It is possible to construct malicious pickle data which will execute arbitrary code during unpickling (See https://github.com/pytorch/pytorch/blob/main/SECURITY.md#untrusted-models for more details). In a future release, the default value for `weights_only` will be flipped to `True`. This limits the functions that could be executed during unpickling. Arbitrary objects will no longer be allowed to be loaded via this mode unless they are explicitly allowlisted by the user via `torch.serialization.add_safe_globals`. We recommend you start setting `weights_only=True` for any use case where you don't have full control of the loaded file. Please open an issue on GitHub for any issues related to this experimental feature.\n",
      "  checkpoint = torch.load(path)\n"
     ]
    }
   ],
   "source": [
    "agent.load_checkpoint(f'./checkpoints/_{agent.model_name}_best.pth')"
   ]
  },
  {
   "cell_type": "code",
   "execution_count": 18,
   "metadata": {},
   "outputs": [
    {
     "name": "stdout",
     "output_type": "stream",
     "text": [
      "tensor([ 2.4500, 10.0000,  0.0000,  0.0000,  0.0000,  0.0000,  0.0000,  0.0000,\n",
      "         0.0000,  0.0000,  0.0000,  1.0000,  0.0000,  0.0000,  0.0000])\n",
      "Took action: 1-reaving_fangs @ 0.000\n",
      "(2.6, 200, 192.93)\n",
      "Took action: 3-swiftskins_sting @ 2.450\n",
      "(1.1, 300, 303.48)\n",
      "Took action: 6-hindsting_strike @ 4.900\n",
      "(3.1, 400, 411.0)\n",
      "Took action: 9-death_rattle @ 5.600\n",
      "(4.2, 280, 267.65)\n",
      "Took action: 0-steel_fangs @ 6.980\n",
      "(3.2399999999999998, 300, 296.33)\n",
      "Took action: 3-swiftskins_sting @ 9.060\n",
      "(1.8399999999999999, 300, 285.91)\n",
      "Took action: 6-hindsting_strike @ 11.140\n",
      "(3.84, 400, 389.87)\n",
      "Took action: 9-death_rattle @ 11.840\n",
      "(4.2, 280, 291.8)\n",
      "Took action: 0-steel_fangs @ 13.220\n",
      "(1.2399999999999998, 200, 208.74)\n",
      "Took action: 3-swiftskins_sting @ 15.300\n",
      "(1.8399999999999999, 300, 303.99)\n",
      "Took action: 6-hindsting_strike @ 17.380\n",
      "(3.84, 400, 407.84)\n",
      "Took action: 9-death_rattle @ 18.080\n",
      "(4.2, 280, 273.47)\n",
      "Took action: 0-steel_fangs @ 19.460\n",
      "(1.2399999999999998, 200, 197.56)\n",
      "Took action: 3-swiftskins_sting @ 21.540\n",
      "(1.8399999999999999, 300, 293.73)\n",
      "Took action: 6-hindsting_strike @ 23.620\n",
      "(3.84, 400, 393.3)\n",
      "Took action: 9-death_rattle @ 24.320\n",
      "(4.2, 280, 283.53)\n",
      "Took action: 0-steel_fangs @ 25.700\n",
      "(1.2399999999999998, 200, 196.72)\n",
      "Took action: 3-swiftskins_sting @ 27.780\n",
      "(1.8399999999999999, 300, 289.46)\n",
      "Took action: 6-hindsting_strike @ 29.860\n",
      "(3.84, 400, 393.02)\n",
      "Took action: 9-death_rattle @ 30.560\n",
      "(4.2, 280, 280.16)\n",
      "Took action: 0-steel_fangs @ 31.940\n",
      "(1.2399999999999998, 200, 200.19)\n",
      "Took action: 3-swiftskins_sting @ 34.020\n",
      "(1.8399999999999999, 300, 302.58)\n",
      "Took action: 6-hindsting_strike @ 36.100\n",
      "(3.84, 400, 407.15)\n",
      "Took action: 9-death_rattle @ 36.800\n",
      "(4.2, 280, 289.17)\n",
      "Took action: 0-steel_fangs @ 38.180\n",
      "(1.2399999999999998, 200, 194.53)\n",
      "Took action: 3-swiftskins_sting @ 40.260\n",
      "(1.8399999999999999, 300, 308.68)\n",
      "Took action: 6-hindsting_strike @ 42.340\n",
      "(3.84, 400, 408.35)\n",
      "Took action: 9-death_rattle @ 43.040\n",
      "(4.2, 280, 289.87)\n",
      "Took action: 0-steel_fangs @ 44.420\n",
      "(1.2399999999999998, 200, 202.48)\n",
      "Took action: 3-swiftskins_sting @ 46.500\n",
      "(1.8399999999999999, 300, 311.03)\n",
      "Took action: 6-hindsting_strike @ 48.580\n",
      "(3.84, 400, 409.01)\n",
      "Took action: 9-death_rattle @ 49.280\n",
      "(4.2, 280, 290.39)\n",
      "Took action: 0-steel_fangs @ 50.660\n",
      "(1.2399999999999998, 200, 191.95)\n",
      "Took action: 3-swiftskins_sting @ 52.740\n",
      "(1.8399999999999999, 300, 313.95)\n",
      "Took action: 6-hindsting_strike @ 54.820\n",
      "(3.84, 400, 408.1)\n",
      "Took action: 9-death_rattle @ 55.520\n",
      "(4.2, 280, 289.29)\n",
      "Took action: 0-steel_fangs @ 56.900\n",
      "(1.2399999999999998, 200, 191.5)\n",
      "Took action: 3-swiftskins_sting @ 58.980\n",
      "(1.8399999999999999, 300, 298.18)\n",
      "Took action: 6-hindsting_strike @ 61.060\n",
      "(3.84, 400, 384.62)\n",
      "Took action: 9-death_rattle @ 61.760\n",
      "(4.2, 280, 268.09)\n",
      "Took action: 0-steel_fangs @ 63.140\n",
      "(1.2399999999999998, 200, 192.17)\n",
      "Took action: 3-swiftskins_sting @ 65.220\n",
      "(1.8399999999999999, 300, 287.7)\n",
      "Took action: 6-hindsting_strike @ 67.300\n",
      "(3.84, 400, 413.93)\n",
      "Took action: 9-death_rattle @ 68.000\n",
      "(4.2, 280, 282.83)\n",
      "Took action: 0-steel_fangs @ 69.380\n",
      "(1.2399999999999998, 200, 199.39)\n",
      "Took action: 3-swiftskins_sting @ 71.460\n",
      "(1.8399999999999999, 300, 291.59)\n",
      "Took action: 6-hindsting_strike @ 73.540\n",
      "(3.84, 400, 390.63)\n",
      "Took action: 9-death_rattle @ 74.240\n",
      "(4.2, 280, 272.37)\n",
      "Took action: 0-steel_fangs @ 75.620\n",
      "(1.2399999999999998, 200, 195.95)\n",
      "Took action: 3-swiftskins_sting @ 77.700\n",
      "(1.8399999999999999, 300, 298.29)\n"
     ]
    },
    {
     "data": {
      "text/plain": [
       "138.40000000000003"
      ]
     },
     "execution_count": 18,
     "metadata": {},
     "output_type": "execute_result"
    }
   ],
   "source": [
    "agent.test(num_steps=50)"
   ]
  },
  {
   "cell_type": "code",
   "execution_count": 19,
   "metadata": {},
   "outputs": [
    {
     "data": {
      "text/plain": [
       "tensor([[-0.1253, -0.0698, -0.0342, -0.0017, -0.1405, -0.2093,  0.9101, -0.0172,\n",
       "         -0.0663, -0.0316]], device='cuda:0')"
      ]
     },
     "execution_count": 19,
     "metadata": {},
     "output_type": "execute_result"
    }
   ],
   "source": [
    "agent.predict(agent.env.state())"
   ]
  },
  {
   "cell_type": "code",
   "execution_count": 20,
   "metadata": {},
   "outputs": [
    {
     "data": {
      "text/plain": [
       "tensor([2.0800, 0.7000, 0.9537, 0.0000, 0.0000, 0.9825, 0.9190, 0.0000, 0.0000,\n",
       "        0.0000, 0.0000, 0.0000, 0.0000, 0.0000, 1.0000])"
      ]
     },
     "execution_count": 20,
     "metadata": {},
     "output_type": "execute_result"
    }
   ],
   "source": [
    "agent.env.state()"
   ]
  },
  {
   "cell_type": "code",
   "execution_count": null,
   "metadata": {},
   "outputs": [],
   "source": []
  }
 ],
 "metadata": {
  "kernelspec": {
   "display_name": "deepxiv",
   "language": "python",
   "name": "python3"
  },
  "language_info": {
   "codemirror_mode": {
    "name": "ipython",
    "version": 3
   },
   "file_extension": ".py",
   "mimetype": "text/x-python",
   "name": "python",
   "nbconvert_exporter": "python",
   "pygments_lexer": "ipython3",
   "version": "3.12.4"
  }
 },
 "nbformat": 4,
 "nbformat_minor": 2
}
