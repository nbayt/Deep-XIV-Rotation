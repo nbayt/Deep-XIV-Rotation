{
 "cells": [
  {
   "cell_type": "code",
   "execution_count": 1,
   "metadata": {},
   "outputs": [],
   "source": [
    "import sys\n",
    "import torch\n",
    "import numpy as np\n",
    "import matplotlib.pyplot as plt"
   ]
  },
  {
   "cell_type": "code",
   "execution_count": 2,
   "metadata": {},
   "outputs": [],
   "source": [
    "sys.path.append('/envs')\n",
    "sys.path.append('/models')\n",
    "import envs.viper as vpr\n",
    "import models.models as models\n",
    "import models.dqn as dqn"
   ]
  },
  {
   "cell_type": "code",
   "execution_count": 3,
   "metadata": {},
   "outputs": [
    {
     "data": {
      "text/plain": [
       "<module 'models.dqn' from 'h:\\\\Coding Projects\\\\Python Projects\\\\Deep-XIV-Rotation\\\\models\\\\dqn.py'>"
      ]
     },
     "execution_count": 3,
     "metadata": {},
     "output_type": "execute_result"
    }
   ],
   "source": [
    "import importlib\n",
    "importlib.reload(vpr); importlib.reload(models); importlib.reload(dqn)"
   ]
  },
  {
   "cell_type": "code",
   "execution_count": 4,
   "metadata": {},
   "outputs": [
    {
     "name": "stdout",
     "output_type": "stream",
     "text": [
      "b123\n"
     ]
    }
   ],
   "source": [
    "viper_env = vpr.Viper(_sks = 798)"
   ]
  },
  {
   "cell_type": "code",
   "execution_count": 5,
   "metadata": {},
   "outputs": [],
   "source": [
    "torch.cuda.empty_cache()"
   ]
  },
  {
   "cell_type": "code",
   "execution_count": 6,
   "metadata": {},
   "outputs": [],
   "source": [
    "#state = viper_env.state()\n",
    "#state[None, :]"
   ]
  },
  {
   "cell_type": "code",
   "execution_count": 7,
   "metadata": {},
   "outputs": [],
   "source": [
    "#state.unsqueeze(0)"
   ]
  },
  {
   "cell_type": "code",
   "execution_count": 8,
   "metadata": {},
   "outputs": [
    {
     "name": "stdout",
     "output_type": "stream",
     "text": [
      "Created a model with 15 features and 10 actions.\n",
      "Model loaded onto cuda:0.\n",
      "==========================================================================================\n",
      "Layer (type:depth-idx)                   Output Shape              Param #\n",
      "==========================================================================================\n",
      "DenseNet                                 [2048, 10]                --\n",
      "├─Sequential: 1-1                        [2048, 10]                --\n",
      "│    └─Linear: 2-1                       [2048, 4096]              65,536\n",
      "│    └─ReLU: 2-2                         [2048, 4096]              --\n",
      "│    └─Linear: 2-3                       [2048, 2048]              8,390,656\n",
      "│    └─BatchNorm1d: 2-4                  [2048, 2048]              4,096\n",
      "│    └─ReLU: 2-5                         [2048, 2048]              --\n",
      "│    └─Dropout: 2-6                      [2048, 2048]              --\n",
      "│    └─Linear: 2-7                       [2048, 2048]              4,196,352\n",
      "│    └─ReLU: 2-8                         [2048, 2048]              --\n",
      "│    └─Linear: 2-9                       [2048, 1024]              2,098,176\n",
      "│    └─ReLU: 2-10                        [2048, 1024]              --\n",
      "│    └─Linear: 2-11                      [2048, 10]                10,250\n",
      "==========================================================================================\n",
      "Total params: 14,765,066\n",
      "Trainable params: 14,765,066\n",
      "Non-trainable params: 0\n",
      "Total mult-adds (Units.GIGABYTES): 30.24\n",
      "==========================================================================================\n",
      "Input size (MB): 0.12\n",
      "Forward/backward pass size (MB): 184.71\n",
      "Params size (MB): 59.06\n",
      "Estimated Total Size (MB): 243.90\n",
      "==========================================================================================\n"
     ]
    }
   ],
   "source": [
    "agent = dqn.DQN(viper_env, max_history=2048)"
   ]
  },
  {
   "cell_type": "code",
   "execution_count": 9,
   "metadata": {},
   "outputs": [
    {
     "data": {
      "text/plain": [
       "2.08"
      ]
     },
     "execution_count": 9,
     "metadata": {},
     "output_type": "execute_result"
    }
   ],
   "source": [
    "viper_env.compute_gcd(2.5, 798, 15)"
   ]
  },
  {
   "cell_type": "code",
   "execution_count": 10,
   "metadata": {},
   "outputs": [],
   "source": [
    "action_sequence=[1, 3, 6, 9, 0, 2, 5, 0, 0]"
   ]
  },
  {
   "cell_type": "code",
   "execution_count": 11,
   "metadata": {},
   "outputs": [
    {
     "name": "stdout",
     "output_type": "stream",
     "text": [
      "tensor([ 2.4500, 10.0000,  0.0000,  0.0000,  0.0000,  0.0000,  0.0000,  0.0000,\n",
      "         0.0000,  0.0000,  0.0000,  1.0000,  0.0000,  0.0000,  0.0000])\n",
      "Took action: 1-reaving_fangs @ 0.000\n",
      "(2.6, 200, 208.24)\n",
      "tensor([ 2.4500,  0.7000,  0.0000, 59.3000,  0.0000,  0.0000,  0.0000,  0.0000,\n",
      "         0.0000,  0.0000,  0.0000,  0.0000,  1.0000,  0.0000,  0.0000])\n",
      "Took action: 3-swiftskins_sting @ 2.450\n",
      "(1.1, 300, 313.54)\n",
      "tensor([ 2.4500,  0.7000,  0.0000, 56.8500,  0.0000, 39.3000,  0.0000,  0.0000,\n",
      "         0.0000,  0.0000,  0.0000,  0.0000,  0.0000,  0.0000,  1.0000])\n",
      "Took action: 6-hindsting_strike @ 4.900\n",
      "(3.1, 400, 410.93)\n",
      "tensor([ 2.0800,  0.7000,  0.0000, 54.4000,  0.0000, 36.8500, 59.3000,  0.0000,\n",
      "         0.0000,  0.0000,  1.0000,  1.0000,  0.0000,  0.0000,  0.0000])\n",
      "Took action: 9-death_rattle @ 5.600\n",
      "(4.2, 280, 280.35)\n",
      "tensor([ 2.0800,  1.4000,  0.0000, 53.7000,  0.0000, 36.1500, 58.6000,  0.0000,\n",
      "         0.0000,  0.0000,  0.0000,  1.0000,  0.0000,  0.0000,  0.0000])\n",
      "Took action: 0-steel_fangs @ 6.980\n",
      "(3.2399999999999998, 300, 304.04)\n",
      "tensor([ 2.0800,  0.7000, 59.3000,  0.0000,  0.0000, 34.7700, 57.2200,  0.0000,\n",
      "         0.0000,  0.0000,  0.0000,  0.0000,  1.0000,  0.0000,  0.0000])\n",
      "Took action: 2-hunters_sting @ 9.060\n",
      "(1.8399999999999999, 300, 292.18)\n",
      "tensor([ 2.0800,  0.7000, 57.2200,  0.0000, 39.3000, 32.6900, 55.1400,  0.0000,\n",
      "         0.0000,  0.0000,  0.0000,  0.0000,  0.0000,  1.0000,  0.0000])\n",
      "Took action: 5-flanksbane_fang @ 11.140\n",
      "(6.840000000000001, 550.0, 554.51)\n",
      "tensor([ 2.0800,  0.7000, 55.1400,  0.0000, 37.2200, 30.6100,  0.0000,  0.0000,\n",
      "        59.3000,  0.0000,  1.0000,  1.0000,  0.0000,  0.0000,  0.0000])\n",
      "Took action: 0-steel_fangs @ 13.220\n",
      "(0.24000000000000057, 220.00000000000003, 219.12)\n",
      "tensor([ 2.0800,  0.7000, 59.3000,  0.0000, 35.1400, 28.5300,  0.0000,  0.0000,\n",
      "        57.2200,  0.0000,  0.0000,  0.0000,  1.0000,  0.0000,  0.0000])\n",
      "Took action: 0-steel_fangs @ 13.920\n",
      "(-2.0, 0.0, 0.0)\n",
      "tensor([ 2.0800,  0.8000, 59.2000,  0.0000, 35.0400, 28.4300,  0.0000,  0.0000,\n",
      "        57.1200,  0.0000,  0.0000,  0.0000,  1.0000,  0.0000,  0.0000])\n"
     ]
    }
   ],
   "source": [
    "print(viper_env.state())\n",
    "for action in action_sequence:\n",
    "    print(viper_env.step(action, _verbose=True))\n",
    "    print(viper_env.state())"
   ]
  },
  {
   "cell_type": "code",
   "execution_count": 12,
   "metadata": {},
   "outputs": [
    {
     "name": "stdout",
     "output_type": "stream",
     "text": [
      "tensor([ 2.4500, 10.0000,  0.0000,  0.0000,  0.0000,  0.0000,  0.0000,  0.0000,\n",
      "         0.0000,  0.0000,  0.0000,  1.0000,  0.0000,  0.0000,  0.0000])\n",
      "([True, True, False, False, False, False, False, False, False, False], [0, 1])\n",
      "[1]\n"
     ]
    }
   ],
   "source": [
    "agent.env.reset_env()\n",
    "print(agent.env.state())\n",
    "print(agent.env.valid_actions())\n",
    "print([np.random.choice(agent.env.valid_actions()[1])])"
   ]
  },
  {
   "cell_type": "code",
   "execution_count": 13,
   "metadata": {},
   "outputs": [
    {
     "data": {
      "text/plain": [
       "tensor(2, dtype=torch.int32)"
      ]
     },
     "execution_count": 13,
     "metadata": {},
     "output_type": "execute_result"
    }
   ],
   "source": [
    "agent.get_action(agent.env.state(), e=1)[0]"
   ]
  },
  {
   "cell_type": "code",
   "execution_count": 14,
   "metadata": {},
   "outputs": [
    {
     "name": "stdout",
     "output_type": "stream",
     "text": [
      "Epoch 0 Loss: 0.005 E: 0.149 G: 0.50 Rewards: -494.2 Eval Rewards: -100.00\n",
      "Epoch 1 Loss: 0.004 E: 0.177 G: 0.50 Rewards: -588.2 Eval Rewards: -95.40\n",
      "Epoch 2 Loss: 0.004 E: 0.207 G: 0.50 Rewards: -522.8 Eval Rewards: -100.00\n",
      "Epoch 3 Loss: 0.004 E: 0.239 G: 0.50 Rewards: -506.2 Eval Rewards: -100.00\n",
      "Epoch 4 Loss: 0.004 E: 0.272 G: 0.50 Rewards: -563.5 Eval Rewards: -100.00\n",
      "Epoch 5 Loss: 0.004 E: 0.307 G: 0.50 Rewards: -556.7 Eval Rewards: -100.00\n",
      "Epoch 6 Loss: 0.004 E: 0.343 G: 0.50 Rewards: -565.4 Eval Rewards: -100.00\n",
      "Epoch 7 Loss: 0.004 E: 0.380 G: 0.50 Rewards: -580.2 Eval Rewards: -100.00\n",
      "Epoch 8 Loss: 0.004 E: 0.417 G: 0.50 Rewards: -479.1 Eval Rewards: -100.00\n",
      "Epoch 9 Loss: 0.004 E: 0.455 G: 0.50 Rewards: -489.1 Eval Rewards: -100.00\n",
      "Epoch 10 Loss: 0.004 E: 0.494 G: 0.50 Rewards: -584.3 Eval Rewards: -100.00\n",
      "Epoch 11 Loss: 0.004 E: 0.532 G: 0.50 Rewards: -568.2 Eval Rewards: -100.00\n",
      "Epoch 12 Loss: 0.004 E: 0.570 G: 0.50 Rewards: -568.2 Eval Rewards: -100.00\n",
      "Epoch 13 Loss: 0.004 E: 0.608 G: 0.50 Rewards: -535.2 Eval Rewards: -100.00\n",
      "Epoch 14 Loss: 0.004 E: 0.645 G: 0.50 Rewards: -578.7 Eval Rewards: -100.00\n",
      "Epoch 15 Loss: 0.004 E: 0.681 G: 0.50 Rewards: -560.6 Eval Rewards: -100.00\n",
      "Epoch 16 Loss: 0.004 E: 0.716 G: 0.50 Rewards: -594.5 Eval Rewards: -83.70\n",
      "Epoch 17 Loss: 0.004 E: 0.750 G: 0.50 Rewards: -477.7 Eval Rewards: -95.40\n",
      "Epoch 18 Loss: 0.004 E: 0.782 G: 0.50 Rewards: -541.4 Eval Rewards: -92.30\n",
      "Epoch 19 Loss: 0.004 E: 0.813 G: 0.50 Rewards: -545.1 Eval Rewards: -92.30\n",
      "Epoch 20 Loss: 0.004 E: 0.842 G: 0.50 Rewards: -536.4 Eval Rewards: -92.30\n",
      "Epoch 21 Loss: 0.004 E: 0.869 G: 0.50 Rewards: -506.2 Eval Rewards: -100.00\n",
      "Epoch 22 Loss: 0.004 E: 0.894 G: 0.50 Rewards: -534.8 Eval Rewards: -100.00\n",
      "Epoch 23 Loss: 0.004 E: 0.916 G: 0.50 Rewards: -537.5 Eval Rewards: -100.00\n",
      "Epoch 24 Loss: 0.004 E: 0.936 G: 0.50 Rewards: -538.6 Eval Rewards: -100.00\n",
      "Epoch 25 Loss: 0.004 E: 0.954 G: 0.50 Rewards: -584.3 Eval Rewards: -87.20\n",
      "Epoch 26 Loss: 0.004 E: 0.968 G: 0.50 Rewards: -561.5 Eval Rewards: -87.20\n",
      "Epoch 27 Loss: 0.004 E: 0.980 G: 0.50 Rewards: -492.8 Eval Rewards: -95.40\n",
      "Epoch 28 Loss: 0.004 E: 0.990 G: 0.50 Rewards: -474.4 Eval Rewards: -95.40\n",
      "Epoch 29 Loss: 0.004 E: 0.996 G: 0.50 Rewards: -517.4 Eval Rewards: -95.40\n",
      "Epoch 30 Loss: 0.004 E: 0.999 G: 0.50 Rewards: -507.5 Eval Rewards: -95.40\n",
      "Epoch 31 Loss: 0.004 E: 1.000 G: 0.50 Rewards: -555.7 Eval Rewards: -82.70\n",
      "Epoch 32 Loss: 0.004 E: 0.997 G: 0.50 Rewards: -488.6 Eval Rewards: -69.60\n",
      "Epoch 33 Loss: 0.004 E: 0.992 G: 0.50 Rewards: -507.2 Eval Rewards: -100.00\n",
      "Epoch 34 Loss: 0.004 E: 0.984 G: 0.50 Rewards: -516.2 Eval Rewards: -100.00\n",
      "Epoch 35 Loss: 0.004 E: 0.973 G: 0.50 Rewards: -458.2 Eval Rewards: -100.00\n",
      "Epoch 36 Loss: 0.004 E: 0.959 G: 0.50 Rewards: -543.7 Eval Rewards: -100.00\n",
      "Epoch 37 Loss: 0.004 E: 0.942 G: 0.50 Rewards: -517.4 Eval Rewards: -100.00\n",
      "Epoch 38 Loss: 0.004 E: 0.923 G: 0.50 Rewards: -524.8 Eval Rewards: -87.20\n",
      "Epoch 39 Loss: 0.004 E: 0.901 G: 0.50 Rewards: -453.4 Eval Rewards: -87.20\n",
      "Epoch 40 Loss: 0.004 E: 0.877 G: 0.50 Rewards: -413.6 Eval Rewards: -86.40\n",
      "Epoch 41 Loss: 0.004 E: 0.851 G: 0.50 Rewards: -435.6 Eval Rewards: -86.40\n",
      "Epoch 42 Loss: 0.004 E: 0.823 G: 0.50 Rewards: -496.0 Eval Rewards: -86.40\n",
      "Epoch 43 Loss: 0.004 E: 0.793 G: 0.50 Rewards: -492.2 Eval Rewards: -86.40\n",
      "Epoch 44 Loss: 0.004 E: 0.761 G: 0.50 Rewards: -445.3 Eval Rewards: -86.40\n",
      "Epoch 45 Loss: 0.005 E: 0.728 G: 0.50 Rewards: -371.8 Eval Rewards: -100.00\n",
      "Epoch 46 Loss: 0.005 E: 0.693 G: 0.50 Rewards: -422.1 Eval Rewards: -92.30\n",
      "Epoch 47 Loss: 0.005 E: 0.657 G: 0.50 Rewards: -378.6 Eval Rewards: -92.30\n",
      "Epoch 48 Loss: 0.005 E: 0.620 G: 0.50 Rewards: -417.4 Eval Rewards: -92.30\n",
      "Epoch 49 Loss: 0.005 E: 0.583 G: 0.50 Rewards: -433.2 Eval Rewards: -86.40\n",
      "Epoch 50 Loss: 0.005 E: 0.545 G: 0.50 Rewards: -454.7 Eval Rewards: -95.40\n",
      "Epoch 51 Loss: 0.005 E: 0.506 G: 0.50 Rewards: -503.6 Eval Rewards: -95.40\n",
      "Epoch 52 Loss: 0.005 E: 0.468 G: 0.50 Rewards: -378.0 Eval Rewards: -95.40\n",
      "Epoch 53 Loss: 0.005 E: 0.430 G: 0.50 Rewards: -437.7 Eval Rewards: -86.40\n",
      "Epoch 54 Loss: 0.005 E: 0.392 G: 0.50 Rewards: -474.7 Eval Rewards: -86.40\n",
      "Epoch 55 Loss: 0.005 E: 0.355 G: 0.50 Rewards: -462.8 Eval Rewards: -86.40\n",
      "Epoch 56 Loss: 0.004 E: 0.319 G: 0.50 Rewards: -545.4 Eval Rewards: -86.40\n",
      "Epoch 57 Loss: 0.004 E: 0.284 G: 0.50 Rewards: -459.1 Eval Rewards: -86.40\n",
      "Epoch 58 Loss: 0.004 E: 0.250 G: 0.50 Rewards: -455.0 Eval Rewards: -86.40\n",
      "Epoch 59 Loss: 0.004 E: 0.218 G: 0.50 Rewards: -326.2 Eval Rewards: -86.40\n",
      "Epoch 60 Loss: 0.004 E: 0.187 G: 0.50 Rewards: -399.2 Eval Rewards: -86.40\n",
      "Epoch 61 Loss: 0.004 E: 0.158 G: 0.50 Rewards: -431.5 Eval Rewards: -95.40\n",
      "Epoch 62 Loss: 0.005 E: 0.131 G: 0.50 Rewards: -433.8 Eval Rewards: -95.40\n",
      "Epoch 63 Loss: 0.005 E: 0.106 G: 0.50 Rewards: -430.1 Eval Rewards: -95.40\n",
      "Epoch 64 Loss: 0.005 E: 0.000 G: 0.50 Rewards: -422.0 Eval Rewards: -95.40\n",
      "Epoch 65 Loss: 0.005 E: 0.000 G: 0.50 Rewards: -406.6 Eval Rewards: -82.60\n",
      "Epoch 66 Loss: 0.005 E: 0.000 G: 0.50 Rewards: -408.0 Eval Rewards: -82.96\n",
      "Epoch 67 Loss: 0.004 E: 0.000 G: 0.50 Rewards: -449.6 Eval Rewards: -82.60\n",
      "Epoch 68 Loss: 0.004 E: 0.000 G: 0.50 Rewards: -457.2 Eval Rewards: -86.40\n",
      "Epoch 69 Loss: 0.005 E: 0.000 G: 0.50 Rewards: -373.2 Eval Rewards: -86.40\n",
      "Epoch 70 Loss: 0.004 E: 0.000 G: 0.50 Rewards: -348.7 Eval Rewards: -79.00\n",
      "Epoch 71 Loss: 0.004 E: 0.000 G: 0.50 Rewards: -500.2 Eval Rewards: -79.00\n",
      "Epoch 72 Loss: 0.004 E: 0.000 G: 0.50 Rewards: -457.8 Eval Rewards: -79.00\n",
      "Epoch 73 Loss: 0.005 E: 0.000 G: 0.50 Rewards: -468.4 Eval Rewards: -69.60\n",
      "Epoch 74 Loss: 0.004 E: 0.000 G: 0.50 Rewards: -501.9 Eval Rewards: -82.70\n",
      "Epoch 75 Loss: 0.005 E: 0.000 G: 0.50 Rewards: -375.0 Eval Rewards: -82.70\n",
      "Epoch 76 Loss: 0.005 E: 0.000 G: 0.50 Rewards: -392.2 Eval Rewards: -86.40\n",
      "Epoch 77 Loss: 0.005 E: 0.000 G: 0.50 Rewards: -463.6 Eval Rewards: -86.40\n",
      "Epoch 78 Loss: 0.004 E: 0.000 G: 0.50 Rewards: -501.1 Eval Rewards: -86.40\n",
      "Epoch 79 Loss: 0.004 E: 0.000 G: 0.50 Rewards: -515.0 Eval Rewards: -86.40\n",
      "Epoch 80 Loss: 0.004 E: 0.000 G: 0.50 Rewards: -485.0 Eval Rewards: -67.40\n",
      "Epoch 81 Loss: 0.004 E: 0.123 G: 0.50 Rewards: -499.3 Eval Rewards: -87.20\n",
      "Epoch 82 Loss: 0.004 E: 0.149 G: 0.50 Rewards: -476.8 Eval Rewards: -83.36\n",
      "Epoch 83 Loss: 0.004 E: 0.177 G: 0.50 Rewards: -458.2 Eval Rewards: -71.68\n",
      "Epoch 84 Loss: 0.004 E: 0.207 G: 0.50 Rewards: -518.5 Eval Rewards: -73.68\n",
      "Epoch 85 Loss: 0.004 E: 0.239 G: 0.50 Rewards: -471.1 Eval Rewards: -79.00\n",
      "Epoch 86 Loss: 0.004 E: 0.272 G: 0.50 Rewards: -479.4 Eval Rewards: -79.00\n",
      "Epoch 87 Loss: 0.004 E: 0.307 G: 0.50 Rewards: -466.9 Eval Rewards: -79.00\n",
      "Epoch 88 Loss: 0.004 E: 0.343 G: 0.50 Rewards: -502.5 Eval Rewards: -73.10\n",
      "Epoch 89 Loss: 0.004 E: 0.380 G: 0.50 Rewards: -506.9 Eval Rewards: -73.10\n",
      "Epoch 90 Loss: 0.004 E: 0.417 G: 0.50 Rewards: -477.6 Eval Rewards: -69.60\n",
      "Epoch 91 Loss: 0.004 E: 0.455 G: 0.50 Rewards: -499.7 Eval Rewards: -86.40\n",
      "Epoch 92 Loss: 0.004 E: 0.494 G: 0.50 Rewards: -509.0 Eval Rewards: -86.40\n",
      "Epoch 93 Loss: 0.004 E: 0.532 G: 0.50 Rewards: -573.1 Eval Rewards: -86.40\n",
      "Epoch 94 Loss: 0.004 E: 0.570 G: 0.50 Rewards: -437.8 Eval Rewards: -86.40\n",
      "Epoch 95 Loss: 0.004 E: 0.608 G: 0.50 Rewards: -479.0 Eval Rewards: -87.20\n",
      "Epoch 96 Loss: 0.004 E: 0.645 G: 0.50 Rewards: -544.5 Eval Rewards: -70.90\n",
      "Epoch 97 Loss: 0.004 E: 0.681 G: 0.50 Rewards: -557.6 Eval Rewards: -70.90\n",
      "Epoch 98 Loss: 0.004 E: 0.716 G: 0.50 Rewards: -537.4 Eval Rewards: -70.90\n",
      "Epoch 99 Loss: 0.004 E: 0.750 G: 0.50 Rewards: -545.4 Eval Rewards: -70.90\n",
      "Done\n"
     ]
    }
   ],
   "source": [
    "history_x, history_y = agent.train(gamma=0.75, num_epochs=50, session_limit=400,\n",
    "            starting_e=0.95, min_e=0.15, e_decay_factor=0.98)"
   ]
  },
  {
   "cell_type": "code",
   "execution_count": 15,
   "metadata": {},
   "outputs": [
    {
     "data": {
      "image/png": "[encoded data removed]",
      "text/plain": [
       "<Figure size 640x480 with 1 Axes>"
      ]
     },
     "metadata": {},
     "output_type": "display_data"
    }
   ],
   "source": [
    "fig, ax = plt.subplots()\n",
    "fig.suptitle('AA')\n",
    "ax.plot(history_x, history_y)\n",
    "ax.legend(['Train Rewards', 'Eval Rewards'])\n",
    "ax.set_xlabel('Epoch')\n",
    "ax.set_ylabel('Rewards')\n",
    "plt.show()"
   ]
  },
  {
   "cell_type": "code",
   "execution_count": 16,
   "metadata": {},
   "outputs": [
    {
     "name": "stderr",
     "output_type": "stream",
     "text": [
      "h:\\Coding Projects\\Python Projects\\Deep-XIV-Rotation\\models\\dqn.py:240: FutureWarning: You are using `torch.load` with `weights_only=False` (the current default value), which uses the default pickle module implicitly. It is possible to construct malicious pickle data which will execute arbitrary code during unpickling (See https://github.com/pytorch/pytorch/blob/main/SECURITY.md#untrusted-models for more details). In a future release, the default value for `weights_only` will be flipped to `True`. This limits the functions that could be executed during unpickling. Arbitrary objects will no longer be allowed to be loaded via this mode unless they are explicitly allowlisted by the user via `torch.serialization.add_safe_globals`. We recommend you start setting `weights_only=True` for any use case where you don't have full control of the loaded file. Please open an issue on GitHub for any issues related to this experimental feature.\n",
      "  checkpoint = torch.load(path)\n"
     ]
    }
   ],
   "source": [
    "agent.load_checkpoint('./checkpoints/_dense_best.pth')"
   ]
  },
  {
   "cell_type": "code",
   "execution_count": 17,
   "metadata": {},
   "outputs": [
    {
     "name": "stdout",
     "output_type": "stream",
     "text": [
      "tensor([ 2.4500, 10.0000,  0.0000,  0.0000,  0.0000,  0.0000,  0.0000,  0.0000,\n",
      "         0.0000,  0.0000,  0.0000,  1.0000,  0.0000,  0.0000,  0.0000])\n",
      "Took action: 1-reaving_fangs @ 0.000\n",
      "(2.6, 200, 191.35)\n",
      "Took action: 2-hunters_sting @ 2.450\n",
      "(1.1, 300, 294.03)\n",
      "Took action: 5-flanksbane_fang @ 4.900\n",
      "(3.9000000000000012, 440.00000000000006, 425.82)\n",
      "Took action: 3-swiftskins_sting @ 5.600\n",
      "(-2.0, 0.0, 0.0)\n",
      "Took action: 3-swiftskins_sting @ 5.700\n",
      "(-2.0, 0.0, 0.0)\n",
      "Took action: 3-swiftskins_sting @ 5.800\n",
      "(-2.0, 0.0, 0.0)\n",
      "Took action: 3-swiftskins_sting @ 5.900\n",
      "(-2.0, 0.0, 0.0)\n",
      "Took action: 3-swiftskins_sting @ 6.000\n",
      "(-2.0, 0.0, 0.0)\n",
      "Took action: 3-swiftskins_sting @ 6.100\n",
      "(-2.0, 0.0, 0.0)\n",
      "Took action: 3-swiftskins_sting @ 6.200\n",
      "(-2.0, 0.0, 0.0)\n",
      "Took action: 3-swiftskins_sting @ 6.300\n",
      "(-2.0, 0.0, 0.0)\n",
      "Took action: 3-swiftskins_sting @ 6.400\n",
      "(-2.0, 0.0, 0.0)\n",
      "Took action: 3-swiftskins_sting @ 6.500\n",
      "(-2.0, 0.0, 0.0)\n",
      "Took action: 3-swiftskins_sting @ 6.600\n",
      "(-2.0, 0.0, 0.0)\n",
      "Took action: 3-swiftskins_sting @ 6.700\n",
      "(-2.0, 0.0, 0.0)\n",
      "Took action: 3-swiftskins_sting @ 6.800\n",
      "(-2.0, 0.0, 0.0)\n",
      "Took action: 3-swiftskins_sting @ 6.900\n",
      "(-2.0, 0.0, 0.0)\n",
      "Took action: 3-swiftskins_sting @ 7.000\n",
      "(-2.0, 0.0, 0.0)\n",
      "Took action: 3-swiftskins_sting @ 7.100\n",
      "(-2.0, 0.0, 0.0)\n",
      "Took action: 3-swiftskins_sting @ 7.200\n",
      "(-2.0, 0.0, 0.0)\n",
      "Took action: 3-swiftskins_sting @ 7.300\n",
      "(-2.0, 0.0, 0.0)\n",
      "Took action: 3-swiftskins_sting @ 7.400\n",
      "(-2.0, 0.0, 0.0)\n",
      "Took action: 3-swiftskins_sting @ 7.500\n",
      "(-2.0, 0.0, 0.0)\n",
      "Took action: 3-swiftskins_sting @ 7.600\n",
      "(-2.0, 0.0, 0.0)\n",
      "Took action: 3-swiftskins_sting @ 7.700\n",
      "(-2.0, 0.0, 0.0)\n",
      "Took action: 3-swiftskins_sting @ 7.800\n",
      "(-2.0, 0.0, 0.0)\n",
      "Took action: 3-swiftskins_sting @ 7.900\n",
      "(-2.0, 0.0, 0.0)\n",
      "Took action: 0-steel_fangs @ 8.000\n",
      "(5.2, 330.0, 322.06)\n",
      "Took action: 3-swiftskins_sting @ 10.450\n",
      "(1.7, 330.0, 337.13)\n",
      "Took action: 7-hindsbane_fang @ 12.900\n",
      "(6.1, 550.0, 554.36)\n"
     ]
    }
   ],
   "source": [
    "agent.test(num_steps=30)"
   ]
  },
  {
   "cell_type": "code",
   "execution_count": 18,
   "metadata": {},
   "outputs": [
    {
     "data": {
      "text/plain": [
       "tensor([[-0.4517, -0.4440, -0.4547, -0.2461, -0.3345, -0.3650, -0.1896, -0.3655,\n",
       "         -0.3918, -0.3753]], device='cuda:0')"
      ]
     },
     "execution_count": 18,
     "metadata": {},
     "output_type": "execute_result"
    }
   ],
   "source": [
    "agent.predict(agent.env.state())"
   ]
  },
  {
   "cell_type": "code",
   "execution_count": 19,
   "metadata": {},
   "outputs": [
    {
     "data": {
      "text/plain": [
       "tensor([ 2.0800,  0.7000, 54.4000,  0.0000, 28.8500, 36.8500,  0.0000, 59.3000,\n",
       "         0.0000,  0.0000,  1.0000,  1.0000,  0.0000,  0.0000,  0.0000])"
      ]
     },
     "execution_count": 19,
     "metadata": {},
     "output_type": "execute_result"
    }
   ],
   "source": [
    "agent.env.state()"
   ]
  },
  {
   "cell_type": "code",
   "execution_count": null,
   "metadata": {},
   "outputs": [],
   "source": []
  }
 ],
 "metadata": {
  "kernelspec": {
   "display_name": "deepxiv",
   "language": "python",
   "name": "python3"
  },
  "language_info": {
   "codemirror_mode": {
    "name": "ipython",
    "version": 3
   },
   "file_extension": ".py",
   "mimetype": "text/x-python",
   "name": "python",
   "nbconvert_exporter": "python",
   "pygments_lexer": "ipython3",
   "version": "3.12.4"
  }
 },
 "nbformat": 4,
 "nbformat_minor": 2
}
